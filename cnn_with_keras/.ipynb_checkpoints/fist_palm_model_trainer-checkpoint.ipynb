{
 "cells": [
  {
   "cell_type": "code",
   "execution_count": 9,
   "metadata": {},
   "outputs": [],
   "source": [
    "import numpy as np\n",
    "from PIL import Image\n",
    "import matplotlib.pyplot as plt\n",
    "from matplotlib import style\n",
    "style.use('fivethirtyeight')\n",
    "%matplotlib inline\n",
    "import glob\n",
    "import os\n",
    "from collections import Counter\n",
    "import pandas as pd\n",
    "import time\n",
    "import cv2\n",
    "\n",
    "from __future__ import print_function\n",
    "import keras\n",
    "from keras.datasets import mnist\n",
    "from keras.layers import Dense, Flatten\n",
    "from keras.layers import Conv2D, MaxPooling2D\n",
    "from keras.models import Sequential"
   ]
  },
  {
   "cell_type": "code",
   "execution_count": 20,
   "metadata": {},
   "outputs": [],
   "source": [
    "def load_data(path):\n",
    "    x_train=[]\n",
    "    y_train=[]\n",
    "    x_test=[]\n",
    "    y_test=[]\n",
    "    split=0.3\n",
    "\n",
    "    folders=os.listdir(path)\n",
    "    for folder in folders:\n",
    "        i=0\n",
    "        images_in_folder=os.listdir(path+folder)\n",
    "        split_size=len(images_in_folder)*split\n",
    "        for image in images_in_folder:\n",
    "            i+=1\n",
    "            img=Image.open(path+folder+'/'+image).convert('LA')\n",
    "            image_array=np.array(img)\n",
    "            #gray = cv2.cvtColor(image_array, cv2.COLOR_BGR2GRAY)\n",
    "            image_array=cv2.resize(image_array,(28,28))\n",
    "            if i>=split_size:\n",
    "                x_train.append(image_array)\n",
    "                y_train.append(folder)\n",
    "            else:\n",
    "                x_test.append(image_array)\n",
    "                y_test.append(folder)\n",
    "\n",
    "    return (np.array(x_train),np.array(y_train)),(np.array(x_test),np.array(y_test))"
   ]
  },
  {
   "cell_type": "code",
   "execution_count": 21,
   "metadata": {},
   "outputs": [],
   "source": [
    "batch_size = 20\n",
    "num_classes = 2\n",
    "epochs = 10\n",
    "img_x, img_y = 28, 28\n",
    "path=\"C:/Users/hp/machine_learning/mouse_clicking/training_data/\""
   ]
  },
  {
   "cell_type": "code",
   "execution_count": 25,
   "metadata": {},
   "outputs": [],
   "source": [
    "(x_train, y_train), (x_test, y_test) = load_data(path)"
   ]
  },
  {
   "cell_type": "code",
   "execution_count": 35,
   "metadata": {},
   "outputs": [],
   "source": [
    "y_train[y_train==\"palm\"]=0\n",
    "y_train[y_train==\"fist\"]=1\n",
    "y_test[y_test==\"palm\"]=0\n",
    "y_test[y_test==\"fist\"]=1"
   ]
  },
  {
   "cell_type": "code",
   "execution_count": 36,
   "metadata": {},
   "outputs": [],
   "source": [
    "x_train = x_train.reshape(x_train.shape[0], img_x, img_y, 2)\n",
    "x_test = x_test.reshape(x_test.shape[0], img_x, img_y, 2)\n",
    "input_shape = (img_x, img_y, 2)"
   ]
  },
  {
   "cell_type": "code",
   "execution_count": 37,
   "metadata": {},
   "outputs": [
    {
     "name": "stdout",
     "output_type": "stream",
     "text": [
      "x_train shape: (280, 28, 28, 2)\n",
      "280 train samples\n",
      "118 test samples\n"
     ]
    }
   ],
   "source": [
    "x_train = x_train.astype('float32')\n",
    "x_test = x_test.astype('float32')\n",
    "x_train /= 255\n",
    "x_test /= 255\n",
    "print('x_train shape:', x_train.shape)\n",
    "print(x_train.shape[0], 'train samples')\n",
    "print(x_test.shape[0], 'test samples')"
   ]
  },
  {
   "cell_type": "code",
   "execution_count": 38,
   "metadata": {},
   "outputs": [],
   "source": [
    "y_train = keras.utils.to_categorical(y_train, num_classes)\n",
    "y_test = keras.utils.to_categorical(y_test, num_classes)"
   ]
  },
  {
   "cell_type": "code",
   "execution_count": 39,
   "metadata": {},
   "outputs": [],
   "source": [
    "model = Sequential()\n",
    "model.add(Conv2D(32, kernel_size=(5, 5), strides=(1, 1),\n",
    "                 activation='relu',\n",
    "                 input_shape=input_shape))\n",
    "model.add(MaxPooling2D(pool_size=(2, 2), strides=(2, 2)))\n",
    "model.add(Conv2D(64, (5, 5), activation='relu'))\n",
    "model.add(MaxPooling2D(pool_size=(2, 2)))\n",
    "model.add(Flatten())\n",
    "model.add(Dense(1000, activation='relu'))\n",
    "model.add(Dense(num_classes, activation='softmax'))\n",
    "\n",
    "model.compile(loss=keras.losses.categorical_crossentropy,\n",
    "              optimizer=keras.optimizers.Adam(),\n",
    "              metrics=['accuracy'])"
   ]
  },
  {
   "cell_type": "code",
   "execution_count": 40,
   "metadata": {},
   "outputs": [],
   "source": [
    "class AccuracyHistory(keras.callbacks.Callback):\n",
    "    def on_train_begin(self, logs={}):\n",
    "        self.acc = []\n",
    "\n",
    "    def on_epoch_end(self, batch, logs={}):\n",
    "        self.acc.append(logs.get('acc'))"
   ]
  },
  {
   "cell_type": "code",
   "execution_count": 41,
   "metadata": {},
   "outputs": [],
   "source": [
    "history = AccuracyHistory()"
   ]
  },
  {
   "cell_type": "code",
   "execution_count": 42,
   "metadata": {},
   "outputs": [
    {
     "name": "stdout",
     "output_type": "stream",
     "text": [
      "Train on 280 samples, validate on 118 samples\n",
      "Epoch 1/10\n",
      "280/280 [==============================] - 6s 21ms/step - loss: 0.6515 - acc: 0.6964 - val_loss: 0.6087 - val_acc: 0.7034\n",
      "Epoch 2/10\n",
      "280/280 [==============================] - 1s 3ms/step - loss: 0.6205 - acc: 0.7000 - val_loss: 0.6098 - val_acc: 0.7034\n",
      "Epoch 3/10\n",
      "280/280 [==============================] - 1s 3ms/step - loss: 0.6112 - acc: 0.7000 - val_loss: 0.6093 - val_acc: 0.7034\n",
      "Epoch 4/10\n",
      "280/280 [==============================] - 1s 3ms/step - loss: 0.6149 - acc: 0.7000 - val_loss: 0.6078 - val_acc: 0.7034\n",
      "Epoch 5/10\n",
      "280/280 [==============================] - 1s 3ms/step - loss: 0.6226 - acc: 0.7000 - val_loss: 0.6149 - val_acc: 0.7034\n",
      "Epoch 6/10\n",
      "280/280 [==============================] - 1s 3ms/step - loss: 0.6278 - acc: 0.7000 - val_loss: 0.6210 - val_acc: 0.7034\n",
      "Epoch 7/10\n",
      "280/280 [==============================] - 1s 3ms/step - loss: 0.6134 - acc: 0.7000 - val_loss: 0.6076 - val_acc: 0.7034\n",
      "Epoch 8/10\n",
      "280/280 [==============================] - 1s 3ms/step - loss: 0.6232 - acc: 0.7000 - val_loss: 0.6103 - val_acc: 0.7034\n",
      "Epoch 9/10\n",
      "280/280 [==============================] - 1s 3ms/step - loss: 0.6135 - acc: 0.7000 - val_loss: 0.6081 - val_acc: 0.7034\n",
      "Epoch 10/10\n",
      "280/280 [==============================] - 1s 3ms/step - loss: 0.6115 - acc: 0.7000 - val_loss: 0.6074 - val_acc: 0.7034\n"
     ]
    },
    {
     "data": {
      "text/plain": [
       "<keras.callbacks.History at 0x2a0d38c10b8>"
      ]
     },
     "execution_count": 42,
     "metadata": {},
     "output_type": "execute_result"
    }
   ],
   "source": [
    "model.fit(x_train, y_train,\n",
    "          batch_size=batch_size,\n",
    "          epochs=epochs,\n",
    "          verbose=1,\n",
    "          validation_data=(x_test, y_test),\n",
    "          callbacks=[history])"
   ]
  },
  {
   "cell_type": "code",
   "execution_count": 43,
   "metadata": {},
   "outputs": [
    {
     "name": "stdout",
     "output_type": "stream",
     "text": [
      "Test loss: 0.6074059716725754\n",
      "Test accuracy: 0.7033898305084746\n"
     ]
    },
    {
     "data": {
      "image/png": "[encoded data removed]",
      "text/plain": [
       "<Figure size 432x288 with 1 Axes>"
      ]
     },
     "metadata": {
      "needs_background": "light"
     },
     "output_type": "display_data"
    }
   ],
   "source": [
    "score = model.evaluate(x_test, y_test, verbose=0)\n",
    "print('Test loss:', score[0])\n",
    "print('Test accuracy:', score[1])\n",
    "plt.plot(range(1, 11), history.acc)\n",
    "plt.xlabel('Epochs')\n",
    "plt.ylabel('Accuracy')\n",
    "plt.show()"
   ]
  },
  {
   "cell_type": "code",
   "execution_count": 44,
   "metadata": {},
   "outputs": [
    {
     "name": "stdout",
     "output_type": "stream",
     "text": [
      "Saved model to disk\n"
     ]
    }
   ],
   "source": [
    "model_yaml = model.to_yaml()\n",
    "with open(\"mnist_digit_cnn_model.yaml\", \"w\") as yaml_file:\n",
    "    yaml_file.write(model_yaml)\n",
    "# serialize weights to HDF5\n",
    "model.save_weights(\"mnist_digit_cnn_model.h5\")\n",
    "print(\"Saved model to disk\")"
   ]
  },
  {
   "cell_type": "code",
   "execution_count": null,
   "metadata": {},
   "outputs": [],
   "source": []
  }
 ],
 "metadata": {
  "kernelspec": {
   "display_name": "Python 3",
   "language": "python",
   "name": "python3"
  },
  "language_info": {
   "codemirror_mode": {
    "name": "ipython",
    "version": 3
   },
   "file_extension": ".py",
   "mimetype": "text/x-python",
   "name": "python",
   "nbconvert_exporter": "python",
   "pygments_lexer": "ipython3",
   "version": "3.5.6"
  }
 },
 "nbformat": 4,
 "nbformat_minor": 2
}

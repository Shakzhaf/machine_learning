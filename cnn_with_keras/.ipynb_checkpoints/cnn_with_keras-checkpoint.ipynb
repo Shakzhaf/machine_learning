{
 "cells": [
  {
   "cell_type": "code",
   "execution_count": 10,
   "metadata": {},
   "outputs": [],
   "source": [
    "#importing necessary libraries\n",
    "\n",
    "import numpy as np\n",
    "from PIL import Image\n",
    "import matplotlib.pyplot as plt\n",
    "from matplotlib import style\n",
    "style.use('fivethirtyeight')\n",
    "%matplotlib inline\n",
    "import glob\n",
    "import os\n",
    "from collections import Counter\n",
    "import pandas as pd\n",
    "import time\n",
    "import cv2\n",
    "\n",
    "from __future__ import print_function\n",
    "import keras\n",
    "from keras.datasets import mnist\n",
    "from keras.layers import Dense, Flatten\n",
    "from keras.layers import Conv2D, MaxPooling2D\n",
    "from keras.models import Sequential"
   ]
  },
  {
   "cell_type": "code",
   "execution_count": 2,
   "metadata": {},
   "outputs": [],
   "source": [
    "#loading the dataset into the program with the train/test ratio of 70/30\n",
    "\n",
    "def load_data(path):\n",
    "    x_train=[]\n",
    "    y_train=[]\n",
    "    x_test=[]\n",
    "    y_test=[]\n",
    "    split=0.3\n",
    "    split_size=4000*split\n",
    "\n",
    "    folders=os.listdir(path)\n",
    "    for folder in folders:\n",
    "        i=0\n",
    "        images_in_folder=os.listdir(path+folder)\n",
    "        for image in images_in_folder:\n",
    "            i+=1\n",
    "            img=Image.open(path+folder+'/'+image)\n",
    "            image_array=np.array(img)\n",
    "            if i>=split_size:\n",
    "                x_train.append(image_array)\n",
    "                y_train.append(folder)\n",
    "            else:\n",
    "                x_test.append(image_array)\n",
    "                y_test.append(folder)\n",
    "\n",
    "    return (np.array(x_train),np.array(y_train)),(np.array(x_test),np.array(y_test))"
   ]
  },
  {
   "cell_type": "code",
   "execution_count": 3,
   "metadata": {},
   "outputs": [],
   "source": [
    "batch_size = 100\n",
    "num_classes = 10\n",
    "epochs = 10\n",
    "img_x, img_y = 28, 28\n",
    "path=\"C:/Users/hp/machine_learning/cnn_with_keras/train_data/\""
   ]
  },
  {
   "cell_type": "code",
   "execution_count": 4,
   "metadata": {},
   "outputs": [],
   "source": [
    "(x_train, y_train), (x_test, y_test) = load_data(path)"
   ]
  },
  {
   "cell_type": "code",
   "execution_count": 6,
   "metadata": {},
   "outputs": [
    {
     "data": {
      "text/plain": [
       "(28, 28)"
      ]
     },
     "execution_count": 6,
     "metadata": {},
     "output_type": "execute_result"
    }
   ],
   "source": [
    "x_train[0].shape"
   ]
  },
  {
   "cell_type": "code",
   "execution_count": 6,
   "metadata": {},
   "outputs": [],
   "source": [
    "x_train = x_train.reshape(x_train.shape[0], img_x, img_y, 1)\n",
    "x_test = x_test.reshape(x_test.shape[0], img_x, img_y, 1)\n",
    "input_shape = (img_x, img_y, 1)"
   ]
  },
  {
   "cell_type": "code",
   "execution_count": 7,
   "metadata": {},
   "outputs": [
    {
     "name": "stdout",
     "output_type": "stream",
     "text": [
      "x_train shape: (27805, 28, 28, 1)\n",
      "27805 train samples\n",
      "11990 test samples\n"
     ]
    }
   ],
   "source": [
    "x_train = x_train.astype('float32')\n",
    "x_test = x_test.astype('float32')\n",
    "x_train /= 255\n",
    "x_test /= 255\n",
    "print('x_train shape:', x_train.shape)\n",
    "print(x_train.shape[0], 'train samples')\n",
    "print(x_test.shape[0], 'test samples')"
   ]
  },
  {
   "cell_type": "code",
   "execution_count": 8,
   "metadata": {},
   "outputs": [],
   "source": [
    "y_train = keras.utils.to_categorical(y_train, num_classes)\n",
    "y_test = keras.utils.to_categorical(y_test, num_classes)"
   ]
  },
  {
   "cell_type": "code",
   "execution_count": 9,
   "metadata": {},
   "outputs": [],
   "source": [
    "model = Sequential()\n",
    "model.add(Conv2D(32, kernel_size=(5, 5), strides=(1, 1),\n",
    "                 activation='relu',\n",
    "                 input_shape=input_shape))\n",
    "model.add(MaxPooling2D(pool_size=(2, 2), strides=(2, 2)))\n",
    "model.add(Conv2D(64, (5, 5), activation='relu'))\n",
    "model.add(MaxPooling2D(pool_size=(2, 2)))\n",
    "model.add(Flatten())\n",
    "model.add(Dense(1000, activation='relu'))\n",
    "model.add(Dense(num_classes, activation='softmax'))\n",
    "\n",
    "model.compile(loss=keras.losses.categorical_crossentropy,\n",
    "              optimizer=keras.optimizers.Adam(),\n",
    "              metrics=['accuracy'])"
   ]
  },
  {
   "cell_type": "code",
   "execution_count": 10,
   "metadata": {},
   "outputs": [],
   "source": [
    "class AccuracyHistory(keras.callbacks.Callback):\n",
    "    def on_train_begin(self, logs={}):\n",
    "        self.acc = []\n",
    "\n",
    "    def on_epoch_end(self, batch, logs={}):\n",
    "        self.acc.append(logs.get('acc'))"
   ]
  },
  {
   "cell_type": "code",
   "execution_count": 11,
   "metadata": {},
   "outputs": [],
   "source": [
    "history = AccuracyHistory()"
   ]
  },
  {
   "cell_type": "code",
   "execution_count": 12,
   "metadata": {},
   "outputs": [
    {
     "name": "stdout",
     "output_type": "stream",
     "text": [
      "Train on 27805 samples, validate on 11990 samples\n",
      "Epoch 1/10\n",
      "27805/27805 [==============================] - 49s 2ms/step - loss: 0.2192 - acc: 0.9323 - val_loss: 0.0928 - val_acc: 0.9709\n",
      "Epoch 2/10\n",
      "27805/27805 [==============================] - 48s 2ms/step - loss: 0.0586 - acc: 0.9816 - val_loss: 0.0534 - val_acc: 0.9832\n",
      "Epoch 3/10\n",
      "27805/27805 [==============================] - 46s 2ms/step - loss: 0.0382 - acc: 0.9874 - val_loss: 0.0521 - val_acc: 0.9830\n",
      "Epoch 4/10\n",
      "27805/27805 [==============================] - 46s 2ms/step - loss: 0.0272 - acc: 0.9912 - val_loss: 0.0474 - val_acc: 0.9844\n",
      "Epoch 5/10\n",
      "27805/27805 [==============================] - 46s 2ms/step - loss: 0.0215 - acc: 0.9934 - val_loss: 0.0525 - val_acc: 0.9842\n",
      "Epoch 6/10\n",
      "27805/27805 [==============================] - 46s 2ms/step - loss: 0.0140 - acc: 0.9955 - val_loss: 0.0389 - val_acc: 0.9889\n",
      "Epoch 7/10\n",
      "27805/27805 [==============================] - 50s 2ms/step - loss: 0.0133 - acc: 0.9950 - val_loss: 0.0452 - val_acc: 0.9882\n",
      "Epoch 8/10\n",
      "27805/27805 [==============================] - 48s 2ms/step - loss: 0.0115 - acc: 0.9958 - val_loss: 0.0390 - val_acc: 0.9901\n",
      "Epoch 9/10\n",
      "27805/27805 [==============================] - 47s 2ms/step - loss: 0.0080 - acc: 0.9976 - val_loss: 0.0471 - val_acc: 0.9882\n",
      "Epoch 10/10\n",
      "27805/27805 [==============================] - 48s 2ms/step - loss: 0.0100 - acc: 0.9968 - val_loss: 0.0597 - val_acc: 0.9861\n"
     ]
    },
    {
     "data": {
      "text/plain": [
       "<keras.callbacks.History at 0x13685b4ca20>"
      ]
     },
     "execution_count": 12,
     "metadata": {},
     "output_type": "execute_result"
    }
   ],
   "source": [
    "model.fit(x_train, y_train,\n",
    "          batch_size=batch_size,\n",
    "          epochs=epochs,\n",
    "          verbose=1,\n",
    "          validation_data=(x_test, y_test),\n",
    "          callbacks=[history])"
   ]
  },
  {
   "cell_type": "code",
   "execution_count": 13,
   "metadata": {},
   "outputs": [
    {
     "name": "stdout",
     "output_type": "stream",
     "text": [
      "Test loss: 0.05974193158624202\n",
      "Test accuracy: 0.9860717264386989\n"
     ]
    },
    {
     "data": {
      "image/png": "[encoded data removed]",
      "text/plain": [
       "<Figure size 432x288 with 1 Axes>"
      ]
     },
     "metadata": {
      "needs_background": "light"
     },
     "output_type": "display_data"
    }
   ],
   "source": [
    "score = model.evaluate(x_test, y_test, verbose=0)\n",
    "print('Test loss:', score[0])\n",
    "print('Test accuracy:', score[1])\n",
    "plt.plot(range(1, 11), history.acc)\n",
    "plt.xlabel('Epochs')\n",
    "plt.ylabel('Accuracy')\n",
    "plt.show()"
   ]
  },
  {
   "cell_type": "code",
   "execution_count": 14,
   "metadata": {},
   "outputs": [],
   "source": [
    "def predict(image,show=True):\n",
    "    im=np.array(image)\n",
    "    pr = model.predict_classes(im.reshape((1, 28,28,1)))\n",
    "    answer=pr.tolist()[0]\n",
    "    if show:\n",
    "        plt.imshow(im)\n",
    "        plt.show()\n",
    "    #print(answer)\n",
    "    return answer"
   ]
  },
  {
   "cell_type": "code",
   "execution_count": 15,
   "metadata": {},
   "outputs": [
    {
     "data": {
      "image/png": "[encoded data removed]",
      "text/plain": [
       "<Figure size 432x288 with 1 Axes>"
      ]
     },
     "metadata": {
      "needs_background": "light"
     },
     "output_type": "display_data"
    },
    {
     "data": {
      "text/plain": [
       "1"
      ]
     },
     "execution_count": 15,
     "metadata": {},
     "output_type": "execute_result"
    }
   ],
   "source": [
    "path=\"C:/Users/hp/machine_learning/cnn_with_keras/test/\"\n",
    "test_imgs=os.listdir(path)\n",
    "i=np.random.randint(0,len(test_imgs))\n",
    "pic=test_imgs[i]\n",
    "im=Image.open(path+pic)\n",
    "predict(im)"
   ]
  },
  {
   "cell_type": "code",
   "execution_count": 14,
   "metadata": {},
   "outputs": [
    {
     "name": "stdout",
     "output_type": "stream",
     "text": [
      "(28, 28)\n"
     ]
    },
    {
     "data": {
      "image/png": "[encoded data removed]",
      "text/plain": [
       "<Figure size 432x288 with 1 Axes>"
      ]
     },
     "metadata": {
      "needs_background": "light"
     },
     "output_type": "display_data"
    }
   ],
   "source": [
    "path=\"C:/Users/hp/machine_learning/cnn_with_keras/test/\"\n",
    "test_imgs=os.listdir(path)\n",
    "i=np.random.randint(0,len(test_imgs))\n",
    "pic=test_imgs[i]\n",
    "img = cv2.imread(path+pic,0)\n",
    "ret,thresh_img = cv2.threshold(img,127,255,cv2.THRESH_BINARY)\n",
    "print(thresh_img.shape)\n",
    "plt.imshow(thresh_img)\n",
    "plt.show()"
   ]
  },
  {
   "cell_type": "code",
   "execution_count": 16,
   "metadata": {},
   "outputs": [
    {
     "name": "stdout",
     "output_type": "stream",
     "text": [
      "test size:  1097\n",
      "true predictions:  1086\n",
      "confidence:  0.9899726526891522\n"
     ]
    }
   ],
   "source": [
    "path='C:/Users/hp/machine_learning/cnn_with_keras/test_data/'\n",
    "test_folders=os.listdir(path)\n",
    "#np.random.shuffle(test_folders)\n",
    "count=0\n",
    "true_prediction=0\n",
    "pred_list={int(folder):{int(folder):0 for folder in test_folders} for folder in test_folders}\n",
    "for folder in test_folders:\n",
    "    \n",
    "    img_list=os.listdir(path+folder)\n",
    "    \n",
    "    for image in img_list:\n",
    "        \n",
    "        image_path=path+folder+'/'+image\n",
    "        im=Image.open(image_path)\n",
    "        prediction=str(int(predict(im,False)))\n",
    "        pred_list[int(folder)][int(prediction)]+=1\n",
    "        if prediction==folder:\n",
    "            true_prediction+=1\n",
    "                      \n",
    "        count+=1\n",
    "        \n",
    "            \n",
    "print('test size: ',count)\n",
    "print('true predictions: ',true_prediction)\n",
    "print('confidence: ',true_prediction/count)"
   ]
  },
  {
   "cell_type": "code",
   "execution_count": 17,
   "metadata": {},
   "outputs": [
    {
     "name": "stdout",
     "output_type": "stream",
     "text": [
      "Saved model to disk\n"
     ]
    }
   ],
   "source": [
    "model_yaml = model.to_yaml()\n",
    "with open(\"mnist_digit_cnn_model.yaml\", \"w\") as yaml_file:\n",
    "    yaml_file.write(model_yaml)\n",
    "# serialize weights to HDF5\n",
    "model.save_weights(\"mnist_digit_cnn_model.h5\")\n",
    "print(\"Saved model to disk\")"
   ]
  },
  {
   "cell_type": "code",
   "execution_count": 18,
   "metadata": {},
   "outputs": [
    {
     "data": {
      "text/plain": [
       "{0: {0: 51, 1: 0, 2: 1, 3: 0, 4: 0, 5: 0, 6: 0, 7: 0, 8: 0, 9: 0},\n",
       " 1: {0: 0, 1: 84, 2: 0, 3: 0, 4: 0, 5: 0, 6: 0, 7: 0, 8: 0, 9: 0},\n",
       " 2: {0: 0, 1: 0, 2: 120, 3: 0, 4: 0, 5: 0, 6: 0, 7: 0, 8: 0, 9: 0},\n",
       " 3: {0: 0, 1: 0, 2: 0, 3: 88, 4: 0, 5: 3, 6: 0, 7: 1, 8: 0, 9: 0},\n",
       " 4: {0: 0, 1: 0, 2: 0, 3: 0, 4: 144, 5: 0, 6: 0, 7: 0, 8: 0, 9: 0},\n",
       " 5: {0: 0, 1: 0, 2: 0, 3: 0, 4: 0, 5: 246, 6: 0, 7: 0, 8: 0, 9: 2},\n",
       " 6: {0: 2, 1: 0, 2: 0, 3: 0, 4: 0, 5: 0, 6: 91, 7: 0, 8: 0, 9: 0},\n",
       " 7: {0: 0, 1: 0, 2: 0, 3: 0, 4: 0, 5: 0, 6: 0, 7: 76, 8: 0, 9: 0},\n",
       " 8: {0: 0, 1: 0, 2: 1, 3: 0, 4: 0, 5: 0, 6: 0, 7: 0, 8: 99, 9: 0},\n",
       " 9: {0: 0, 1: 0, 2: 0, 3: 0, 4: 0, 5: 0, 6: 0, 7: 1, 8: 0, 9: 87}}"
      ]
     },
     "execution_count": 18,
     "metadata": {},
     "output_type": "execute_result"
    }
   ],
   "source": [
    "pred_list"
   ]
  },
  {
   "cell_type": "code",
   "execution_count": 19,
   "metadata": {},
   "outputs": [],
   "source": [
    "#b: blue\n",
    "#g: green\n",
    "#r: red\n",
    "#c: cyan\n",
    "#m: magenta\n",
    "#y: yellow\n",
    "#k: black\n",
    "#w: white\n",
    "color=['b','g','r','c','m','y','k']"
   ]
  },
  {
   "cell_type": "code",
   "execution_count": 20,
   "metadata": {},
   "outputs": [
    {
     "data": {
      "text/plain": [
       "<function matplotlib.pyplot.show(*args, **kw)>"
      ]
     },
     "execution_count": 20,
     "metadata": {},
     "output_type": "execute_result"
    },
    {
     "data": {
      "image/png": "[encoded data removed]",
      "text/plain": [
       "<Figure size 1080x720 with 1 Axes>"
      ]
     },
     "metadata": {
      "needs_background": "light"
     },
     "output_type": "display_data"
    }
   ],
   "source": [
    "#plt.figure(figsize=(20,10))\n",
    "plt.figure(figsize=(15,10))\n",
    "plt.xlabel('Actual Digit',fontsize=25)\n",
    "plt.ylabel('Predicted Value',fontsize=25)\n",
    "plt.title('Prediction Chart',fontsize=25)\n",
    "major_ticks = np.arange(0, 10, 1)                                              \n",
    "plt.xticks(major_ticks,fontsize=25)                                                       \n",
    "plt.yticks(major_ticks,fontsize=25) \n",
    "plt.grid(True)\n",
    "\n",
    "for num in pred_list:\n",
    "    num_data=pred_list[num]\n",
    "    for pred in num_data:\n",
    "        plt.scatter([num],[pred],color='c',s=pred_list[num][pred]*5.5)\n",
    "        if pred_list[num][pred]>0:\n",
    "            plt.annotate(str(pred_list[num][pred]),xy=(num,pred),fontsize=15, xytext=(10,10), textcoords='offset points')\n",
    "        #plt.text(num,pred,str(pred_list[num][pred]))\n",
    "plt.show"
   ]
  },
  {
   "cell_type": "code",
   "execution_count": null,
   "metadata": {},
   "outputs": [],
   "source": []
  }
 ],
 "metadata": {
  "kernelspec": {
   "display_name": "Python 3",
   "language": "python",
   "name": "python3"
  },
  "language_info": {
   "codemirror_mode": {
    "name": "ipython",
    "version": 3
   },
   "file_extension": ".py",
   "mimetype": "text/x-python",
   "name": "python",
   "nbconvert_exporter": "python",
   "pygments_lexer": "ipython3",
   "version": "3.5.6"
  }
 },
 "nbformat": 4,
 "nbformat_minor": 2
}

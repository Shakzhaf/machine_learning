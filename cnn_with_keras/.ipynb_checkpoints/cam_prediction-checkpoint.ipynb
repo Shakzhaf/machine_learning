{
 "cells": [
  {
   "cell_type": "code",
   "execution_count": null,
   "metadata": {},
   "outputs": [],
   "source": [
    "#importing necessary libraries\n",
    "\n",
    "import numpy as np\n",
    "from PIL import Image\n",
    "import matplotlib.pyplot as plt\n",
    "from matplotlib import style\n",
    "style.use('fivethirtyeight')\n",
    "%matplotlib inline\n",
    "import glob\n",
    "import os\n",
    "from collections import Counter\n",
    "import pandas as pd\n",
    "import time\n",
    "import cv2\n",
    "\n",
    "from __future__ import print_function\n",
    "import keras\n",
    "from keras.datasets import mnist\n",
    "from keras.layers import Dense, Flatten\n",
    "from keras.layers import Conv2D, MaxPooling2D\n",
    "from keras.models import Sequential\n",
    "from keras.models import model_from_yaml"
   ]
  },
  {
   "cell_type": "code",
   "execution_count": null,
   "metadata": {},
   "outputs": [],
   "source": [
    "# load YAML and create model\n",
    "yaml_file = open('fist_palm_cnn_model.yaml', 'r')\n",
    "loaded_model_yaml = yaml_file.read()\n",
    "yaml_file.close()\n",
    "model = model_from_yaml(loaded_model_yaml)\n",
    "# load weights into new model\n",
    "model.load_weights(\"fist_palm_cnn_model.h5\")\n",
    "print(\"Loaded model from disk\")\n",
    "model.compile(loss=keras.losses.categorical_crossentropy,\n",
    "              optimizer=keras.optimizers.Adam(),\n",
    "              metrics=['accuracy'])"
   ]
  },
  {
   "cell_type": "code",
   "execution_count": null,
   "metadata": {},
   "outputs": [],
   "source": [
    "def predict(image,show=True):\n",
    "    im=np.array(image)\n",
    "    pr = model.predict_classes(im.reshape((1,28,28,3)))\n",
    "    answer=pr.tolist()[0]\n",
    "    if show:\n",
    "        plt.imshow(im)\n",
    "        plt.show()\n",
    "    #print(answer)\n",
    "    return answer"
   ]
  },
  {
   "cell_type": "code",
   "execution_count": null,
   "metadata": {},
   "outputs": [],
   "source": [
    "cap = cv2.VideoCapture(0)\n",
    "ret = True\n",
    "#i=0\n",
    "while (ret):\n",
    "    ret,image_np = cap.read()\n",
    "  # read image as grey scale\n",
    "    gray = cv2.cvtColor(image_np, cv2.COLOR_BGR2GRAY)\n",
    "    #gray=image_np.convert('LA')\n",
    "\n",
    "    image=cv2.resize(gray,(28,28))\n",
    "    #status = cv2.imwrite('train/palm/palm'+str(i)+'.jpg',cv2.resize(gray,(150,150)))\n",
    "    #i+=1\n",
    "    cv2.imshow('image',image)\n",
    "    print(predict(image,False))\n",
    "    if cv2.waitKey(25) & 0xFF == ord('q'):\n",
    "        cv2.destroyAllWindows()\n",
    "        cap.release()\n",
    "        break\n",
    "        "
   ]
  },
  {
   "cell_type": "code",
   "execution_count": null,
   "metadata": {},
   "outputs": [],
   "source": [
    "cap = cv2.VideoCapture(0)\n",
    "ret = True\n",
    "while (ret):\n",
    "    ret,image_np = cap.read()\n",
    "  # read image as grey scale\n",
    "    image_np=cv2.resize(image_np,(28,28))\n",
    "    gray = cv2.cvtColor(image_np, cv2.COLOR_BGR2GRAY)\n",
    "    #gray=image_np.convert('LA')\n",
    "    #status = cv2.imwrite('train/palm/palm'+str(i)+'.jpg',cv2.resize(gray,(150,150)))\n",
    "    print(image_np.shape,',',gray.shape)\n",
    "    i+=1\n",
    "    #cv2.imshow(str(prediction),image_np)\n",
    "    prediction=predict(image_np,False)\n",
    "    if(prediction):\n",
    "        print('fist')\n",
    "    else:\n",
    "        print('palm')\n",
    "    cv2.imshow(str(prediction),image_np)\n",
    "    if cv2.waitKey(25) & 0xFF == ord('q'):\n",
    "        cv2.destroyAllWindows()\n",
    "        cap.release()\n",
    "        break"
   ]
  },
  {
   "cell_type": "code",
   "execution_count": null,
   "metadata": {},
   "outputs": [],
   "source": []
  }
 ],
 "metadata": {
  "kernelspec": {
   "display_name": "Python 3",
   "language": "python",
   "name": "python3"
  },
  "language_info": {
   "codemirror_mode": {
    "name": "ipython",
    "version": 3
   },
   "file_extension": ".py",
   "mimetype": "text/x-python",
   "name": "python",
   "nbconvert_exporter": "python",
   "pygments_lexer": "ipython3",
   "version": "3.5.6"
  }
 },
 "nbformat": 4,
 "nbformat_minor": 2
}

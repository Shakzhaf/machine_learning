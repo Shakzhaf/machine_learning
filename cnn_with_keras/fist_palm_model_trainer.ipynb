{
 "cells": [
  {
   "cell_type": "code",
   "execution_count": 113,
   "metadata": {},
   "outputs": [],
   "source": [
    "import numpy as np\n",
    "from PIL import Image\n",
    "import matplotlib.pyplot as plt\n",
    "from matplotlib import style\n",
    "style.use('fivethirtyeight')\n",
    "%matplotlib inline\n",
    "import glob\n",
    "import os\n",
    "from collections import Counter\n",
    "import pandas as pd\n",
    "import time\n",
    "import cv2\n",
    "\n",
    "from __future__ import print_function\n",
    "import keras\n",
    "from keras.datasets import mnist\n",
    "from keras.layers import Dense, Flatten\n",
    "from keras.layers import Conv2D, MaxPooling2D\n",
    "from keras.models import Sequential"
   ]
  },
  {
   "cell_type": "code",
   "execution_count": 114,
   "metadata": {},
   "outputs": [],
   "source": [
    "def load_data(path):\n",
    "    x_train=[]\n",
    "    y_train=[]\n",
    "    x_test=[]\n",
    "    y_test=[]\n",
    "    split=0.3\n",
    "\n",
    "    folders=os.listdir(path)\n",
    "    for folder in folders:\n",
    "        i=0\n",
    "        images_in_folder=os.listdir(path+folder)\n",
    "        split_size=len(images_in_folder)*split\n",
    "        for image in images_in_folder:\n",
    "            i+=1\n",
    "            #img=Image.open(path+folder+'/'+image)#.convert('LA')\n",
    "            img=cv2.imread(path+folder+'/'+image)\n",
    "            image_array=np.array(img)\n",
    "            gray = cv2.cvtColor(image_array, cv2.COLOR_BGR2GRAY)\n",
    "            image_array=cv2.resize(image_array,(150,150))\n",
    "            if i>=split_size:\n",
    "                x_train.append(image_array)\n",
    "                y_train.append(folder)\n",
    "            else:\n",
    "                x_test.append(image_array)\n",
    "                y_test.append(folder)\n",
    "\n",
    "    return (np.array(x_train),np.array(y_train)),(np.array(x_test),np.array(y_test))"
   ]
  },
  {
   "cell_type": "code",
   "execution_count": 115,
   "metadata": {},
   "outputs": [],
   "source": [
    "batch_size = 20\n",
    "num_classes = 2\n",
    "epochs = 50\n",
    "img_x, img_y = 150,150\n",
    "path=\"C:/Users/hp/machine_learning/mouse_clicking/training_data/\""
   ]
  },
  {
   "cell_type": "code",
   "execution_count": 116,
   "metadata": {},
   "outputs": [],
   "source": [
    "(x_train, y_train), (x_test, y_test) = load_data(path)"
   ]
  },
  {
   "cell_type": "code",
   "execution_count": 117,
   "metadata": {},
   "outputs": [
    {
     "data": {
      "text/plain": [
       "(150, 150, 3)"
      ]
     },
     "execution_count": 117,
     "metadata": {},
     "output_type": "execute_result"
    }
   ],
   "source": [
    "x_train[0].shape"
   ]
  },
  {
   "cell_type": "code",
   "execution_count": 118,
   "metadata": {},
   "outputs": [],
   "source": [
    "y_train[y_train==\"palm\"]=0\n",
    "y_train[y_train==\"fist\"]=1\n",
    "y_test[y_test==\"palm\"]=0\n",
    "y_test[y_test==\"fist\"]=1"
   ]
  },
  {
   "cell_type": "code",
   "execution_count": 119,
   "metadata": {},
   "outputs": [],
   "source": [
    "x_train = x_train.reshape(x_train.shape[0], img_x, img_y, 3)\n",
    "x_test = x_test.reshape(x_test.shape[0], img_x, img_y, 3)\n",
    "input_shape = (img_x, img_y, 3)"
   ]
  },
  {
   "cell_type": "code",
   "execution_count": 120,
   "metadata": {},
   "outputs": [
    {
     "name": "stdout",
     "output_type": "stream",
     "text": [
      "x_train shape: (280, 150, 150, 3)\n",
      "280 train samples\n",
      "118 test samples\n"
     ]
    }
   ],
   "source": [
    "x_train = x_train.astype('float32')\n",
    "x_test = x_test.astype('float32')\n",
    "x_train /= 255\n",
    "x_test /= 255\n",
    "print('x_train shape:', x_train.shape)\n",
    "print(x_train.shape[0], 'train samples')\n",
    "print(x_test.shape[0], 'test samples')"
   ]
  },
  {
   "cell_type": "code",
   "execution_count": 121,
   "metadata": {},
   "outputs": [],
   "source": [
    "y_train = keras.utils.to_categorical(y_train, num_classes)\n",
    "y_test = keras.utils.to_categorical(y_test, num_classes)"
   ]
  },
  {
   "cell_type": "code",
   "execution_count": 93,
   "metadata": {},
   "outputs": [],
   "source": [
    "model = Sequential()\n",
    "model.add(Conv2D(32, kernel_size=(5, 5), strides=(1, 1),\n",
    "                 activation='relu',\n",
    "                 input_shape=input_shape))\n",
    "model.add(MaxPooling2D(pool_size=(2, 2), strides=(2, 2)))\n",
    "model.add(Conv2D(64, (5, 5), activation='relu'))\n",
    "model.add(MaxPooling2D(pool_size=(2, 2)))\n",
    "model.add(Flatten())\n",
    "model.add(Dense(1000, activation='relu'))\n",
    "model.add(Dense(num_classes, activation='softmax'))\n",
    "\n",
    "model.compile(loss=keras.losses.categorical_crossentropy,\n",
    "              optimizer=keras.optimizers.Adam(),\n",
    "              metrics=['accuracy'])"
   ]
  },
  {
   "cell_type": "code",
   "execution_count": 94,
   "metadata": {},
   "outputs": [],
   "source": [
    "class AccuracyHistory(keras.callbacks.Callback):\n",
    "    def on_train_begin(self, logs={}):\n",
    "        self.acc = []\n",
    "\n",
    "    def on_epoch_end(self, batch, logs={}):\n",
    "        self.acc.append(logs.get('acc'))"
   ]
  },
  {
   "cell_type": "code",
   "execution_count": 95,
   "metadata": {},
   "outputs": [],
   "source": [
    "history = AccuracyHistory()"
   ]
  },
  {
   "cell_type": "code",
   "execution_count": 96,
   "metadata": {},
   "outputs": [
    {
     "name": "stdout",
     "output_type": "stream",
     "text": [
      "Train on 280 samples, validate on 118 samples\n",
      "Epoch 1/50\n",
      "280/280 [==============================] - 2s 7ms/step - loss: 0.7045 - acc: 0.6607 - val_loss: 0.6316 - val_acc: 0.7034\n",
      "Epoch 2/50\n",
      "280/280 [==============================] - 1s 3ms/step - loss: 0.6151 - acc: 0.7000 - val_loss: 0.6141 - val_acc: 0.7034\n",
      "Epoch 3/50\n",
      "280/280 [==============================] - 1s 3ms/step - loss: 0.6016 - acc: 0.7000 - val_loss: 0.5948 - val_acc: 0.7034\n",
      "Epoch 4/50\n",
      "280/280 [==============================] - 1s 3ms/step - loss: 0.5922 - acc: 0.7000 - val_loss: 0.5967 - val_acc: 0.7034\n",
      "Epoch 5/50\n",
      "280/280 [==============================] - 1s 3ms/step - loss: 0.5987 - acc: 0.7071 - val_loss: 0.6069 - val_acc: 0.7119\n",
      "Epoch 6/50\n",
      "280/280 [==============================] - 1s 2ms/step - loss: 0.5711 - acc: 0.7071 - val_loss: 0.5931 - val_acc: 0.7373\n",
      "Epoch 7/50\n",
      "280/280 [==============================] - 1s 2ms/step - loss: 0.6012 - acc: 0.6893 - val_loss: 0.5995 - val_acc: 0.7119\n",
      "Epoch 8/50\n",
      "280/280 [==============================] - 1s 2ms/step - loss: 0.6057 - acc: 0.6893 - val_loss: 0.6106 - val_acc: 0.7034\n",
      "Epoch 9/50\n",
      "280/280 [==============================] - 1s 2ms/step - loss: 0.5938 - acc: 0.7143 - val_loss: 0.5799 - val_acc: 0.7034\n",
      "Epoch 10/50\n",
      "280/280 [==============================] - 1s 2ms/step - loss: 0.5779 - acc: 0.7250 - val_loss: 0.5878 - val_acc: 0.7373\n",
      "Epoch 11/50\n",
      "280/280 [==============================] - 1s 2ms/step - loss: 0.5406 - acc: 0.7643 - val_loss: 0.5560 - val_acc: 0.7542\n",
      "Epoch 12/50\n",
      "280/280 [==============================] - 1s 3ms/step - loss: 0.5100 - acc: 0.7571 - val_loss: 0.6250 - val_acc: 0.7373\n",
      "Epoch 13/50\n",
      "280/280 [==============================] - 1s 2ms/step - loss: 0.4833 - acc: 0.7786 - val_loss: 0.5970 - val_acc: 0.7712\n",
      "Epoch 14/50\n",
      "280/280 [==============================] - 1s 2ms/step - loss: 0.4128 - acc: 0.8071 - val_loss: 0.6798 - val_acc: 0.7034\n",
      "Epoch 15/50\n",
      "280/280 [==============================] - 1s 2ms/step - loss: 0.4422 - acc: 0.8036 - val_loss: 0.5416 - val_acc: 0.7542\n",
      "Epoch 16/50\n",
      "280/280 [==============================] - ETA: 0s - loss: 0.4113 - acc: 0.762 - 1s 2ms/step - loss: 0.4461 - acc: 0.7536 - val_loss: 0.5632 - val_acc: 0.7542\n",
      "Epoch 17/50\n",
      "280/280 [==============================] - 1s 3ms/step - loss: 0.4647 - acc: 0.7964 - val_loss: 0.5406 - val_acc: 0.7881\n",
      "Epoch 18/50\n",
      "280/280 [==============================] - 1s 3ms/step - loss: 0.3559 - acc: 0.8607 - val_loss: 0.5177 - val_acc: 0.7373\n",
      "Epoch 19/50\n",
      "280/280 [==============================] - 1s 3ms/step - loss: 0.3631 - acc: 0.8357 - val_loss: 0.5759 - val_acc: 0.7542\n",
      "Epoch 20/50\n",
      "280/280 [==============================] - 1s 2ms/step - loss: 0.3571 - acc: 0.8250 - val_loss: 0.5089 - val_acc: 0.7627\n",
      "Epoch 21/50\n",
      "280/280 [==============================] - 1s 2ms/step - loss: 0.3182 - acc: 0.8464 - val_loss: 0.5039 - val_acc: 0.7542\n",
      "Epoch 22/50\n",
      "280/280 [==============================] - 1s 3ms/step - loss: 0.2936 - acc: 0.8571 - val_loss: 0.4553 - val_acc: 0.7712\n",
      "Epoch 23/50\n",
      "280/280 [==============================] - 1s 3ms/step - loss: 0.2437 - acc: 0.8929 - val_loss: 0.4577 - val_acc: 0.7542\n",
      "Epoch 24/50\n",
      "280/280 [==============================] - 1s 3ms/step - loss: 0.1833 - acc: 0.9357 - val_loss: 0.5826 - val_acc: 0.7797\n",
      "Epoch 25/50\n",
      "280/280 [==============================] - 1s 3ms/step - loss: 0.1600 - acc: 0.9464 - val_loss: 0.4384 - val_acc: 0.7712\n",
      "Epoch 26/50\n",
      "280/280 [==============================] - 1s 2ms/step - loss: 0.1310 - acc: 0.9643 - val_loss: 0.9111 - val_acc: 0.7712\n",
      "Epoch 27/50\n",
      "280/280 [==============================] - 1s 2ms/step - loss: 0.1075 - acc: 0.9571 - val_loss: 0.4501 - val_acc: 0.7712\n",
      "Epoch 28/50\n",
      "280/280 [==============================] - 1s 4ms/step - loss: 0.1115 - acc: 0.9679 - val_loss: 0.5112 - val_acc: 0.7712\n",
      "Epoch 29/50\n",
      "280/280 [==============================] - 1s 3ms/step - loss: 0.0972 - acc: 0.9714 - val_loss: 0.4689 - val_acc: 0.7797\n",
      "Epoch 30/50\n",
      "280/280 [==============================] - 1s 3ms/step - loss: 0.0643 - acc: 0.9857 - val_loss: 0.4231 - val_acc: 0.8220\n",
      "Epoch 31/50\n",
      "280/280 [==============================] - 1s 2ms/step - loss: 0.0529 - acc: 0.9857 - val_loss: 0.5860 - val_acc: 0.8305\n",
      "Epoch 32/50\n",
      "280/280 [==============================] - 1s 2ms/step - loss: 0.0464 - acc: 0.9857 - val_loss: 0.7919 - val_acc: 0.7712\n",
      "Epoch 33/50\n",
      "280/280 [==============================] - 1s 2ms/step - loss: 0.0905 - acc: 0.9679 - val_loss: 0.5053 - val_acc: 0.7881\n",
      "Epoch 34/50\n",
      "280/280 [==============================] - 1s 2ms/step - loss: 0.0694 - acc: 0.9786 - val_loss: 0.5629 - val_acc: 0.7966\n",
      "Epoch 35/50\n",
      "280/280 [==============================] - 1s 2ms/step - loss: 0.0567 - acc: 0.9821 - val_loss: 0.7635 - val_acc: 0.7797\n",
      "Epoch 36/50\n",
      "280/280 [==============================] - 1s 2ms/step - loss: 0.0210 - acc: 1.0000 - val_loss: 0.8609 - val_acc: 0.7542\n",
      "Epoch 37/50\n",
      "280/280 [==============================] - 1s 3ms/step - loss: 0.0123 - acc: 1.0000 - val_loss: 0.7853 - val_acc: 0.7797\n",
      "Epoch 38/50\n",
      "280/280 [==============================] - 1s 2ms/step - loss: 0.0153 - acc: 0.9929 - val_loss: 0.6783 - val_acc: 0.7966\n",
      "Epoch 39/50\n",
      "280/280 [==============================] - 1s 2ms/step - loss: 0.0180 - acc: 1.0000 - val_loss: 0.7049 - val_acc: 0.7797\n",
      "Epoch 40/50\n",
      "280/280 [==============================] - 1s 3ms/step - loss: 0.0078 - acc: 1.0000 - val_loss: 0.9459 - val_acc: 0.8051\n",
      "Epoch 41/50\n",
      "280/280 [==============================] - 1s 2ms/step - loss: 0.0037 - acc: 1.0000 - val_loss: 0.8957 - val_acc: 0.8220\n",
      "Epoch 42/50\n",
      "280/280 [==============================] - 1s 2ms/step - loss: 0.0029 - acc: 1.0000 - val_loss: 0.9014 - val_acc: 0.8305\n",
      "Epoch 43/50\n",
      "280/280 [==============================] - 1s 2ms/step - loss: 0.0024 - acc: 1.0000 - val_loss: 0.9653 - val_acc: 0.7881\n",
      "Epoch 44/50\n",
      "280/280 [==============================] - 1s 3ms/step - loss: 0.0021 - acc: 1.0000 - val_loss: 0.9542 - val_acc: 0.8051\n",
      "Epoch 45/50\n",
      "280/280 [==============================] - 1s 3ms/step - loss: 0.0018 - acc: 1.0000 - val_loss: 0.9579 - val_acc: 0.8136\n",
      "Epoch 46/50\n",
      "280/280 [==============================] - 1s 2ms/step - loss: 0.0017 - acc: 1.0000 - val_loss: 0.9517 - val_acc: 0.8051\n",
      "Epoch 47/50\n",
      "280/280 [==============================] - 1s 2ms/step - loss: 0.0015 - acc: 1.0000 - val_loss: 0.9596 - val_acc: 0.8051\n",
      "Epoch 48/50\n",
      "280/280 [==============================] - 1s 2ms/step - loss: 0.0015 - acc: 1.0000 - val_loss: 0.9770 - val_acc: 0.7966\n",
      "Epoch 49/50\n",
      "280/280 [==============================] - 1s 2ms/step - loss: 0.0013 - acc: 1.0000 - val_loss: 0.9569 - val_acc: 0.8220\n",
      "Epoch 50/50\n",
      "280/280 [==============================] - 1s 2ms/step - loss: 0.0013 - acc: 1.0000 - val_loss: 0.9725 - val_acc: 0.8051\n"
     ]
    },
    {
     "data": {
      "text/plain": [
       "<keras.callbacks.History at 0x2a0dd6cd4a8>"
      ]
     },
     "execution_count": 96,
     "metadata": {},
     "output_type": "execute_result"
    }
   ],
   "source": [
    "model.fit(x_train, y_train,\n",
    "          batch_size=batch_size,\n",
    "          epochs=epochs,\n",
    "          verbose=1,\n",
    "          validation_data=(x_test, y_test),\n",
    "          callbacks=[history])"
   ]
  },
  {
   "cell_type": "code",
   "execution_count": 97,
   "metadata": {},
   "outputs": [
    {
     "name": "stdout",
     "output_type": "stream",
     "text": [
      "Test loss: 0.9724984744847831\n",
      "Test accuracy: 0.8050847508139529\n"
     ]
    },
    {
     "data": {
      "image/png": "[encoded data removed]",
      "text/plain": [
       "<Figure size 432x288 with 1 Axes>"
      ]
     },
     "metadata": {
      "needs_background": "light"
     },
     "output_type": "display_data"
    }
   ],
   "source": [
    "score = model.evaluate(x_test, y_test, verbose=0)\n",
    "print('Test loss:', score[0])\n",
    "print('Test accuracy:', score[1])\n",
    "plt.plot(range(1, epochs+1), history.acc)\n",
    "plt.xlabel('Epochs')\n",
    "plt.ylabel('Accuracy')\n",
    "plt.show()"
   ]
  },
  {
   "cell_type": "code",
   "execution_count": 98,
   "metadata": {},
   "outputs": [
    {
     "name": "stdout",
     "output_type": "stream",
     "text": [
      "Saved model to disk\n"
     ]
    }
   ],
   "source": [
    "model_yaml = model.to_yaml()\n",
    "with open(\"fist_palm_cnn_model.yaml\", \"w\") as yaml_file:\n",
    "    yaml_file.write(model_yaml)\n",
    "# serialize weights to HDF5\n",
    "model.save_weights(\"fist_palm_cnn_model.h5\")\n",
    "print(\"Saved model to disk\")"
   ]
  },
  {
   "cell_type": "code",
   "execution_count": null,
   "metadata": {},
   "outputs": [],
   "source": []
  }
 ],
 "metadata": {
  "kernelspec": {
   "display_name": "Python 3",
   "language": "python",
   "name": "python3"
  },
  "language_info": {
   "codemirror_mode": {
    "name": "ipython",
    "version": 3
   },
   "file_extension": ".py",
   "mimetype": "text/x-python",
   "name": "python",
   "nbconvert_exporter": "python",
   "pygments_lexer": "ipython3",
   "version": "3.5.6"
  }
 },
 "nbformat": 4,
 "nbformat_minor": 2
}

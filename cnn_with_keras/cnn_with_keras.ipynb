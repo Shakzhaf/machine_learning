{
 "cells": [
  {
   "cell_type": "code",
   "execution_count": 1,
   "metadata": {},
   "outputs": [
    {
     "name": "stderr",
     "output_type": "stream",
     "text": [
      "Using TensorFlow backend.\n"
     ]
    }
   ],
   "source": [
    "#importing necessary libraries\n",
    "\n",
    "import numpy as np\n",
    "from PIL import Image\n",
    "import matplotlib.pyplot as plt\n",
    "from matplotlib import style\n",
    "style.use('fivethirtyeight')\n",
    "%matplotlib inline\n",
    "import glob\n",
    "import os\n",
    "from collections import Counter\n",
    "import pandas as pd\n",
    "import time\n",
    "import cv2\n",
    "\n",
    "from __future__ import print_function\n",
    "import keras\n",
    "from keras.datasets import mnist\n",
    "from keras.layers import Dense, Flatten\n",
    "from keras.layers import Conv2D, MaxPooling2D\n",
    "from keras.models import Sequential"
   ]
  },
  {
   "cell_type": "code",
   "execution_count": 2,
   "metadata": {},
   "outputs": [],
   "source": [
    "#loading the dataset into the program with the train/test ratio of 70/30\n",
    "\n",
    "def load_data(path):\n",
    "    x_train=[]\n",
    "    y_train=[]\n",
    "    x_test=[]\n",
    "    y_test=[]\n",
    "    split=0.3\n",
    "    split_size=4000*split\n",
    "\n",
    "    folders=os.listdir(path)\n",
    "    for folder in folders:\n",
    "        i=0\n",
    "        images_in_folder=os.listdir(path+folder)\n",
    "        for image in images_in_folder:\n",
    "            i+=1\n",
    "            img=Image.open(path+folder+'/'+image)\n",
    "            image_array=np.array(img)\n",
    "            if i>=split_size:\n",
    "                x_train.append(image_array)\n",
    "                y_train.append(folder)\n",
    "            else:\n",
    "                x_test.append(image_array)\n",
    "                y_test.append(folder)\n",
    "\n",
    "    return (np.array(x_train),np.array(y_train)),(np.array(x_test),np.array(y_test))"
   ]
  },
  {
   "cell_type": "code",
   "execution_count": 75,
   "metadata": {},
   "outputs": [],
   "source": [
    "batch_size = 1000\n",
    "num_classes = 10\n",
    "epochs = 5\n",
    "img_x, img_y = 28, 28\n",
    "path=\"C:/Users/hp/machine_learning/cnn_with_keras/train_data/\""
   ]
  },
  {
   "cell_type": "code",
   "execution_count": 76,
   "metadata": {},
   "outputs": [],
   "source": [
    "(x_train, y_train), (x_test, y_test) = load_data(path)"
   ]
  },
  {
   "cell_type": "code",
   "execution_count": 77,
   "metadata": {},
   "outputs": [
    {
     "data": {
      "text/plain": [
       "(28, 28)"
      ]
     },
     "execution_count": 77,
     "metadata": {},
     "output_type": "execute_result"
    }
   ],
   "source": [
    "x_train[0].shape"
   ]
  },
  {
   "cell_type": "code",
   "execution_count": 78,
   "metadata": {},
   "outputs": [],
   "source": [
    "x_train = x_train.reshape(x_train.shape[0], img_x, img_y, 1)\n",
    "x_test = x_test.reshape(x_test.shape[0], img_x, img_y, 1)\n",
    "input_shape = (img_x, img_y, 1)"
   ]
  },
  {
   "cell_type": "code",
   "execution_count": 79,
   "metadata": {},
   "outputs": [
    {
     "name": "stdout",
     "output_type": "stream",
     "text": [
      "x_train shape: (27805, 28, 28, 1)\n",
      "27805 train samples\n",
      "11990 test samples\n"
     ]
    }
   ],
   "source": [
    "x_train = x_train.astype('float32')\n",
    "x_test = x_test.astype('float32')\n",
    "x_train /= 255\n",
    "x_test /= 255\n",
    "print('x_train shape:', x_train.shape)\n",
    "print(x_train.shape[0], 'train samples')\n",
    "print(x_test.shape[0], 'test samples')"
   ]
  },
  {
   "cell_type": "code",
   "execution_count": 80,
   "metadata": {},
   "outputs": [],
   "source": [
    "y_train = keras.utils.to_categorical(y_train, num_classes)\n",
    "y_test = keras.utils.to_categorical(y_test, num_classes)"
   ]
  },
  {
   "cell_type": "code",
   "execution_count": 81,
   "metadata": {},
   "outputs": [],
   "source": [
    "model = Sequential()\n",
    "model.add(Conv2D(32, kernel_size=(5, 5), strides=(1, 1),\n",
    "                 activation='relu',\n",
    "                 input_shape=input_shape))\n",
    "model.add(MaxPooling2D(pool_size=(2, 2), strides=(2, 2)))\n",
    "model.add(Conv2D(64, (5, 5), activation='relu'))\n",
    "model.add(MaxPooling2D(pool_size=(2, 2)))\n",
    "model.add(Flatten())\n",
    "model.add(Dense(1000, activation='relu'))\n",
    "model.add(Dense(num_classes, activation='softmax'))\n",
    "\n",
    "model.compile(loss=keras.losses.categorical_crossentropy,\n",
    "              optimizer=keras.optimizers.Adam(),\n",
    "              metrics=['accuracy'])"
   ]
  },
  {
   "cell_type": "code",
   "execution_count": 82,
   "metadata": {},
   "outputs": [],
   "source": [
    "class AccuracyHistory(keras.callbacks.Callback):\n",
    "    def on_train_begin(self, logs={}):\n",
    "        self.acc = []\n",
    "\n",
    "    def on_epoch_end(self, batch, logs={}):\n",
    "        self.acc.append(logs.get('acc'))"
   ]
  },
  {
   "cell_type": "code",
   "execution_count": 83,
   "metadata": {},
   "outputs": [],
   "source": [
    "history = AccuracyHistory()"
   ]
  },
  {
   "cell_type": "code",
   "execution_count": 84,
   "metadata": {},
   "outputs": [
    {
     "name": "stdout",
     "output_type": "stream",
     "text": [
      "Train on 27805 samples, validate on 11990 samples\n",
      "Epoch 1/5\n",
      "27805/27805 [==============================] - 43s 2ms/step - loss: 0.8278 - acc: 0.7718 - val_loss: 0.3118 - val_acc: 0.9077\n",
      "Epoch 2/5\n",
      "27805/27805 [==============================] - 40s 1ms/step - loss: 0.2136 - acc: 0.9368 - val_loss: 0.1501 - val_acc: 0.9540\n",
      "Epoch 3/5\n",
      "27805/27805 [==============================] - 39s 1ms/step - loss: 0.1200 - acc: 0.9639 - val_loss: 0.1051 - val_acc: 0.9682\n",
      "Epoch 4/5\n",
      "27805/27805 [==============================] - 39s 1ms/step - loss: 0.0850 - acc: 0.9734 - val_loss: 0.0776 - val_acc: 0.9766\n",
      "Epoch 5/5\n",
      "27805/27805 [==============================] - 41s 1ms/step - loss: 0.0650 - acc: 0.9810 - val_loss: 0.0675 - val_acc: 0.9803\n"
     ]
    },
    {
     "data": {
      "text/plain": [
       "<keras.callbacks.History at 0x1c12bb64240>"
      ]
     },
     "execution_count": 84,
     "metadata": {},
     "output_type": "execute_result"
    }
   ],
   "source": [
    "model.fit(x_train, y_train,\n",
    "          batch_size=batch_size,\n",
    "          epochs=epochs,\n",
    "          verbose=1,\n",
    "          validation_data=(x_test, y_test),\n",
    "          callbacks=[history])"
   ]
  },
  {
   "cell_type": "code",
   "execution_count": 65,
   "metadata": {},
   "outputs": [
    {
     "name": "stdout",
     "output_type": "stream",
     "text": [
      "Test loss: 0.0491765016340068\n",
      "Test accuracy: 0.9859049207673061\n"
     ]
    },
    {
     "data": {
      "image/png": "[encoded data removed]",
      "text/plain": [
       "<Figure size 432x288 with 1 Axes>"
      ]
     },
     "metadata": {
      "needs_background": "light"
     },
     "output_type": "display_data"
    }
   ],
   "source": [
    "score = model.evaluate(x_test, y_test, verbose=0)\n",
    "print('Test loss:', score[0])\n",
    "print('Test accuracy:', score[1])\n",
    "plt.plot(range(1, epochs+1), history.acc)\n",
    "plt.xlabel('Epochs')\n",
    "plt.ylabel('Accuracy')\n",
    "plt.show()"
   ]
  },
  {
   "cell_type": "code",
   "execution_count": 66,
   "metadata": {},
   "outputs": [],
   "source": [
    "def predict(image,show=True):\n",
    "    im=np.array(image)\n",
    "    pr = model.predict_classes(im.reshape((1, 28,28,1)))\n",
    "    answer=pr.tolist()[0]\n",
    "    if show:\n",
    "        plt.imshow(im)\n",
    "        plt.show()\n",
    "    #print(answer)\n",
    "    return answer"
   ]
  },
  {
   "cell_type": "code",
   "execution_count": 67,
   "metadata": {},
   "outputs": [
    {
     "data": {
      "image/png": "[encoded data removed]",
      "text/plain": [
       "<Figure size 432x288 with 1 Axes>"
      ]
     },
     "metadata": {
      "needs_background": "light"
     },
     "output_type": "display_data"
    },
    {
     "data": {
      "text/plain": [
       "2"
      ]
     },
     "execution_count": 67,
     "metadata": {},
     "output_type": "execute_result"
    }
   ],
   "source": [
    "path=\"C:/Users/hp/machine_learning/cnn_with_keras/test/\"\n",
    "test_imgs=os.listdir(path)\n",
    "i=np.random.randint(0,len(test_imgs))\n",
    "pic=test_imgs[i]\n",
    "im=Image.open(path+pic)\n",
    "predict(im)"
   ]
  },
  {
   "cell_type": "code",
   "execution_count": 68,
   "metadata": {},
   "outputs": [
    {
     "name": "stdout",
     "output_type": "stream",
     "text": [
      "(28, 28)\n"
     ]
    },
    {
     "data": {
      "image/png": "[encoded data removed]",
      "text/plain": [
       "<Figure size 432x288 with 1 Axes>"
      ]
     },
     "metadata": {
      "needs_background": "light"
     },
     "output_type": "display_data"
    }
   ],
   "source": [
    "path=\"C:/Users/hp/machine_learning/cnn_with_keras/test/\"\n",
    "test_imgs=os.listdir(path)\n",
    "i=np.random.randint(0,len(test_imgs))\n",
    "pic=test_imgs[i]\n",
    "img = cv2.imread(path+pic,0)\n",
    "ret,thresh_img = cv2.threshold(img,127,255,cv2.THRESH_BINARY)\n",
    "print(thresh_img.shape)\n",
    "plt.imshow(thresh_img)\n",
    "plt.show()"
   ]
  },
  {
   "cell_type": "code",
   "execution_count": 69,
   "metadata": {},
   "outputs": [
    {
     "name": "stdout",
     "output_type": "stream",
     "text": [
      "test size:  1097\n",
      "true predictions:  1075\n",
      "confidence:  0.9799453053783045\n"
     ]
    }
   ],
   "source": [
    "path='C:/Users/hp/machine_learning/cnn_with_keras/test_data/'\n",
    "test_folders=os.listdir(path)\n",
    "#np.random.shuffle(test_folders)\n",
    "count=0\n",
    "true_prediction=0\n",
    "pred_list={int(folder):{int(folder):0 for folder in test_folders} for folder in test_folders}\n",
    "for folder in test_folders:\n",
    "    \n",
    "    img_list=os.listdir(path+folder)\n",
    "    \n",
    "    for image in img_list:\n",
    "        \n",
    "        image_path=path+folder+'/'+image\n",
    "        im=Image.open(image_path)\n",
    "        prediction=str(int(predict(im,False)))\n",
    "        pred_list[int(folder)][int(prediction)]+=1\n",
    "        if prediction==folder:\n",
    "            true_prediction+=1\n",
    "                      \n",
    "        count+=1\n",
    "        \n",
    "            \n",
    "print('test size: ',count)\n",
    "print('true predictions: ',true_prediction)\n",
    "print('confidence: ',true_prediction/count)"
   ]
  },
  {
   "cell_type": "code",
   "execution_count": 70,
   "metadata": {},
   "outputs": [
    {
     "name": "stdout",
     "output_type": "stream",
     "text": [
      "Saved model to disk\n"
     ]
    }
   ],
   "source": [
    "model_yaml = model.to_yaml()\n",
    "with open(\"mnist_digit_cnn_model.yaml\", \"w\") as yaml_file:\n",
    "    yaml_file.write(model_yaml)\n",
    "# serialize weights to HDF5\n",
    "model.save_weights(\"mnist_digit_cnn_model.h5\")\n",
    "print(\"Saved model to disk\")"
   ]
  },
  {
   "cell_type": "code",
   "execution_count": 71,
   "metadata": {},
   "outputs": [
    {
     "data": {
      "text/plain": [
       "{0: {0: 52, 1: 0, 2: 0, 3: 0, 4: 0, 5: 0, 6: 0, 7: 0, 8: 0, 9: 0},\n",
       " 1: {0: 0, 1: 84, 2: 0, 3: 0, 4: 0, 5: 0, 6: 0, 7: 0, 8: 0, 9: 0},\n",
       " 2: {0: 0, 1: 1, 2: 117, 3: 0, 4: 0, 5: 0, 6: 0, 7: 0, 8: 2, 9: 0},\n",
       " 3: {0: 0, 1: 0, 2: 0, 3: 91, 4: 0, 5: 1, 6: 0, 7: 0, 8: 0, 9: 0},\n",
       " 4: {0: 0, 1: 1, 2: 0, 3: 0, 4: 143, 5: 0, 6: 0, 7: 0, 8: 0, 9: 0},\n",
       " 5: {0: 1, 1: 0, 2: 0, 3: 0, 4: 0, 5: 232, 6: 12, 7: 0, 8: 2, 9: 1},\n",
       " 6: {0: 0, 1: 0, 2: 0, 3: 0, 4: 0, 5: 0, 6: 93, 7: 0, 8: 0, 9: 0},\n",
       " 7: {0: 0, 1: 0, 2: 0, 3: 0, 4: 0, 5: 0, 6: 0, 7: 76, 8: 0, 9: 0},\n",
       " 8: {0: 0, 1: 0, 2: 0, 3: 0, 4: 0, 5: 0, 6: 0, 7: 0, 8: 100, 9: 0},\n",
       " 9: {0: 0, 1: 0, 2: 0, 3: 0, 4: 0, 5: 0, 6: 0, 7: 1, 8: 0, 9: 87}}"
      ]
     },
     "execution_count": 71,
     "metadata": {},
     "output_type": "execute_result"
    }
   ],
   "source": [
    "pred_list"
   ]
  },
  {
   "cell_type": "code",
   "execution_count": 72,
   "metadata": {},
   "outputs": [],
   "source": [
    "#b: blue\n",
    "#g: green\n",
    "#r: red\n",
    "#c: cyan\n",
    "#m: magenta\n",
    "#y: yellow\n",
    "#k: black\n",
    "#w: white\n",
    "color=['b','g','r','c','m','y','k']"
   ]
  },
  {
   "cell_type": "code",
   "execution_count": 73,
   "metadata": {},
   "outputs": [
    {
     "data": {
      "text/plain": [
       "<function matplotlib.pyplot.show(*args, **kw)>"
      ]
     },
     "execution_count": 73,
     "metadata": {},
     "output_type": "execute_result"
    },
    {
     "data": {
      "image/png": "[encoded data removed]",
      "text/plain": [
       "<Figure size 1080x720 with 1 Axes>"
      ]
     },
     "metadata": {
      "needs_background": "light"
     },
     "output_type": "display_data"
    }
   ],
   "source": [
    "#plt.figure(figsize=(20,10))\n",
    "plt.figure(figsize=(15,10))\n",
    "plt.xlabel('Actual Digit',fontsize=25)\n",
    "plt.ylabel('Predicted Value',fontsize=25)\n",
    "plt.title('Prediction Chart',fontsize=25)\n",
    "major_ticks = np.arange(0, 10, 1)                                              \n",
    "plt.xticks(major_ticks,fontsize=25)                                                       \n",
    "plt.yticks(major_ticks,fontsize=25) \n",
    "plt.grid(True)\n",
    "\n",
    "for num in pred_list:\n",
    "    num_data=pred_list[num]\n",
    "    for pred in num_data:\n",
    "        plt.scatter([num],[pred],color='c',s=pred_list[num][pred]*5.5)\n",
    "        if pred_list[num][pred]>0:\n",
    "            plt.annotate(str(pred_list[num][pred]),xy=(num,pred),fontsize=15, xytext=(10,10), textcoords='offset points')\n",
    "        #plt.text(num,pred,str(pred_list[num][pred]))\n",
    "plt.show"
   ]
  },
  {
   "cell_type": "code",
   "execution_count": 74,
   "metadata": {},
   "outputs": [
    {
     "data": {
      "image/png": "[encoded data removed]",
      "text/plain": [
       "<Figure size 432x288 with 1 Axes>"
      ]
     },
     "metadata": {
      "needs_background": "light"
     },
     "output_type": "display_data"
    },
    {
     "data": {
      "text/plain": [
       "2"
      ]
     },
     "execution_count": 74,
     "metadata": {},
     "output_type": "execute_result"
    }
   ],
   "source": [
    "path='C:/Users/hp/datascience/digit_recognition/six.png'\n",
    "im=Image.open(path)\n",
    "predict(im)"
   ]
  },
  {
   "cell_type": "code",
   "execution_count": null,
   "metadata": {},
   "outputs": [],
   "source": []
  }
 ],
 "metadata": {
  "kernelspec": {
   "display_name": "Python 3",
   "language": "python",
   "name": "python3"
  },
  "language_info": {
   "codemirror_mode": {
    "name": "ipython",
    "version": 3
   },
   "file_extension": ".py",
   "mimetype": "text/x-python",
   "name": "python",
   "nbconvert_exporter": "python",
   "pygments_lexer": "ipython3",
   "version": "3.5.6"
  }
 },
 "nbformat": 4,
 "nbformat_minor": 2
}

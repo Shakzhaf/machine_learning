{
 "cells": [
  {
   "cell_type": "code",
   "execution_count": 1,
   "metadata": {},
   "outputs": [
    {
     "name": "stderr",
     "output_type": "stream",
     "text": [
      "Using TensorFlow backend.\n"
     ]
    }
   ],
   "source": [
    "import numpy\n",
    "from keras.models import Sequential\n",
    "from keras.layers import Dense\n",
    "from keras.layers import Dropout\n",
    "from keras.layers import LSTM\n",
    "from keras.callbacks import ModelCheckpoint\n",
    "from keras.utils import np_utils"
   ]
  },
  {
   "cell_type": "code",
   "execution_count": 13,
   "metadata": {},
   "outputs": [],
   "source": [
    "import sys"
   ]
  },
  {
   "cell_type": "code",
   "execution_count": 10,
   "metadata": {},
   "outputs": [
    {
     "name": "stdout",
     "output_type": "stream",
     "text": [
      "Total Characters:  616\n",
      "Total Vocab:  29\n"
     ]
    }
   ],
   "source": [
    "# load ascii text and covert to lowercase\n",
    "filename = \"compression_data.txt\"\n",
    "raw_text = open(filename).read()\n",
    "raw_text = raw_text.lower()\n",
    "# create mapping of unique chars to integers\n",
    "chars = sorted(list(set(raw_text)))\n",
    "char_to_int = dict((c, i) for i, c in enumerate(chars))\n",
    "int_to_char = dict((i, c) for i, c in enumerate(chars))\n",
    "# summarize the loaded data\n",
    "n_chars = len(raw_text)\n",
    "n_vocab = len(chars)\n",
    "print (\"Total Characters: \", n_chars)\n",
    "print (\"Total Vocab: \", n_vocab)"
   ]
  },
  {
   "cell_type": "code",
   "execution_count": 3,
   "metadata": {},
   "outputs": [
    {
     "name": "stdout",
     "output_type": "stream",
     "text": [
      "Total Patterns:  516\n"
     ]
    }
   ],
   "source": [
    "# prepare the dataset of input to output pairs encoded as integers\n",
    "seq_length = 100\n",
    "dataX = []\n",
    "dataY = []\n",
    "for i in range(0, n_chars - seq_length, 1):\n",
    "\tseq_in = raw_text[i:i + seq_length]\n",
    "\tseq_out = raw_text[i + seq_length]\n",
    "\tdataX.append([char_to_int[char] for char in seq_in])\n",
    "\tdataY.append(char_to_int[seq_out])\n",
    "n_patterns = len(dataX)\n",
    "print (\"Total Patterns: \", n_patterns)"
   ]
  },
  {
   "cell_type": "code",
   "execution_count": 4,
   "metadata": {},
   "outputs": [],
   "source": [
    "# reshape X to be [samples, time steps, features]\n",
    "X = numpy.reshape(dataX, (n_patterns, seq_length, 1))\n",
    "# normalize\n",
    "X = X / float(n_vocab)\n",
    "# one hot encode the output variable\n",
    "y = np_utils.to_categorical(dataY)"
   ]
  },
  {
   "cell_type": "code",
   "execution_count": 5,
   "metadata": {},
   "outputs": [],
   "source": [
    "# define the LSTM model\n",
    "model = Sequential()\n",
    "model.add(LSTM(256, input_shape=(X.shape[1], X.shape[2])))\n",
    "model.add(Dropout(0.2))\n",
    "model.add(Dense(y.shape[1], activation='softmax'))\n",
    "model.compile(loss='categorical_crossentropy', optimizer='adam')"
   ]
  },
  {
   "cell_type": "code",
   "execution_count": 6,
   "metadata": {},
   "outputs": [],
   "source": [
    "# define the checkpoint\n",
    "filepath=\"weights-improvement-{epoch:02d}-{loss:.4f}.hdf5\"\n",
    "checkpoint = ModelCheckpoint(filepath, monitor='loss', verbose=1, save_best_only=True, mode='min')\n",
    "callbacks_list = [checkpoint]"
   ]
  },
  {
   "cell_type": "code",
   "execution_count": 7,
   "metadata": {},
   "outputs": [
    {
     "name": "stdout",
     "output_type": "stream",
     "text": [
      "Epoch 1/20\n",
      "516/516 [==============================] - 7s 13ms/step - loss: 3.3488\n",
      "\n",
      "Epoch 00001: loss improved from inf to 3.34880, saving model to weights-improvement-01-3.3488.hdf5\n",
      "Epoch 2/20\n",
      "516/516 [==============================] - 3s 5ms/step - loss: 3.2053\n",
      "\n",
      "Epoch 00002: loss improved from 3.34880 to 3.20532, saving model to weights-improvement-02-3.2053.hdf5\n",
      "Epoch 3/20\n",
      "516/516 [==============================] - 3s 6ms/step - loss: 3.0612\n",
      "\n",
      "Epoch 00003: loss improved from 3.20532 to 3.06117, saving model to weights-improvement-03-3.0612.hdf5\n",
      "Epoch 4/20\n",
      "516/516 [==============================] - 3s 5ms/step - loss: 3.0614\n",
      "\n",
      "Epoch 00004: loss did not improve from 3.06117\n",
      "Epoch 5/20\n",
      "516/516 [==============================] - 3s 5ms/step - loss: 3.0293\n",
      "\n",
      "Epoch 00005: loss improved from 3.06117 to 3.02929, saving model to weights-improvement-05-3.0293.hdf5\n",
      "Epoch 6/20\n",
      "516/516 [==============================] - 3s 5ms/step - loss: 2.9643\n",
      "\n",
      "Epoch 00006: loss improved from 3.02929 to 2.96427, saving model to weights-improvement-06-2.9643.hdf5\n",
      "Epoch 7/20\n",
      "516/516 [==============================] - 3s 5ms/step - loss: 2.9709\n",
      "\n",
      "Epoch 00007: loss did not improve from 2.96427\n",
      "Epoch 8/20\n",
      "516/516 [==============================] - 3s 5ms/step - loss: 2.9634\n",
      "\n",
      "Epoch 00008: loss improved from 2.96427 to 2.96342, saving model to weights-improvement-08-2.9634.hdf5\n",
      "Epoch 9/20\n",
      "516/516 [==============================] - 3s 5ms/step - loss: 2.9704\n",
      "\n",
      "Epoch 00009: loss did not improve from 2.96342\n",
      "Epoch 10/20\n",
      "516/516 [==============================] - 3s 5ms/step - loss: 2.9684\n",
      "\n",
      "Epoch 00010: loss did not improve from 2.96342\n",
      "Epoch 11/20\n",
      "516/516 [==============================] - 3s 5ms/step - loss: 2.9674\n",
      "\n",
      "Epoch 00011: loss did not improve from 2.96342\n",
      "Epoch 12/20\n",
      "516/516 [==============================] - 3s 5ms/step - loss: 2.9626\n",
      "\n",
      "Epoch 00012: loss improved from 2.96342 to 2.96262, saving model to weights-improvement-12-2.9626.hdf5\n",
      "Epoch 13/20\n",
      "516/516 [==============================] - 3s 5ms/step - loss: 2.9726\n",
      "\n",
      "Epoch 00013: loss did not improve from 2.96262\n",
      "Epoch 14/20\n",
      "516/516 [==============================] - 3s 5ms/step - loss: 2.9663\n",
      "\n",
      "Epoch 00014: loss did not improve from 2.96262\n",
      "Epoch 15/20\n",
      "516/516 [==============================] - 3s 5ms/step - loss: 2.9731\n",
      "\n",
      "Epoch 00015: loss did not improve from 2.96262\n",
      "Epoch 16/20\n",
      "516/516 [==============================] - 3s 5ms/step - loss: 2.9610\n",
      "\n",
      "Epoch 00016: loss improved from 2.96262 to 2.96098, saving model to weights-improvement-16-2.9610.hdf5\n",
      "Epoch 17/20\n",
      "516/516 [==============================] - 3s 5ms/step - loss: 2.9821\n",
      "\n",
      "Epoch 00017: loss did not improve from 2.96098\n",
      "Epoch 18/20\n",
      "516/516 [==============================] - 3s 5ms/step - loss: 2.9894\n",
      "\n",
      "Epoch 00018: loss did not improve from 2.96098\n",
      "Epoch 19/20\n",
      "516/516 [==============================] - 3s 6ms/step - loss: 2.9829\n",
      "\n",
      "Epoch 00019: loss did not improve from 2.96098\n",
      "Epoch 20/20\n",
      "516/516 [==============================] - 3s 6ms/step - loss: 2.9756\n",
      "\n",
      "Epoch 00020: loss did not improve from 2.96098\n"
     ]
    },
    {
     "data": {
      "text/plain": [
       "<keras.callbacks.History at 0x20e5349b9e8>"
      ]
     },
     "execution_count": 7,
     "metadata": {},
     "output_type": "execute_result"
    }
   ],
   "source": [
    "# fit the model\n",
    "model.fit(X, y, epochs=20, batch_size=128, callbacks=callbacks_list)"
   ]
  },
  {
   "cell_type": "code",
   "execution_count": 14,
   "metadata": {},
   "outputs": [
    {
     "name": "stdout",
     "output_type": "stream",
     "text": [
      "Seed:\n",
      "\" onder what you are!\n",
      "up above the world so high,\n",
      "like a diamond in the sky.\n",
      "\n",
      "when this blazing sun is \"\n",
      "                                                                                                                                                                                                                                                                                                                                                                                                                                                                                                                                                                                                                                                                                                                                                                                                                                                                                                                                                                                                                                        \n",
      "Done.\n"
     ]
    }
   ],
   "source": [
    "# pick a random seed\n",
    "start = numpy.random.randint(0, len(dataX)-1)\n",
    "pattern = dataX[start]\n",
    "print (\"Seed:\")\n",
    "print (\"\\\"\", ''.join([int_to_char[value] for value in pattern]), \"\\\"\")\n",
    "# generate characters\n",
    "for i in range(1000):\n",
    "\tx = numpy.reshape(pattern, (1, len(pattern), 1))\n",
    "\tx = x / float(n_vocab)\n",
    "\tprediction = model.predict(x, verbose=0)\n",
    "\tindex = numpy.argmax(prediction)\n",
    "\tresult = int_to_char[index]\n",
    "\tseq_in = [int_to_char[value] for value in pattern]\n",
    "\tsys.stdout.write(result)\n",
    "\tpattern.append(index)\n",
    "\tpattern = pattern[1:len(pattern)]\n",
    "print (\"\\nDone.\")"
   ]
  },
  {
   "cell_type": "code",
   "execution_count": null,
   "metadata": {},
   "outputs": [],
   "source": []
  }
 ],
 "metadata": {
  "kernelspec": {
   "display_name": "Python 3",
   "language": "python",
   "name": "python3"
  },
  "language_info": {
   "codemirror_mode": {
    "name": "ipython",
    "version": 3
   },
   "file_extension": ".py",
   "mimetype": "text/x-python",
   "name": "python",
   "nbconvert_exporter": "python",
   "pygments_lexer": "ipython3",
   "version": "3.5.6"
  }
 },
 "nbformat": 4,
 "nbformat_minor": 2
}

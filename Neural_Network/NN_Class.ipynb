{
 "cells": [
  {
   "cell_type": "code",
   "execution_count": null,
   "metadata": {},
   "outputs": [],
   "source": [
    "def sigmoid(x):\n",
    "    return 1/float((1+np.exp(-x)))\n",
    "\n",
    "def sigmoidd(x):\n",
    "    sig=[]\n",
    "    for row in x:\n",
    "        r=[]\n",
    "        for value in row:\n",
    "            r.append(sigmoid(value))\n",
    "        sig.append(r)\n",
    "    return sig\n",
    "\n",
    "def diff_sigmoid(x):\n",
    "    return sigmoid(x)*(1-sigmoid(x))\n",
    "\n",
    "def diff_sigmoidd(x):\n",
    "    sig=[]\n",
    "    for row in x:\n",
    "        r=[]\n",
    "        for value in row:\n",
    "            r.append(diff_sigmoid(value))\n",
    "        sig.append(r)\n",
    "    return sig"
   ]
  },
  {
   "cell_type": "code",
   "execution_count": 2,
   "metadata": {},
   "outputs": [],
   "source": [
    "import numpy as np\n",
    "import sklearn\n",
    "from sklearn import datasets\n",
    "import matplotlib.pyplot as plt"
   ]
  },
  {
   "cell_type": "code",
   "execution_count": null,
   "metadata": {},
   "outputs": [],
   "source": [
    "class Layer:\n",
    "    #def __init__(self,nodes,previous=True,next=True):\n",
    "    def __init__(self,nodes,input_layer=True,output_layer=False)\n",
    "        self.nodes=nodes\n",
    "        self.input_layer=input_layer\n",
    "        self.output_layer=output_layer\n",
    "        \n",
    "        self.weight=None\n",
    "        self.bais=None\n",
    "        self.input=None\n",
    "        self.activation=None\n",
    "        self.slope=None\n",
    "        self.delta=None\n",
    "        \n",
    "    def initial_weight_and_bais(self,previous_layer):\n",
    "        if self.input_layer:\n",
    "            self.weight=np.ones((previous_layer.activation.shape[1],previous_layer.activation.shape[1]))\n",
    "        else:\n",
    "            self.weight=np.random.uniform(size=(previous_layer.nodes,self.nodes))\n",
    "            self.bais=np.random.uniform(size=(1,self.nodes))\n",
    "        \n",
    "        return self.weight,self.bais\n",
    "    \n",
    "    def take_input(self,previous_layer.activation):\n",
    "        self.input=np.dot(previous_layer.activation,self.weight)+self.bais\n",
    "        return self.input\n",
    "        \n",
    "    def give_output(self,self.input):\n",
    "        self.activation=np.array(sigmoidd(self.input))\n",
    "        return self.activation\n",
    "        \n",
    "    def gradient(self):\n",
    "        self.slope=diff_sigmoidd(self.activation)\n",
    "        \n",
    "    def get_delta(self,next_layer):\n",
    "        self.error=np.dot(next_layer.delta,next_layer.weight.T)\n",
    "        self.delta=self.error*self.slope\n",
    "        \n",
    "    def update_weight_and_bais(self,previous_layer):\n",
    "        self.weight+=np.dot()"
   ]
  }
 ],
 "metadata": {
  "kernelspec": {
   "display_name": "Python 3",
   "language": "python",
   "name": "python3"
  },
  "language_info": {
   "codemirror_mode": {
    "name": "ipython",
    "version": 3
   },
   "file_extension": ".py",
   "mimetype": "text/x-python",
   "name": "python",
   "nbconvert_exporter": "python",
   "pygments_lexer": "ipython3",
<<<<<<< HEAD
   "version": "3.5.6"
=======
   "version": "3.6.5"
>>>>>>> 7f807316aa2366b4fa08e23f19d08388ab45ca5b
  }
 },
 "nbformat": 4,
 "nbformat_minor": 2
}

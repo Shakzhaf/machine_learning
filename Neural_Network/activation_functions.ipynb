{
 "cells": [
  {
   "cell_type": "code",
   "execution_count": 1,
   "metadata": {},
   "outputs": [],
   "source": [
    "import numpy as np"
   ]
  },
  {
   "cell_type": "code",
   "execution_count": 6,
   "metadata": {},
   "outputs": [],
   "source": [
    "def sigmoid(x):\n",
    "    return 1/float((1+np.exp(-x)))\n",
    "\n",
    "def sigmoidd(x):\n",
    "    sig=[]\n",
    "    for row in x:\n",
    "        r=[]\n",
    "        for value in row:\n",
    "            r.append(sigmoid(value))\n",
    "        sig.append(r)\n",
    "    return sig\n",
    "\n",
    "def diff_sigmoid(x):\n",
    "    return sigmoid(x)*(1-sigmoid(x))\n",
    "\n",
    "def diff_sigmoidd(x):\n",
    "    sig=[]\n",
    "    for row in x:\n",
    "        r=[]\n",
    "        for value in row:\n",
    "            r.append(diff_sigmoid(value))\n",
    "        sig.append(r)\n",
    "    return sig"
   ]
  },
  {
   "cell_type": "code",
   "execution_count": 7,
   "metadata": {},
   "outputs": [],
   "source": [
    "def tanh(x):\n",
    "    return np.tanh(x)\n",
    "\n",
    "def tanhh(x):\n",
    "    tan=[]\n",
    "    for row in x:\n",
    "        r=[]\n",
    "        for value in row:\n",
    "            r.append(tanh(value))\n",
    "        tan.append(r)\n",
    "    return tan\n",
    "\n",
    "def diff_tanh(x):\n",
    "    return 1-np.tanh(x)**2\n",
    "\n",
    "def diff_tanhh(x):\n",
    "    diftan=[]\n",
    "    for row in x:\n",
    "        r=[]\n",
    "        for value in row:\n",
    "            r.append(diff_tanh(x))\n",
    "        diftan.append(r)\n",
    "    return diftan"
   ]
  },
  {
   "cell_type": "code",
   "execution_count": 4,
   "metadata": {},
   "outputs": [],
   "source": [
    "def relu(x):\n",
    "    return x*(x>0)\n",
    "\n",
    "def reluu(x):\n",
    "    rel=[]\n",
    "    for row in x:\n",
    "        r=[]\n",
    "        for value in row:\n",
    "            r.append(relu(x))\n",
    "        rel.append(r)\n",
    "    return rel\n",
    "\n",
    "def diff_relu(x):\n",
    "    return 1*(x>0)\n",
    "\n",
    "def diff_reluu(x):\n",
    "    difrel=[]\n",
    "    for row in x:\n",
    "        r=[]\n",
    "        for value in row:\n",
    "            r.append(diff_relu(x))\n",
    "        rel.append(r)\n",
    "    return rel"
   ]
  },
  {
   "cell_type": "code",
   "execution_count": 5,
   "metadata": {},
   "outputs": [],
   "source": []
  },
  {
   "cell_type": "code",
   "execution_count": null,
   "metadata": {},
   "outputs": [],
   "source": []
  }
 ],
 "metadata": {
  "kernelspec": {
   "display_name": "Python 3",
   "language": "python",
   "name": "python3"
  },
  "language_info": {
   "codemirror_mode": {
    "name": "ipython",
    "version": 3
   },
   "file_extension": ".py",
   "mimetype": "text/x-python",
   "name": "python",
   "nbconvert_exporter": "python",
   "pygments_lexer": "ipython3",
   "version": "3.6.5"
  }
 },
 "nbformat": 4,
 "nbformat_minor": 2
}

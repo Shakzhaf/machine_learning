{
 "cells": [
  {
   "cell_type": "code",
   "execution_count": 41,
   "metadata": {},
   "outputs": [],
   "source": [
    "import numpy as np\n",
    "from PIL import Image\n",
    "import matplotlib.pyplot as plt\n",
    "from matplotlib import style\n",
    "style.use('fivethirtyeight')\n",
    "%matplotlib inline\n",
    "import glob\n",
    "import os\n",
    "from collections import Counter\n",
    "import pandas as pd\n",
    "import time"
   ]
  },
  {
   "cell_type": "code",
   "execution_count": 42,
   "metadata": {},
   "outputs": [
    {
     "name": "stdout",
     "output_type": "stream",
     "text": [
      "done\n"
     ]
    }
   ],
   "source": [
    "#to read the training images and extracting data out of each image\n",
    "\n",
    "path='C:/Users/hp/machine_learning/mouse_clicking/train/'\n",
    "train_file=open('train_file1.csv','a')\n",
    "folders=os.listdir(path)\n",
    "img_h=150\n",
    "img_w=150\n",
    "reshaped=[]\n",
    "\n",
    "for label in range(img_h*img_w):\n",
    "    train_file.write(str(label)+',')\n",
    "train_file.write('label'+'\\n')\n",
    "\n",
    "for folder in folders:\n",
    "    images_in_folder=os.listdir(path+folder)\n",
    "    for image in images_in_folder:\n",
    "        #print(folder,'--------',image)\n",
    "        img=Image.open(path+folder+'/'+image)\n",
    "        image_array=np.array(img)\n",
    "        reshaped=image_array.reshape(image_array.shape[0]*image_array.shape[1])\n",
    "        \n",
    "        for pixel in reshaped:\n",
    "            linetowrite=str(pixel)+','\n",
    "            train_file.write(linetowrite)\n",
    "        train_file.write(folder)\n",
    "        train_file.write('\\n')\n",
    "print('done')"
   ]
  },
  {
   "cell_type": "code",
   "execution_count": null,
   "metadata": {},
   "outputs": [],
   "source": [
    "df=pd.read_csv('train_file1.csv')\n",
    "headers = df.dtypes.index\n",
    "header=headers.tolist()"
   ]
  },
  {
   "cell_type": "code",
   "execution_count": null,
   "metadata": {},
   "outputs": [],
   "source": [
    "df.head()"
   ]
  },
  {
   "cell_type": "code",
   "execution_count": null,
   "metadata": {},
   "outputs": [],
   "source": []
  },
  {
   "cell_type": "code",
   "execution_count": null,
   "metadata": {},
   "outputs": [],
   "source": []
  },
  {
   "cell_type": "code",
   "execution_count": null,
   "metadata": {},
   "outputs": [],
   "source": [
    "df.head()"
   ]
  },
  {
   "cell_type": "code",
   "execution_count": null,
   "metadata": {},
   "outputs": [],
   "source": [
    "images=df.values.tolist()"
   ]
  },
  {
   "cell_type": "code",
   "execution_count": null,
   "metadata": {},
   "outputs": [],
   "source": [
    "i=-100\n",
    "img=np.array(images[i]).reshape(img_h,img_w)\n",
    "print(labels[i])"
   ]
  },
  {
   "cell_type": "code",
   "execution_count": null,
   "metadata": {},
   "outputs": [],
   "source": [
    "plt.imshow(img)\n",
    "plt.show()"
   ]
  },
  {
   "cell_type": "code",
   "execution_count": null,
   "metadata": {},
   "outputs": [],
   "source": []
  },
  {
   "cell_type": "code",
   "execution_count": null,
   "metadata": {},
   "outputs": [],
   "source": []
  }
 ],
 "metadata": {
  "kernelspec": {
   "display_name": "Python 3",
   "language": "python",
   "name": "python3"
  },
  "language_info": {
   "codemirror_mode": {
    "name": "ipython",
    "version": 3
   },
   "file_extension": ".py",
   "mimetype": "text/x-python",
   "name": "python",
   "nbconvert_exporter": "python",
   "pygments_lexer": "ipython3",
   "version": "3.5.6"
  }
 },
 "nbformat": 4,
 "nbformat_minor": 2
}

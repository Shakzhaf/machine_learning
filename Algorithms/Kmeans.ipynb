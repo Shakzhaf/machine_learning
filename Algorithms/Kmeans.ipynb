<<<<<<< HEAD
{
 "cells": [
  {
   "cell_type": "markdown",
   "metadata": {},
   "source": [
    "##K-Means"
   ]
  },
  {
   "cell_type": "markdown",
   "metadata": {},
   "source": [
    "K-Means clustering intends to partition n objects into k clusters in which each object belongs to the cluster with the nearest mean. This method produces exactly k different clusters of greatest possible distinction. The best number of clusters k leading to the greatest separation (distance) is not known as a priori and must be computed from the data. \n",
    "\n",
    "Algorithm\t\t\n",
    "1.. Clusters the data into k groups where k  is predefined.\n",
    "2.. Select k points at random as cluster centers.\n",
    "3.. Assign objects to their closest cluster center according to the Euclidean distance function.\n",
    "4.. Calculate the centroid or mean of all objects in each cluster.\n",
    "5.. Repeat steps 2, 3 and 4 until the same points are assigned to each cluster in consecutive rounds.\n",
    "\n",
    "K-Means is relatively an efficient method. However, we need to specify the number of clusters, in advance and the final results are sensitive to initialization and often terminates at a local optimum. Unfortunately there is no global theoretical method to find the optimal number of clusters. A practical approach is to compare the outcomes of multiple runs with different k and choose the best one based on a predefined criterion. In general, a large k probably decreases the error but increases the risk of overfitting."
   ]
  },
  {
   "cell_type": "code",
   "execution_count": 1,
   "metadata": {},
   "outputs": [],
   "source": [
    "import matplotlib.pyplot as plt\n",
    "from matplotlib import style\n",
    "style.use('ggplot')\n",
    "import numpy as np\n",
    "import matplotlib.animation as animation\n",
    "import time"
   ]
  },
  {
   "cell_type": "code",
   "execution_count": 2,
   "metadata": {},
   "outputs": [],
   "source": [
    "x=np.array([[1,2],\n",
    "           [1.5,1.8],\n",
    "           [5,8],\n",
    "           [8,8],\n",
    "           [1,0.6],\n",
    "           [9,11]])"
   ]
  },
  {
   "cell_type": "code",
   "execution_count": 3,
   "metadata": {},
   "outputs": [
    {
     "data": {
      "text/plain": [
       "<function matplotlib.pyplot.show(*args, **kw)>"
      ]
     },
     "execution_count": 3,
     "metadata": {},
     "output_type": "execute_result"
    },
    {
     "data": {
      "image/png": "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\n",
      "text/plain": [
       "<Figure size 432x288 with 1 Axes>"
      ]
     },
     "metadata": {},
     "output_type": "display_data"
    }
   ],
   "source": [
    "plt.scatter(x[:,0],x[:,1],s=90,marker='o')\n",
    "plt.show"
   ]
  },
  {
   "cell_type": "code",
   "execution_count": 4,
   "metadata": {},
   "outputs": [],
   "source": [
    "colors=10*['r','g','b','c','k']"
   ]
  },
  {
   "cell_type": "code",
   "execution_count": 5,
   "metadata": {},
   "outputs": [],
   "source": [
    "class K_means:\n",
    "    list=[]\n",
    "    def __init__(self, k=2,tol=0.001,max_iter=300): #'''why is max_iter=300?'''\n",
    "        self.k=k\n",
    "        self.tol=tol\n",
    "        self.max_iter=max_iter\n",
    "        \n",
    "        #we will use this dictionay to collect the x and y co-ordinates of the centroids as we move ahead.\n",
    "        self.collection={}\n",
    "        \n",
    "        #used to run the loop one more time after the optimaization is complete (not necessary though)\n",
    "        self.run_once_more=True\n",
    "        \n",
    "    def fit(self,data):\n",
    "        #initialize centroids as empty dictionary\n",
    "        #in this dictionary we'll have k-keys corresponding to k-groups\n",
    "        #each group will have a centroid which we'll store in the values of those keys\n",
    "        \n",
    "        self.centroids={}\n",
    "        \n",
    "        #take first two points as centroids (any random points would do but taking 1st k points makes it easier)\n",
    "        for i in range(self.k):\n",
    "            self.centroids[i]=data[i]              #taking 1st two points #self.centroids=[[1,2],[1.5,1.8]]\n",
    "            self.collection[i]=[[] for m in range(2)]\n",
    "            \n",
    "            #takes and store the initial x and y co-ordinates store them in our wonderful collection of centroids\n",
    "            self.collection[i][0].append(self.centroids[i][0])\n",
    "            self.collection[i][1].append(self.centroids[i][1])\n",
    "            \n",
    "        #this loop will run maximum 300 times, see the class constructor \n",
    "        for i in range(self.max_iter):\n",
    "            self.classifications={}\n",
    "            \n",
    "            for i in range(self.k):\n",
    "                #initialize classifications for every group as empty list (classifications are nothing but groups)\n",
    "                self.classifications[i]=[]           #{0:[],1:[]}\n",
    "                #self.collection[i]=[[] for m in range(2)]\n",
    "                #print self.collection\n",
    "                \n",
    "                \n",
    "                \n",
    "            for featureset in data:                  #featureset = point\n",
    "                #take each point from the dataset and calculate it's distance with the two randomly selected points\n",
    "                #store the two distances in a list\n",
    "                \n",
    "                distances=[np.linalg.norm(featureset-self.centroids[centroid]) for centroid in self.centroids]\n",
    "                \n",
    "                #now the index of the minimum distance will tell us which group the point belongs to, so store the index\n",
    "                #so add that point into that group's list\n",
    "                #{0:[points will be append here],1:[or here]}\n",
    "                \n",
    "                classification=distances.index(min(distances))\n",
    "                self.classifications[classification].append(featureset)\n",
    "            \n",
    "            #store the two randomly selected points so that they can be used later\n",
    "            prev_centroids=dict(self.centroids)          #here the dict keyword is unnecessary\n",
    "\n",
    "            for classification in self.classifications:\n",
    "                #now for each group there are points appended in their list(see line 32)\n",
    "                #now it's time to calculate the new centroids, this is done by taking average of all points and saving them\n",
    "                #into the centroids dictionary(where we had taken two random values initially, now we'll take this average)\n",
    "                \n",
    "                self.centroids[classification]=np.average(self.classifications[classification],axis=0)\n",
    "                \n",
    "                #now since the new centroids are calculated for each group, we'll store the x and y co-ordinates in seperate lists\n",
    "                #for each group\n",
    "                #eg: {\n",
    "                #     0: [[1.0, 1.0, 1.1666666666666667, 1.1666666666666667, 1.1666666666666667],\n",
    "                #         [2.0, 2.0, 1.4666666666666666, 1.4666666666666666, 1.4666666666666666]],\n",
    "                #    1: [[1.5, 4.9, 7.333333333333333, 7.333333333333333, 7.333333333333333],\n",
    "                #        [1.8, 5.880000000000001, 9.0, 9.0, 9.0]]\n",
    "                #   }\n",
    "                self.collection[classification][0].append(self.centroids[classification][0])\n",
    "                self.collection[classification][1].append(self.centroids[classification][1])\n",
    "                \n",
    "                \n",
    "\n",
    "            optimized=True\n",
    "\n",
    "            for c in self.centroids:\n",
    "                #store the previours values in a different list (see line 41)\n",
    "                orignal_centroid=prev_centroids[c]\n",
    "                current_centroid=self.centroids[c]\n",
    "                \n",
    "                #if the change in position of the new centorid from the previous centroid is more than tolerance then\n",
    "                #then we need to optimize it further, hence optimized=False meaning more optimization has to be done.\n",
    "                if np.sum((self.centroids[c]-orignal_centroid)/orignal_centroid*100)>self.tol:\n",
    "                    optimized=False\n",
    "            \n",
    "            #if sufficiently optimized then stop\n",
    "            if optimized:\n",
    "                if self.run_once_more:\n",
    "                    break\n",
    "                else:\n",
    "                    self.run_once_more=True\n",
    "            \n",
    "    def predict(self,data):\n",
    "        #now to predict from test data points, we calculate the distance of the test point with the centroids of each group\n",
    "        #whichever group's centroid has minimum distance with the test point, that group is returnd as the answer\n",
    "        \n",
    "        distances=[np.linalg.norm(data-self.centroids[centroid]) for centroid in self.centroids]\n",
    "        classification=distances.index(min(distances))\n",
    "        return classification\n",
    "    \n",
    "    def plot_centroid(self):\n",
    "        '''now is the time put our precious collection on display'''\n",
    "        #we enter each group(like a boss) and plot the x and y co-ordinates.\n",
    "        for classification in self.collection:\n",
    "            plt.scatter(self.collection[classification][0],self.collection[classification][1])\n",
    "            plt.plot(self.collection[classification][0],self.collection[classification][1])\n",
    "        plt.show\n",
    "    "
   ]
  },
  {
   "cell_type": "code",
   "execution_count": 6,
   "metadata": {},
   "outputs": [
    {
     "data": {
      "text/plain": [
       "{0: [[1.0, 1.0, 1.1666666666666667, 1.1666666666666667],\n",
       "  [2.0, 2.0, 1.4666666666666666, 1.4666666666666666]],\n",
       " 1: [[1.5, 4.9, 7.333333333333333, 7.333333333333333],\n",
       "  [1.8, 5.880000000000001, 9.0, 9.0]]}"
      ]
     },
     "execution_count": 6,
     "metadata": {},
     "output_type": "execute_result"
    }
   ],
   "source": [
    "clf=K_means(k=2)\n",
    "clf.fit(x)\n",
    "clf.collection"
   ]
  },
  {
   "cell_type": "code",
   "execution_count": 7,
   "metadata": {},
   "outputs": [
    {
     "data": {
      "image/png": "iVBORw0KGgoAAAANSUhEUgAAAXQAAAD8CAYAAABn919SAAAABHNCSVQICAgIfAhkiAAAAAlwSFlzAAALEgAACxIB0t1+/AAAADl0RVh0U29mdHdhcmUAbWF0cGxvdGxpYiB2ZXJzaW9uIDIuMi4yLCBodHRwOi8vbWF0cGxvdGxpYi5vcmcvhp/UCwAAIABJREFUeJzt3Xt8lPWB7/FPMpNALgQShtwANRAVKQoishq8gqdrW8XSdn8r2la8wba2q609e7SLq11tt/t67empZ1d2A1KRSq2/qrTYVUtrX9qjablfVBBJDCKG3EnIhdxmnvNHBuQqIfMkzzOT7/v14gVze56vM8nXZ37ze36T5DgOIiIS/5K9DiAiIu5QoYuIJAgVuohIglChi4gkCBW6iEiCUKGLiCQIFbqISIJQoYuIJAgVuohIgggO8v50WqqISP8kne4Og13oVFVVxbyNUChEfX29C2nc48dM4M9cytQ3fswE/syV6JkKCwv7dD8NuYiIJAgVuohIglChi4gkCBW6iEiCUKGLiCQIFbqISIJQoYuIJAgVuoiICxzHobyp/KS3lTeVMxhf96lCFxFxQUVzBfNemkdZVdkx15dVlTHvpXlUNFcMeAYVuoiIC4pHFVM6p5RFry06UuplVWUsem0RpXNKKR5VPOAZBv3UfxGRRFVSWHKk1Lc1b2PJxiWUzimlpLBkUPavI3QREReVFJawYPICHnvzMRZMXjBoZQ4qdBERV5VVlbFixwoWX7GYFTtWnDCmPpBU6CIiLjl6zPyhKx86YUx9oKnQRURcUN5UfqTMDw+zHD2mfqopjW7Sh6IiIi6YOHIiq29cfcJslpLCElbfuJqJIycOeAYVuoiIC5KSkk45NXEwpiyChlxERBKGCl1EJEGo0EVEEoQKXUQkQajQRUQShApdRCRBqNBFRBKECl1EJEGo0EVEEsRpzxQ1xvwMuAGotdZOiV6XAzwHnAPsAYy19sDAxRQRkdPpyxH6CuD64657AHjNWnsu8Fr0soiIeOi0hW6t/RPQeNzVNwFPR//9NPBFl3OJiMgZ6u8Yep61dj9A9O9c9yKJiEh/DPhqi8aYhcBCAGstoVAo5m0Gg0FXtuMmP2YCf+ZSpr7xYybwZy5liu6zn4+rMcYUWGv3G2MKgNpT3dFauxRYGr3o1NfX93OXnwiFQrixHTf5MRP4M5cy9Y0fM4E/cyV6psLCwj7dr79DLmuA26L/vg34TT+3IyIiLunLtMVngWuAkDFmH/Aw8GPAGmPuBPYCfzOQIUVE5PROW+jW2vmnuGmOy1lERCQGOlNURCRBqNBFRBKECl1EJEGo0EVEEoQKXUQkQajQRUQShApdRCRBqNBFRBKECl1EJEEM+GqLIjI0tba2smbNGiorKykqKmLu3LlkZmZ6HSuh6QhdRFy3fv16Zt30VVY2FlKW+1lWNhYy66avsn79eq+jJTQVuoi4qrW1lbsf/BFnff1RhmXnE0wfwbDsfM76+qPc/eCPaGtr8zpiwlKhi4ir1qxZQ8G8+0gOphxzfXIwhYJ597FmzRqPkiU+FbqIuKqyspLA8BEnvS0wLIPKyspBTjR06ENREXFNdzhC2zklBJz0k94e7myjqKhokFMNHTpCFxFX7Kht576X9/AuBbR9sJVIT/cxt0d6utm/+qfMnTvXo4SJT0foIhKTtq4wK7fW8eruJnIzgvzTNeMIn3uQux98iIJ59xEYlkG4s439q3/Ksn/5PhkZGV5HTlgqdBHptz9/1MLSDTU0dfRw06Rs5l80hrSUZBg7k7I1q46dh75mlcp8gKnQReSMNbR3U7qhhnX7WinKHsb3rx7LuaPTjrlPRkYG8+ef6hssZSCo0EWkzyKOw+rt+1nyZiU9EYfbpo1h7gU5BJOTvI4mqNBFpI/2NneyZF01O+sOcVF+Ot+cmU/BiFSvY8lRVOgi8qm6wxGef7eB599tIC2YzOLPnsuMUDJJSToq9xsVuoic0o7adp5YV82+g11cfU4Wd16Sy8RxedTX13sdTU5ChS4iJ2jtCrNySx2/K28iNyOFh68dx/RCrZTodyp0ETnGn/e2ULqxhuboVMRbpo5heFDnIMYDFbqIAMdORZyQPYzFV4+jePRwr2PJGVChiwxxEcfh1d1NrNxSR9hxuO3iMdw0KYeApiLGHRW6yBC2t6mTJ9ZV8179Iabmp/MNTUWMazEVujHmO8BdgAO8Ddxure1wI5jIQHIch4rmCopHFZ9wW3lTORNHTkzoaXnd4Qj2nQZe3NFAWkqAey8v4NqirLj5bx7qr9+p9PuTDmPMWODvgRnW2ilAALjZrWAiA6miuYJ5L82jrKrsmOvLqsqY99I8KporPEo28N6tbefel/dg32lg1llZPHFDEbMnjIyrAhzKr9+nifWj6yCQZowJAulAVeyRRAZe8ahiSueUsui1RUdKoayqjEWvLaJ0TulJj/ziXWtXmCXrqvn+7/fSHXZ4+NpxfHdWISOHx9/I61B8/fqi36+ktfZjY8y/AXuBQ8Baa+1a15KJDLCSwpIjpbCteRtLNi6hdE4pJYUlXkdzleM4vasibqyluaOHL16Qw/yLQnE/FXGovH5nIslxnH490BiTDbwA/C3QBPwKeN5a+8xx91sILASw1l7S1dUVU2CAYDBIT09PzNtxkx8zgT9z+S3To//vUR578zEWX7GYh658yOs4R7jxPNW2dPK/X6/gzQ8aOW9MBv9rzrlMyovtBCG9fn3j5vOUmpoKcNoxsVjea10HVFpr6wCMMS8CJcAxhW6tXQosjV503DhlOBQK+e7UYz9mAn/m8lOmsqoylmxcwuIrFrNk4xKmjpzqmyO8WJ6niOPwyvtN/Hzr8VMRO6ivj23egl6/vnHzeSosLOzT/WIp9L3AZcaYdHqHXOYAG2PYnsigOnrMde5Fc5k6cuqRy34phf7Y29TJf6yrZlf9IaZFpyLmJ+BUxER9/WLR70E0a+064HlgM71TFpP55EhcxNfKm8pP+OU/eky2vKnc44RnriscYdW2Or7zSiVVLV3cd3kBj8wen5Blnoivnxv6PYbeT05VVewTYfz0lu8wP2YCf+byQ6bj5zEfnckv85jP5Hl6t6adJ9ZX8/HBLq4pyuKO6bkDNntFr1/fDMCQy4COoYvEraSkpFNObYunKW+tXWGe3lLL2vJm8jJTeGT2eC4uSPzv7UyU189tKnSROOQ4DmUftbBsQw3NneGEmYoosVGhi8SZurZulm6sYX10VcSHrh3PxBytiigqdJG4EY5EV0XcWkfEcbh9+hhuPF+rIsonVOgiceDDpk6eWLefXfUdTCvI4Jsz88jLTLzZKxIbFbqIj3WFI9i3e1dFzEgN8J2SAq4+J35WRZTBpUIX8akt+5r50do9VLX0TkW8c3ouWXG4kJYMHv10iPhMa2eYFVtq+X1F71TEH8wez7QhMBVRYqdCF/EJx3Eo29vC0o01HOwMc8slY/licQbDNBVR+kiFLuIDdW3dlG6oZsPHbUzMGcbD145n5nnjPD8jU+KLCl3EQ+GIwyu7D/DzrfU4moooMVKhi3hkz4EOnlhXzfsNHVxckME3NBVRYqRCFxlkmoooA0WFLjKI3qlp54l11VS1dHFtdFVETUUUt+gnSWQQtHaGeWpLLX+oaCZfUxFlgKjQRQaQ4zi8tbeFZdGpiF+anMPNF4Y0FVEGhApdZIAcOxVxOA9fO54JWhVRBpAKXcRlx09FvGN6Ljecn62piDLgVOgiLjp6KuL0ggz+TlMRZRCp0EVc0BWO8NzbDaze0UBmaoDvlhRwlaYiyiBToYvE6O2aNpasq6aqpZvZE7K4fXoeWcMCXseSIUiFLtJPLdFVETUVUfxChS5yhhzH4c0PW1i2qYYWTUUUH1Ghi5yBurZu/mt9NRur2ijOGc4jmoooPqJCF+mDcMTh5fcP8My2OhwHTUUUX1Khi5zGngMd/Me6anZrKqL4nApd5BQ6eyLYdz6Zinj/rEKuPHuEpiKKb6nQRU5ie3UbS9ZXs7+lm9kTRnL79FxNRRTfi6nQjTGjgCeBKYAD3GGt/bMbwUS80NIZ5qnNtbz2Qe9UxH+eM56p+ZqKKPEh1iP0x4FXrbVfMcakAukuZBIZdI7j8Kc9B3kyOhXxy5Nz+FtNRZQ40+9CN8ZkAVcBCwCstV1AlzuxRAZPXVs3P35rB3/ec4BzRw/nB7PHU5StqYgSf2I5Qp8A1AFPGWOmApuAe621ba4kExkA1a1drNpWz4H2bkalBSkYkcqa9xpJSkrizkty+cJ5mooo8SuWQg8C04FvW2vXGWMeBx4AHjr6TsaYhcBCAGstoVAohl1GdxwMurIdN/kxE/gzl1eZqpoP8c+v7+Hj5o5jrr94XBYPf24yY9L9NUfAj68d+DOXMkX3GcNj9wH7rLXropefp7fQj2GtXQosjV506uvrY9hlr1AohBvbcZMfM4E/c3mV6d/fqjqhzAEyAw5j0oN6nvrIj7kSPVNhYWGf7tfvT3ystdXAR8aY86NXzQF29Hd7IgPJcRw+aDx00tuaOnoGOY3IwIj1Pea3gVXRGS4fALfHHknEXZUHOli6oYZ9B7tPent2WsogJxIZGDEVurV2KzDDpSwirmrtCvOLbXW8sruJzNQAX5sWYu3uJmraPjkiz89M4dap/hp7Fekvf30KJOKCiOPwxw+aWbmljpauMNefO4pbLhrDiGEBrjg7q3eWy6FustN6yzxf67JIglChS0LZ3XCIpRtqeL+hgwvGpLFwRt4xy9vmZ6Zy/6y+fcAkEm9U6JIQDnaGeWZrHWvLmxg5PMB9lxdwTZG+01OGFhW6xLVwxGFteROrttXR1h3hxknZ3HxhiIxULaQlQ48KXeLWe3WHWLqxmorGTqbkpbNoRh5njRrmdSwRz6jQJe40dfSwcksdr33QzOi0IN+bVcgVWqdcRIUu8ePw18A9u72eznCEL03OwUwJkZaiFRFFQIUuceLdmnZKN9bwYVMn0woyuHtGLuOyNLwicjQVuvhaQ3s3T2+p4409BxmTHuSBq8Zy2bhMDa+InIQKXXypJ+Lw0nuN/PLtBsIRBzNlNF/5zGh94YTIp1Chi+9sq26Lrr3SxaVjM7jzkjwKRuhsTpHTUaGLb9S1dfPU5lre2ttCfmYKi68ex6XjMr2OJRI3VOjiue5whF/vbORX7zTgALdeFOKLk3NIDWh4ReRMqNDFU5s+bmXZphr2t3Rz+fhM7pieR26mlrMV6Q8VuniiprWL5ZtqWbevlbFZqTwyezwXF2R4HUskrqnQZVB19kRY/pcPeWbjPpKT4LZpY7hxUg4pAU1DFImVCl0GheM4rN/XypObaqlt6+bKs0ewYHouoXQNr4i4RYUuA67qYBfLNtaweX8bZ41M5d+/PIWzhut7PEXcpkKXAdPRE+FX7zTw652NpAaSuPOSXD5/Xjb5uaN89w3tIolAhS6ucxyHsr0tLN9cS0N7D9cWZXHbxblkp+nHTWQg6TdMXLW3uZNlG2vYXt1OUfYw/uesQi7ITfc6lsiQoEIXV7R3h3nu7QZeeq+R4SnJLLo0j78uHkUgWbNXRAaLCl1i4jgOb+w5yIotdTQd6uG6iSP52rQxjByuHy2RwabfOum3PQc6KN1Qw466QxTnDOf7V43lvFCa17FEhiwVupyx1q4wv9hezyvvHyAjNcA9f5XPdRNHkqw1ykU8pUKXPos4Dn/8oJmVW+po6Qrz18WjuHXqGEYMC3gdTURQoUsflTd0sHRjNbvqO5gUSuORS/OYkDPc61gichQVunyqg51hntlax9ryJkYOD3Dv5QVcW5Slr4AT8aGYC90YEwA2Ah9ba2+IPZL4QTji8PuKJp7ZWkdbd4QbJmUz/8IQGakaXhHxKzeO0O8FdgJZLmxLfGBX/SFKN9RQ0djBlNw0Fl6az9mjhnkdS0ROI6ZCN8aMA74A/BD4riuJxDNNHT2s3FLHax80k5MW5P5ZhVx59ggNr4jEiViP0H8K/AMwwoUs4pFwxOGV3Qf4xbZ6OsMRvjQ5BzMlRFqKvgJOJJ70u9CNMTcAtdbaTcaYaz7lfguBhQDWWkKhUH93eUQwGHRlO27yYyY4fa6tHzfzf16voLy+nUvPGsV3rp7A2TkDu/aKH58rZeo7P+ZSpl5JjuP064HGmH8Bvgb0AMPpHUN/0Vr71U95mFNVVdWv/R0tFAr5bvlVP2aCU+dqPNTDis21vLHnIGPSg9x5SR6Xjc8clOEVPz5XytR3fsyV6JkKCwsBTvvL2e8jdGvtg8CDANEj9O+dpszFB3oiDr/d1ciz2xvoiTiYKaP5ymdGMyyo4RWReKd56EPItuo2lm6oYd/BLmYUZnDXjDwKRqR6HUtEXOJKoVtrXwded2Nb4r66tm6e2lzLW3tbyM9MYfHV47h0XKbXsUTEZTpCT2Dd4QgrN3zEinV7cYBbLgoxb3IOqQENr4gkIhV6gtpc1cqyjTVUtXRz2fhM7pieS16mhldEEpkKPcHUtHaxfFMt6/a1UjgilZ988TNMzAh7HUtEBoEKPUF09kRYvaORF3Y0kJwEX582hrmTcijIy/bddC4RGRgq9DjnOA7rP25l+aZaalq7ueLsEdw+PZdQeorX0URkkKnQ41jVwS6e3FTDpqo2xo9M5dE547koP8PrWCLiERV6HOroifCrdxr49c5GUpKTuGN6Ll84P5tgshbREhnKVOhxxHEcyva2sHxzLQ3tPVxTlMWCi3PJTtPLKCIq9LjxUXMnSzfWsL26naLsYXxvViGTcwd2ES0RiS8qdJ9r7w7z3NsNvPReI8NTklk4I4/rzx1FQMMrInIcFbpPOY7DG3sOsmJLHQcO9XDdxJF8fdoYRg7XSyYiJ6d28KE9Bzoo3VDDjrpDFOcM5/tXjeW8UJrXsUTE51ToPtLaFebZ7fW8/P4BMlID3PNX+cyZMFLDKyLSJyp0H4g4Dn/8oJmVW+o42Bnm+nNHcevUMYwYFvA6mojEERW6x8obOli6sZpd9R2cH0rj4dl5TMwZ7nUsEYlDKnSPHOwMs2pbHb/b3cTI4QHuvbyAa4qySB6Er4ATkcSkQh9k4YjD7yuaeGZrHW3dEW6YlM38C0NkpGp4RURio0IfRLvqD1G6oYaKxg6m5KZx94w8zsnW8IqIuEOFPgiaOnr4+dY6/lDRTE5akPtnFXLl2SNI0vCKiLhIhT6AwhGHV3c3sWp7HR3dEb40OYe/mTKa9BQNr4iI+1ToA+Td2naWbqhhT1MnU/PTWTgjj3Ejh3kdS0QSmArdZY2Henh6cy2v7znImPQgD1w5lsvGZ2p4RUQGnArdJT3hCL/Z2ciz2+vpjjiYKaP5ymdGMyyY7HU0ERkiVOgu2F7dxvJXPmRP4yEuKczg7hl5FIxI9TqWiAwxKvQY1LV189TmWt7a20Jh1jD+8eqxzBw3wutYIjJEqdD7oTsc4TfvHcC+XY8D3HJRiLuuPI+Wpkavo4nIEKZCP0Obq1pZtrGGqpZuLhufyR3Tc8nLTGVYMJkWr8OJyJCmQu+jmtYulm+qZd2+VgpHpPDwteOYXpjpdSwRkSP6XejGmPHASiAfiABLrbWPuxXsGI5DoKKCcHHxCTcFyssJT5wIAzQtsLMnwuqdjbzwbgPJSfD1aWOYOymblIBmr4iIv8TSSj3A/dbaC4DLgHuMMZPdiXWsQEUFoXnzSH7hl4QfuIuaWz9L+IG7SH7hl4TmzSNQUeH6Ph3HYd2+Fr7935U8u72emeMyeeLGCXz5M6NV5iLiS/0+QrfW7gf2R//dYozZCYwFdriU7YhwcTF1j/wj3S+vgsPf3tPeSvfLq6h75B+JnOTIPRb7W7pYtrGGTVVtjB+ZyqNzxnNRfoar+xARcZsrY+jGmHOAi4F1bmzvZLo3/OGTMj8sOYnuDX8g8OWb+76hTxm+6d61m+cOjWT1zgOkJCdxx/RcvnB+NkF9BZyIxIEkx3Fi2oAxJhN4A/ihtfbFk9y+EFgIYK29pKurq1/7qbn1s9DeeuIN6ZnkrVrb9w3t2kXK7NnsfeoXlEbyaWjrJCc9laltNTyz8wA1WSGunzSGb1xRRCij7ycHBYNBenp6+p5jkPgxlzL1jR8zgT9zJXqm1NRUgNMeWcZU6MaYFOC3wO+stT/pw0Ocqqqqfu0r/MBd0FB74g2jcwn8+Mkz2lbjG39h8dsdfJydf8z141PCfPOaIibnpp9xvlAoRH19/Rk/bqD5MZcy9Y0fM4E/cyV6psLCQuhDoff70z1jTBKwHNjZxzKPScql10HkuP/5OA7BGbPPeFtPBc86ocwBzikc1a8yFxHxg1ima8wCvgbMNsZsjf75vEu5jhEoL2fMIz8k5fO3wuhcSM+EzCxISiK99AkC5eVntL0D7d0nvb6pw19v2UREzkQss1zepA9vAdwQnjiR+tWriRQXE/jyzYRCIerq6oj83x9wMPVdkrOzzihIdnoKcOjE69NSXMssIjLY4uNM0aSkE2alJCUlkXzL3xF55Nt0P/OfPB8qpnLPHoqKipg7dy6Zmac+i/P2nr1UHDh2DH3sgWpuH9cEFA7Uf4WIyICK6zNkksbks+/iKwi8s4k5v3uGb7z/FiX//TR3XTOL9evXn/QxgfJyLvjW3Tx24XCuOieLC/PSuOqcLB67cDgXfOvuMx6+ERHxi/g4Qj+F1tZWHvyvn7Fy2lmEhvUOl4xMDbJi6ngWfPNulr9RRkbGsScEHR6+ySku5v5jbimkfvXq3mUERETiUFwfoa9Zs4YfnZ9/wte7pSQn8+Pz81mzZs2JDzrJ8M1h4eLiAVsTRkRkoMV1oVdWVpIVDJz0thHBAJWVlYOcSETEO3Fd6EVFRRzsCZ/0tpaeMEVFRYOcSETEO3Fd6HPnzuWBXdV0RyLHXN8difDArmrmzp3rUTIRkcEX14WemZnJd5csY8G2j/iovZOmrh4+au9kwbaP+O6SZSd8ICoiksjiepYLwMyZM1n+Rhlr1qyhsrKSoqIili+dqzIXkSEn7gsdICMjg/nz53sdQ0TEU3E95CIiIp9QoYuIJAgVuohIglChi4gkCBW6iEiCUKGLiCSI+Ch0xznlsraB8nKI8YuuRUQSQVwUeqCigtC8eaSWlR1zfWpZGaF58whUVHiUTETEP+Ki0MPFxRwoLSV70aIjpZ5aVkb2okUcKC095XK4IiJDSdycKdpVUnKk1Nm2jewlSzhQWkpXSYnX0UREfCEujtAP6yopoX3BAgKPPUb7ggUqcxGRo8RVoaeWlZG+YgXhxYtJX7HihDF1EZGhLG4K/Zgx84ceOmFMXURkqIuLQg+Ulx8p88PDLEePqZ9qSqOIyFASFx+KhidOpH716hNms3SVlPReP3GiR8lERPwjLgqdpKRTTk3UlEURkV5xMeQiIiKnp0IXEUkQMQ25GGOuBx4HAsCT1tofu5JKRETOWL+P0I0xAeAJ4HPAZGC+MWayW8FEROTMxDLkMhMot9Z+YK3tAn4J3OROLBEROVOxFPpY4KOjLu+LXiciIh6IZQw96STXnbAwuTFmIbAQwFpLKBSKYZe9gsGgK9txkx8zgT9zKVPf+DET+DOXMkX3GcNj9wHjj7o8Dqg6/k7W2qXA0uhFJzU1NYZdfsKt7bjJj5nAn7mUqW/8mAn8mUuZYhty2QCca4wpMsakAjcDa07zmCQ3/hhjNrm1rUTO5NdcyhS/mfyaa4hkOq1+F7q1tgf4FvA7YGfvVfbd/m5PRERiE9M8dGvty8DLLmUREZEYxOuZoktPf5dB58dM4M9cytQ3fswE/sylTECS45wwMUVEROJQvB6hi4jIceJj+dwoY8zPgBuAWmvtFK/zABhjxgMrgXwgAiy11j7ucabhwJ+AYfS+xs9bax/2MtNh0SUjNgIfW2tv8DoPgDFmD9AChIEea+0MbxOBMWYU8CQwhd7zO+6w1v7ZwzznA88dddUE4J+stT/1KNIRxpjvAHfR+zy9Ddxure3wONO9wN30zk5ZNljPU7wdoa8Arvc6xHF6gPuttRcAlwH3+GBNm05gtrV2KjANuN4Yc5nHmQ67l95ZUX5zrbV2mh/KPOpx4FVr7SRgKh4/Z9baXdHnZxpwCdAOrPYyE4AxZizw98CM6EFegN4p1F5mmkJvmc+k97W7wRhz7mDsO64K3Vr7J6DR6xxHs9but9Zujv67hd5fPE+XQLDWOtba1ujFlOgfzz8sMcaMA75A75GnnIIxJgu4ClgOYK3tstY2eZvqGHOACmvth14HiQoCacaYIJDOSU5wHGQXAH+x1rZHp3e/AcwbjB3H1ZCL3xljzgEuBtZ5HOXw0MYmoBh4wlrreSbgp8A/ACO8DnIcB1hrjHGA0ujZzV6aANQBTxljptL7Ot5rrW3zNtYRNwPPeh0CwFr7sTHm34C9wCFgrbV2rcex3gF+aIwZHc30eXqHGQdcXB2h+5kxJhN4AbjPWnvQ6zzW2nD07fE4YGb0baBnjDGHP/vY5GWOU5hlrZ1O71LQ9xhjrvI4TxCYDvyntfZioA14wNtIvaJnhc8FfuV1FgBjTDa9q7wWAYVAhjHmq15mstbuBP4V+D3wKrCN3qHZAadCd4ExJoXeMl9lrX3R6zxHi75Vfx3vP3uYBcyNfgD5S2C2MeYZbyP1stZWRf+upXdceKa3idgH7DvqXdXz9Ba8H3wO2GytrfE6SNR1QKW1ts5a2w28CJR4nAlr7XJr7XRr7VX0DhPvHoz9qtBjZIxJonesc6e19ide5wEwxoyJzpLAGJNG7w/9e15mstY+aK0dZ609h9637H+01np6JAVgjMkwxow4/G/gs/S+ZfaMtbYa+Cg6swR6x6x3eBjpaPPxyXBL1F7gMmNMevR3cQ4++NDdGJMb/fss4EsM0nMWV2PoxphngWuAkDFmH/CwtXa5t6mYBXwNeNsYszV63fejyyJ4pQB4OjqOnkzvOju/9TCPn+UBq40x0Pv78Atr7aveRgLg28Cq6BDHB8DtHufBGJMO/A9gkddZDrPWrjPGPA9spndYYwv+OGv0hegYejdwj7X2wGDsVGeKiogkCA25iIgkCBW6iEiCUKGLiCQIFbqISIJQoYuIJAgVuohIglChi4gkCBW6iEh90trNAAAAB0lEQVSC+P8diGYMEj45dwAAAABJRU5ErkJggg==\n",
      "text/plain": [
       "<Figure size 432x288 with 1 Axes>"
      ]
     },
     "metadata": {},
     "output_type": "display_data"
    }
   ],
   "source": [
    "#this block is to show how the centorid is moving/shifting as the program progresses\n",
    "\n",
    "for centroid in clf.centroids:\n",
    "    plt.scatter(clf.centroids[centroid][0], clf.centroids[centroid][1], marker='o', color='k',s=50,linewidth=1)\n",
    "\n",
    "for classification in clf.classifications:\n",
    "    color=colors[classification]\n",
    "    for featureset in clf.classifications[classification]:\n",
    "        plt.scatter(featureset[0],featureset[1],marker='x',color=color,s=50,linewidth=1)\n",
    "clf.plot_centroid()"
   ]
  },
  {
   "cell_type": "code",
   "execution_count": 8,
   "metadata": {},
   "outputs": [
    {
     "data": {
      "text/plain": [
       "1"
      ]
     },
     "execution_count": 8,
     "metadata": {},
     "output_type": "execute_result"
    }
   ],
   "source": [
    "clf.predict([7,8])"
   ]
  }
 ],
 "metadata": {
  "kernelspec": {
   "display_name": "Python 3",
   "language": "python",
   "name": "python3"
  },
  "language_info": {
   "codemirror_mode": {
    "name": "ipython",
    "version": 3
   },
   "file_extension": ".py",
   "mimetype": "text/x-python",
   "name": "python",
   "nbconvert_exporter": "python",
   "pygments_lexer": "ipython3",
   "version": "3.6.5"
  }
 },
 "nbformat": 4,
 "nbformat_minor": 2
}
=======
{
 "cells": [
  {
   "cell_type": "markdown",
   "metadata": {},
   "source": [
    "##K-Means"
   ]
  },
  {
   "cell_type": "markdown",
   "metadata": {},
   "source": [
    "K-Means clustering intends to partition n objects into k clusters in which each object belongs to the cluster with the nearest mean. This method produces exactly k different clusters of greatest possible distinction. The best number of clusters k leading to the greatest separation (distance) is not known as a priori and must be computed from the data. \n",
    "\n",
    "Algorithm\t\t\n",
    "1.. Clusters the data into k groups where k  is predefined.\n",
    "2.. Select k points at random as cluster centers.\n",
    "3.. Assign objects to their closest cluster center according to the Euclidean distance function.\n",
    "4.. Calculate the centroid or mean of all objects in each cluster.\n",
    "5.. Repeat steps 2, 3 and 4 until the same points are assigned to each cluster in consecutive rounds.\n",
    "\n",
    "K-Means is relatively an efficient method. However, we need to specify the number of clusters, in advance and the final results are sensitive to initialization and often terminates at a local optimum. Unfortunately there is no global theoretical method to find the optimal number of clusters. A practical approach is to compare the outcomes of multiple runs with different k and choose the best one based on a predefined criterion. In general, a large k probably decreases the error but increases the risk of overfitting."
   ]
  },
  {
   "cell_type": "code",
   "execution_count": 1,
   "metadata": {},
   "outputs": [],
   "source": [
    "import matplotlib.pyplot as plt\n",
    "from matplotlib import style\n",
    "style.use('ggplot')\n",
    "import numpy as np\n",
    "import matplotlib.animation as animation\n",
    "import time"
   ]
  },
  {
   "cell_type": "code",
   "execution_count": 2,
   "metadata": {},
   "outputs": [],
   "source": [
    "x=np.array([[1,2],\n",
    "           [1.5,1.8],\n",
    "           [5,8],\n",
    "           [8,8],\n",
    "           [1,0.6],\n",
    "           [9,11]])"
   ]
  },
  {
   "cell_type": "code",
   "execution_count": 3,
   "metadata": {},
   "outputs": [
    {
     "data": {
      "text/plain": [
       "<function matplotlib.pyplot.show(*args, **kw)>"
      ]
     },
     "execution_count": 3,
     "metadata": {},
     "output_type": "execute_result"
    },
    {
     "data": {
      "image/png": "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\n",
      "text/plain": [
       "<Figure size 432x288 with 1 Axes>"
      ]
     },
     "metadata": {},
     "output_type": "display_data"
    }
   ],
   "source": [
    "plt.scatter(x[:,0],x[:,1],s=90,marker='o')\n",
    "plt.show"
   ]
  },
  {
   "cell_type": "code",
   "execution_count": 4,
   "metadata": {},
   "outputs": [],
   "source": [
    "colors=10*['r','g','b','c','k']"
   ]
  },
  {
   "cell_type": "code",
   "execution_count": 5,
   "metadata": {},
   "outputs": [],
   "source": [
    "class K_means:\n",
    "    list=[]\n",
    "    def __init__(self, k=2,tol=0.001,max_iter=300): #'''why is max_iter=300?'''\n",
    "        self.k=k\n",
    "        self.tol=tol\n",
    "        self.max_iter=max_iter\n",
    "        \n",
    "        #we will use this dictionay to collect the x and y co-ordinates of the centroids as we move ahead.\n",
    "        self.collection={}\n",
    "        \n",
    "        #used to run the loop one more time after the optimaization is complete (not necessary though)\n",
    "        self.run_once_more=True\n",
    "        \n",
    "    def fit(self,data):\n",
    "        #initialize centroids as empty dictionary\n",
    "        #in this dictionary we'll have k-keys corresponding to k-groups\n",
    "        #each group will have a centroid which we'll store in the values of those keys\n",
    "        \n",
    "        self.centroids={}\n",
    "        \n",
    "        #take first two points as centroids (any random points would do but taking 1st k points makes it easier)\n",
    "        for i in range(self.k):\n",
    "            self.centroids[i]=data[i]              #taking 1st two points #self.centroids=[[1,2],[1.5,1.8]]\n",
    "            self.collection[i]=[[] for m in range(2)]\n",
    "            \n",
    "            #takes and store the initial x and y co-ordinates store them in our wonderful collection of centroids\n",
    "            self.collection[i][0].append(self.centroids[i][0])\n",
    "            self.collection[i][1].append(self.centroids[i][1])\n",
    "            \n",
    "        #this loop will run maximum 300 times, see the class constructor \n",
    "        for i in range(self.max_iter):\n",
    "            self.classifications={}\n",
    "            \n",
    "            for i in range(self.k):\n",
    "                #initialize classifications for every group as empty list (classifications are nothing but groups)\n",
    "                self.classifications[i]=[]           #{0:[],1:[]}\n",
    "                #self.collection[i]=[[] for m in range(2)]\n",
    "                #print self.collection\n",
    "                \n",
    "                \n",
    "                \n",
    "            for featureset in data:                  #featureset = point\n",
    "                #take each point from the dataset and calculate it's distance with the two randomly selected points\n",
    "                #store the two distances in a list\n",
    "                \n",
    "                distances=[np.linalg.norm(featureset-self.centroids[centroid]) for centroid in self.centroids]\n",
    "                \n",
    "                #now the index of the minimum distance will tell us which group the point belongs to, so store the index\n",
    "                #so add that point into that group's list\n",
    "                #{0:[points will be append here],1:[or here]}\n",
    "                \n",
    "                classification=distances.index(min(distances))\n",
    "                self.classifications[classification].append(featureset)\n",
    "            \n",
    "            #store the two randomly selected points so that they can be used later\n",
    "            prev_centroids=dict(self.centroids)          #here the dict keyword is unnecessary\n",
    "\n",
    "            for classification in self.classifications:\n",
    "                #now for each group there are points appended in their list(see line 32)\n",
    "                #now it's time to calculate the new centroids, this is done by taking average of all points and saving them\n",
    "                #into the centroids dictionary(where we had taken two random values initially, now we'll take this average)\n",
    "                \n",
    "                self.centroids[classification]=np.average(self.classifications[classification],axis=0)\n",
    "                \n",
    "                #now since the new centroids are calculated for each group, we'll store the x and y co-ordinates in seperate lists\n",
    "                #for each group\n",
    "                #eg: {\n",
    "                #     0: [[1.0, 1.0, 1.1666666666666667, 1.1666666666666667, 1.1666666666666667],\n",
    "                #         [2.0, 2.0, 1.4666666666666666, 1.4666666666666666, 1.4666666666666666]],\n",
    "                #    1: [[1.5, 4.9, 7.333333333333333, 7.333333333333333, 7.333333333333333],\n",
    "                #        [1.8, 5.880000000000001, 9.0, 9.0, 9.0]]\n",
    "                #   }\n",
    "                self.collection[classification][0].append(self.centroids[classification][0])\n",
    "                self.collection[classification][1].append(self.centroids[classification][1])\n",
    "                \n",
    "                \n",
    "\n",
    "            optimized=True\n",
    "\n",
    "            for c in self.centroids:\n",
    "                #store the previours values in a different list (see line 41)\n",
    "                orignal_centroid=prev_centroids[c]\n",
    "                current_centroid=self.centroids[c]\n",
    "                \n",
    "                #if the change in position of the new centorid from the previous centroid is more than tolerance then\n",
    "                #then we need to optimize it further, hence optimized=False meaning more optimization has to be done.\n",
    "                if np.sum((self.centroids[c]-orignal_centroid)/orignal_centroid*100)>self.tol:\n",
    "                    optimized=False\n",
    "            \n",
    "            #if sufficiently optimized then stop\n",
    "            if optimized:\n",
    "                if self.run_once_more:\n",
    "                    break\n",
    "                else:\n",
    "                    self.run_once_more=True\n",
    "            \n",
    "    def predict(self,data):\n",
    "        #now to predict from test data points, we calculate the distance of the test point with the centroids of each group\n",
    "        #whichever group's centroid has minimum distance with the test point, that group is returnd as the answer\n",
    "        \n",
    "        distances=[np.linalg.norm(data-self.centroids[centroid]) for centroid in self.centroids]\n",
    "        classification=distances.index(min(distances))\n",
    "        return classification\n",
    "    \n",
    "    def plot_centroid(self):\n",
    "        '''now is the time put our precious collection on display'''\n",
    "        #we enter each group(like a boss) and plot the x and y co-ordinates.\n",
    "        for classification in self.collection:\n",
    "            plt.scatter(self.collection[classification][0],self.collection[classification][1])\n",
    "            plt.plot(self.collection[classification][0],self.collection[classification][1])\n",
    "        plt.show\n",
    "    "
   ]
  },
  {
   "cell_type": "code",
   "execution_count": 6,
   "metadata": {},
   "outputs": [
    {
     "data": {
      "text/plain": [
       "{0: [[1.0, 1.0, 1.1666666666666667, 1.1666666666666667],\n",
       "  [2.0, 2.0, 1.4666666666666666, 1.4666666666666666]],\n",
       " 1: [[1.5, 4.9, 7.333333333333333, 7.333333333333333],\n",
       "  [1.8, 5.880000000000001, 9.0, 9.0]]}"
      ]
     },
     "execution_count": 6,
     "metadata": {},
     "output_type": "execute_result"
    }
   ],
   "source": [
    "clf=K_means(k=2)\n",
    "clf.fit(x)\n",
    "clf.collection"
   ]
  },
  {
   "cell_type": "code",
   "execution_count": 7,
   "metadata": {},
   "outputs": [
    {
     "data": {
      "image/png": "iVBORw0KGgoAAAANSUhEUgAAAXQAAAD8CAYAAABn919SAAAABHNCSVQICAgIfAhkiAAAAAlwSFlzAAALEgAACxIB0t1+/AAAADl0RVh0U29mdHdhcmUAbWF0cGxvdGxpYiB2ZXJzaW9uIDIuMi4yLCBodHRwOi8vbWF0cGxvdGxpYi5vcmcvhp/UCwAAIABJREFUeJzt3Xt8lPWB7/FPMpNALgQShtwANRAVKQoishq8gqdrW8XSdn8r2la8wba2q609e7SLq11tt/t67empZ1d2A1KRSq2/qrTYVUtrX9qjablfVBBJDCKG3EnIhdxmnvNHBuQqIfMkzzOT7/v14gVze56vM8nXZ37ze36T5DgOIiIS/5K9DiAiIu5QoYuIJAgVuohIglChi4gkCBW6iEiCUKGLiCQIFbqISIJQoYuIJAgVuohIgggO8v50WqqISP8kne4Og13oVFVVxbyNUChEfX29C2nc48dM4M9cytQ3fswE/syV6JkKCwv7dD8NuYiIJAgVuohIglChi4gkCBW6iEiCUKGLiCQIFbqISIJQoYuIJAgVuoiICxzHobyp/KS3lTeVMxhf96lCFxFxQUVzBfNemkdZVdkx15dVlTHvpXlUNFcMeAYVuoiIC4pHFVM6p5RFry06UuplVWUsem0RpXNKKR5VPOAZBv3UfxGRRFVSWHKk1Lc1b2PJxiWUzimlpLBkUPavI3QREReVFJawYPICHnvzMRZMXjBoZQ4qdBERV5VVlbFixwoWX7GYFTtWnDCmPpBU6CIiLjl6zPyhKx86YUx9oKnQRURcUN5UfqTMDw+zHD2mfqopjW7Sh6IiIi6YOHIiq29cfcJslpLCElbfuJqJIycOeAYVuoiIC5KSkk45NXEwpiyChlxERBKGCl1EJEGo0EVEEoQKXUQkQajQRUQShApdRCRBqNBFRBKECl1EJEGo0EVEEsRpzxQ1xvwMuAGotdZOiV6XAzwHnAPsAYy19sDAxRQRkdPpyxH6CuD64657AHjNWnsu8Fr0soiIeOi0hW6t/RPQeNzVNwFPR//9NPBFl3OJiMgZ6u8Yep61dj9A9O9c9yKJiEh/DPhqi8aYhcBCAGstoVAo5m0Gg0FXtuMmP2YCf+ZSpr7xYybwZy5liu6zn4+rMcYUWGv3G2MKgNpT3dFauxRYGr3o1NfX93OXnwiFQrixHTf5MRP4M5cy9Y0fM4E/cyV6psLCwj7dr79DLmuA26L/vg34TT+3IyIiLunLtMVngWuAkDFmH/Aw8GPAGmPuBPYCfzOQIUVE5PROW+jW2vmnuGmOy1lERCQGOlNURCRBqNBFRBKECl1EJEGo0EVEEoQKXUQkQajQRUQShApdRCRBqNBFRBKECl1EJEEM+GqLIjI0tba2smbNGiorKykqKmLu3LlkZmZ6HSuh6QhdRFy3fv16Zt30VVY2FlKW+1lWNhYy66avsn79eq+jJTQVuoi4qrW1lbsf/BFnff1RhmXnE0wfwbDsfM76+qPc/eCPaGtr8zpiwlKhi4ir1qxZQ8G8+0gOphxzfXIwhYJ597FmzRqPkiU+FbqIuKqyspLA8BEnvS0wLIPKyspBTjR06ENREXFNdzhC2zklBJz0k94e7myjqKhokFMNHTpCFxFX7Kht576X9/AuBbR9sJVIT/cxt0d6utm/+qfMnTvXo4SJT0foIhKTtq4wK7fW8eruJnIzgvzTNeMIn3uQux98iIJ59xEYlkG4s439q3/Ksn/5PhkZGV5HTlgqdBHptz9/1MLSDTU0dfRw06Rs5l80hrSUZBg7k7I1q46dh75mlcp8gKnQReSMNbR3U7qhhnX7WinKHsb3rx7LuaPTjrlPRkYG8+ef6hssZSCo0EWkzyKOw+rt+1nyZiU9EYfbpo1h7gU5BJOTvI4mqNBFpI/2NneyZF01O+sOcVF+Ot+cmU/BiFSvY8lRVOgi8qm6wxGef7eB599tIC2YzOLPnsuMUDJJSToq9xsVuoic0o7adp5YV82+g11cfU4Wd16Sy8RxedTX13sdTU5ChS4iJ2jtCrNySx2/K28iNyOFh68dx/RCrZTodyp0ETnGn/e2ULqxhuboVMRbpo5heFDnIMYDFbqIAMdORZyQPYzFV4+jePRwr2PJGVChiwxxEcfh1d1NrNxSR9hxuO3iMdw0KYeApiLGHRW6yBC2t6mTJ9ZV8179Iabmp/MNTUWMazEVujHmO8BdgAO8Ddxure1wI5jIQHIch4rmCopHFZ9wW3lTORNHTkzoaXnd4Qj2nQZe3NFAWkqAey8v4NqirLj5bx7qr9+p9PuTDmPMWODvgRnW2ilAALjZrWAiA6miuYJ5L82jrKrsmOvLqsqY99I8KporPEo28N6tbefel/dg32lg1llZPHFDEbMnjIyrAhzKr9+nifWj6yCQZowJAulAVeyRRAZe8ahiSueUsui1RUdKoayqjEWvLaJ0TulJj/ziXWtXmCXrqvn+7/fSHXZ4+NpxfHdWISOHx9/I61B8/fqi36+ktfZjY8y/AXuBQ8Baa+1a15KJDLCSwpIjpbCteRtLNi6hdE4pJYUlXkdzleM4vasibqyluaOHL16Qw/yLQnE/FXGovH5nIslxnH490BiTDbwA/C3QBPwKeN5a+8xx91sILASw1l7S1dUVU2CAYDBIT09PzNtxkx8zgT9z+S3To//vUR578zEWX7GYh658yOs4R7jxPNW2dPK/X6/gzQ8aOW9MBv9rzrlMyovtBCG9fn3j5vOUmpoKcNoxsVjea10HVFpr6wCMMS8CJcAxhW6tXQosjV503DhlOBQK+e7UYz9mAn/m8lOmsqoylmxcwuIrFrNk4xKmjpzqmyO8WJ6niOPwyvtN/Hzr8VMRO6ivj23egl6/vnHzeSosLOzT/WIp9L3AZcaYdHqHXOYAG2PYnsigOnrMde5Fc5k6cuqRy34phf7Y29TJf6yrZlf9IaZFpyLmJ+BUxER9/WLR70E0a+064HlgM71TFpP55EhcxNfKm8pP+OU/eky2vKnc44RnriscYdW2Or7zSiVVLV3cd3kBj8wen5Blnoivnxv6PYbeT05VVewTYfz0lu8wP2YCf+byQ6bj5zEfnckv85jP5Hl6t6adJ9ZX8/HBLq4pyuKO6bkDNntFr1/fDMCQy4COoYvEraSkpFNObYunKW+tXWGe3lLL2vJm8jJTeGT2eC4uSPzv7UyU189tKnSROOQ4DmUftbBsQw3NneGEmYoosVGhi8SZurZulm6sYX10VcSHrh3PxBytiigqdJG4EY5EV0XcWkfEcbh9+hhuPF+rIsonVOgiceDDpk6eWLefXfUdTCvI4Jsz88jLTLzZKxIbFbqIj3WFI9i3e1dFzEgN8J2SAq4+J35WRZTBpUIX8akt+5r50do9VLX0TkW8c3ouWXG4kJYMHv10iPhMa2eYFVtq+X1F71TEH8wez7QhMBVRYqdCF/EJx3Eo29vC0o01HOwMc8slY/licQbDNBVR+kiFLuIDdW3dlG6oZsPHbUzMGcbD145n5nnjPD8jU+KLCl3EQ+GIwyu7D/DzrfU4moooMVKhi3hkz4EOnlhXzfsNHVxckME3NBVRYqRCFxlkmoooA0WFLjKI3qlp54l11VS1dHFtdFVETUUUt+gnSWQQtHaGeWpLLX+oaCZfUxFlgKjQRQaQ4zi8tbeFZdGpiF+anMPNF4Y0FVEGhApdZIAcOxVxOA9fO54JWhVRBpAKXcRlx09FvGN6Ljecn62piDLgVOgiLjp6KuL0ggz+TlMRZRCp0EVc0BWO8NzbDaze0UBmaoDvlhRwlaYiyiBToYvE6O2aNpasq6aqpZvZE7K4fXoeWcMCXseSIUiFLtJPLdFVETUVUfxChS5yhhzH4c0PW1i2qYYWTUUUH1Ghi5yBurZu/mt9NRur2ijOGc4jmoooPqJCF+mDcMTh5fcP8My2OhwHTUUUX1Khi5zGngMd/Me6anZrKqL4nApd5BQ6eyLYdz6Zinj/rEKuPHuEpiKKb6nQRU5ie3UbS9ZXs7+lm9kTRnL79FxNRRTfi6nQjTGjgCeBKYAD3GGt/bMbwUS80NIZ5qnNtbz2Qe9UxH+eM56p+ZqKKPEh1iP0x4FXrbVfMcakAukuZBIZdI7j8Kc9B3kyOhXxy5Nz+FtNRZQ40+9CN8ZkAVcBCwCstV1AlzuxRAZPXVs3P35rB3/ec4BzRw/nB7PHU5StqYgSf2I5Qp8A1AFPGWOmApuAe621ba4kExkA1a1drNpWz4H2bkalBSkYkcqa9xpJSkrizkty+cJ5mooo8SuWQg8C04FvW2vXGWMeBx4AHjr6TsaYhcBCAGstoVAohl1GdxwMurIdN/kxE/gzl1eZqpoP8c+v7+Hj5o5jrr94XBYPf24yY9L9NUfAj68d+DOXMkX3GcNj9wH7rLXropefp7fQj2GtXQosjV506uvrY9hlr1AohBvbcZMfM4E/c3mV6d/fqjqhzAEyAw5j0oN6nvrIj7kSPVNhYWGf7tfvT3ystdXAR8aY86NXzQF29Hd7IgPJcRw+aDx00tuaOnoGOY3IwIj1Pea3gVXRGS4fALfHHknEXZUHOli6oYZ9B7tPent2WsogJxIZGDEVurV2KzDDpSwirmrtCvOLbXW8sruJzNQAX5sWYu3uJmraPjkiz89M4dap/hp7Fekvf30KJOKCiOPwxw+aWbmljpauMNefO4pbLhrDiGEBrjg7q3eWy6FustN6yzxf67JIglChS0LZ3XCIpRtqeL+hgwvGpLFwRt4xy9vmZ6Zy/6y+fcAkEm9U6JIQDnaGeWZrHWvLmxg5PMB9lxdwTZG+01OGFhW6xLVwxGFteROrttXR1h3hxknZ3HxhiIxULaQlQ48KXeLWe3WHWLqxmorGTqbkpbNoRh5njRrmdSwRz6jQJe40dfSwcksdr33QzOi0IN+bVcgVWqdcRIUu8ePw18A9u72eznCEL03OwUwJkZaiFRFFQIUuceLdmnZKN9bwYVMn0woyuHtGLuOyNLwicjQVuvhaQ3s3T2+p4409BxmTHuSBq8Zy2bhMDa+InIQKXXypJ+Lw0nuN/PLtBsIRBzNlNF/5zGh94YTIp1Chi+9sq26Lrr3SxaVjM7jzkjwKRuhsTpHTUaGLb9S1dfPU5lre2ttCfmYKi68ex6XjMr2OJRI3VOjiue5whF/vbORX7zTgALdeFOKLk3NIDWh4ReRMqNDFU5s+bmXZphr2t3Rz+fhM7pieR26mlrMV6Q8VuniiprWL5ZtqWbevlbFZqTwyezwXF2R4HUskrqnQZVB19kRY/pcPeWbjPpKT4LZpY7hxUg4pAU1DFImVCl0GheM4rN/XypObaqlt6+bKs0ewYHouoXQNr4i4RYUuA67qYBfLNtaweX8bZ41M5d+/PIWzhut7PEXcpkKXAdPRE+FX7zTw652NpAaSuPOSXD5/Xjb5uaN89w3tIolAhS6ucxyHsr0tLN9cS0N7D9cWZXHbxblkp+nHTWQg6TdMXLW3uZNlG2vYXt1OUfYw/uesQi7ITfc6lsiQoEIXV7R3h3nu7QZeeq+R4SnJLLo0j78uHkUgWbNXRAaLCl1i4jgOb+w5yIotdTQd6uG6iSP52rQxjByuHy2RwabfOum3PQc6KN1Qw466QxTnDOf7V43lvFCa17FEhiwVupyx1q4wv9hezyvvHyAjNcA9f5XPdRNHkqw1ykU8pUKXPos4Dn/8oJmVW+po6Qrz18WjuHXqGEYMC3gdTURQoUsflTd0sHRjNbvqO5gUSuORS/OYkDPc61gichQVunyqg51hntlax9ryJkYOD3Dv5QVcW5Slr4AT8aGYC90YEwA2Ah9ba2+IPZL4QTji8PuKJp7ZWkdbd4QbJmUz/8IQGakaXhHxKzeO0O8FdgJZLmxLfGBX/SFKN9RQ0djBlNw0Fl6az9mjhnkdS0ROI6ZCN8aMA74A/BD4riuJxDNNHT2s3FLHax80k5MW5P5ZhVx59ggNr4jEiViP0H8K/AMwwoUs4pFwxOGV3Qf4xbZ6OsMRvjQ5BzMlRFqKvgJOJJ70u9CNMTcAtdbaTcaYaz7lfguBhQDWWkKhUH93eUQwGHRlO27yYyY4fa6tHzfzf16voLy+nUvPGsV3rp7A2TkDu/aKH58rZeo7P+ZSpl5JjuP064HGmH8Bvgb0AMPpHUN/0Vr71U95mFNVVdWv/R0tFAr5bvlVP2aCU+dqPNTDis21vLHnIGPSg9x5SR6Xjc8clOEVPz5XytR3fsyV6JkKCwsBTvvL2e8jdGvtg8CDANEj9O+dpszFB3oiDr/d1ciz2xvoiTiYKaP5ymdGMyyo4RWReKd56EPItuo2lm6oYd/BLmYUZnDXjDwKRqR6HUtEXOJKoVtrXwded2Nb4r66tm6e2lzLW3tbyM9MYfHV47h0XKbXsUTEZTpCT2Dd4QgrN3zEinV7cYBbLgoxb3IOqQENr4gkIhV6gtpc1cqyjTVUtXRz2fhM7pieS16mhldEEpkKPcHUtHaxfFMt6/a1UjgilZ988TNMzAh7HUtEBoEKPUF09kRYvaORF3Y0kJwEX582hrmTcijIy/bddC4RGRgq9DjnOA7rP25l+aZaalq7ueLsEdw+PZdQeorX0URkkKnQ41jVwS6e3FTDpqo2xo9M5dE547koP8PrWCLiERV6HOroifCrdxr49c5GUpKTuGN6Ll84P5tgshbREhnKVOhxxHEcyva2sHxzLQ3tPVxTlMWCi3PJTtPLKCIq9LjxUXMnSzfWsL26naLsYXxvViGTcwd2ES0RiS8qdJ9r7w7z3NsNvPReI8NTklk4I4/rzx1FQMMrInIcFbpPOY7DG3sOsmJLHQcO9XDdxJF8fdoYRg7XSyYiJ6d28KE9Bzoo3VDDjrpDFOcM5/tXjeW8UJrXsUTE51ToPtLaFebZ7fW8/P4BMlID3PNX+cyZMFLDKyLSJyp0H4g4Dn/8oJmVW+o42Bnm+nNHcevUMYwYFvA6mojEERW6x8obOli6sZpd9R2cH0rj4dl5TMwZ7nUsEYlDKnSPHOwMs2pbHb/b3cTI4QHuvbyAa4qySB6Er4ATkcSkQh9k4YjD7yuaeGZrHW3dEW6YlM38C0NkpGp4RURio0IfRLvqD1G6oYaKxg6m5KZx94w8zsnW8IqIuEOFPgiaOnr4+dY6/lDRTE5akPtnFXLl2SNI0vCKiLhIhT6AwhGHV3c3sWp7HR3dEb40OYe/mTKa9BQNr4iI+1ToA+Td2naWbqhhT1MnU/PTWTgjj3Ejh3kdS0QSmArdZY2Henh6cy2v7znImPQgD1w5lsvGZ2p4RUQGnArdJT3hCL/Z2ciz2+vpjjiYKaP5ymdGMyyY7HU0ERkiVOgu2F7dxvJXPmRP4yEuKczg7hl5FIxI9TqWiAwxKvQY1LV189TmWt7a20Jh1jD+8eqxzBw3wutYIjJEqdD7oTsc4TfvHcC+XY8D3HJRiLuuPI+Wpkavo4nIEKZCP0Obq1pZtrGGqpZuLhufyR3Tc8nLTGVYMJkWr8OJyJCmQu+jmtYulm+qZd2+VgpHpPDwteOYXpjpdSwRkSP6XejGmPHASiAfiABLrbWPuxXsGI5DoKKCcHHxCTcFyssJT5wIAzQtsLMnwuqdjbzwbgPJSfD1aWOYOymblIBmr4iIv8TSSj3A/dbaC4DLgHuMMZPdiXWsQEUFoXnzSH7hl4QfuIuaWz9L+IG7SH7hl4TmzSNQUeH6Ph3HYd2+Fr7935U8u72emeMyeeLGCXz5M6NV5iLiS/0+QrfW7gf2R//dYozZCYwFdriU7YhwcTF1j/wj3S+vgsPf3tPeSvfLq6h75B+JnOTIPRb7W7pYtrGGTVVtjB+ZyqNzxnNRfoar+xARcZsrY+jGmHOAi4F1bmzvZLo3/OGTMj8sOYnuDX8g8OWb+76hTxm+6d61m+cOjWT1zgOkJCdxx/RcvnB+NkF9BZyIxIEkx3Fi2oAxJhN4A/ihtfbFk9y+EFgIYK29pKurq1/7qbn1s9DeeuIN6ZnkrVrb9w3t2kXK7NnsfeoXlEbyaWjrJCc9laltNTyz8wA1WSGunzSGb1xRRCij7ycHBYNBenp6+p5jkPgxlzL1jR8zgT9zJXqm1NRUgNMeWcZU6MaYFOC3wO+stT/pw0Ocqqqqfu0r/MBd0FB74g2jcwn8+Mkz2lbjG39h8dsdfJydf8z141PCfPOaIibnpp9xvlAoRH19/Rk/bqD5MZcy9Y0fM4E/cyV6psLCQuhDoff70z1jTBKwHNjZxzKPScql10HkuP/5OA7BGbPPeFtPBc86ocwBzikc1a8yFxHxg1ima8wCvgbMNsZsjf75vEu5jhEoL2fMIz8k5fO3wuhcSM+EzCxISiK99AkC5eVntL0D7d0nvb6pw19v2UREzkQss1zepA9vAdwQnjiR+tWriRQXE/jyzYRCIerq6oj83x9wMPVdkrOzzihIdnoKcOjE69NSXMssIjLY4uNM0aSkE2alJCUlkXzL3xF55Nt0P/OfPB8qpnLPHoqKipg7dy6Zmac+i/P2nr1UHDh2DH3sgWpuH9cEFA7Uf4WIyICK6zNkksbks+/iKwi8s4k5v3uGb7z/FiX//TR3XTOL9evXn/QxgfJyLvjW3Tx24XCuOieLC/PSuOqcLB67cDgXfOvuMx6+ERHxi/g4Qj+F1tZWHvyvn7Fy2lmEhvUOl4xMDbJi6ngWfPNulr9RRkbGsScEHR6+ySku5v5jbimkfvXq3mUERETiUFwfoa9Zs4YfnZ9/wte7pSQn8+Pz81mzZs2JDzrJ8M1h4eLiAVsTRkRkoMV1oVdWVpIVDJz0thHBAJWVlYOcSETEO3Fd6EVFRRzsCZ/0tpaeMEVFRYOcSETEO3Fd6HPnzuWBXdV0RyLHXN8difDArmrmzp3rUTIRkcEX14WemZnJd5csY8G2j/iovZOmrh4+au9kwbaP+O6SZSd8ICoiksjiepYLwMyZM1n+Rhlr1qyhsrKSoqIili+dqzIXkSEn7gsdICMjg/nz53sdQ0TEU3E95CIiIp9QoYuIJAgVuohIglChi4gkCBW6iEiCUKGLiCSI+Ch0xznlsraB8nKI8YuuRUQSQVwUeqCigtC8eaSWlR1zfWpZGaF58whUVHiUTETEP+Ki0MPFxRwoLSV70aIjpZ5aVkb2okUcKC095XK4IiJDSdycKdpVUnKk1Nm2jewlSzhQWkpXSYnX0UREfCEujtAP6yopoX3BAgKPPUb7ggUqcxGRo8RVoaeWlZG+YgXhxYtJX7HihDF1EZGhLG4K/Zgx84ceOmFMXURkqIuLQg+Ulx8p88PDLEePqZ9qSqOIyFASFx+KhidOpH716hNms3SVlPReP3GiR8lERPwjLgqdpKRTTk3UlEURkV5xMeQiIiKnp0IXEUkQMQ25GGOuBx4HAsCT1tofu5JKRETOWL+P0I0xAeAJ4HPAZGC+MWayW8FEROTMxDLkMhMot9Z+YK3tAn4J3OROLBEROVOxFPpY4KOjLu+LXiciIh6IZQw96STXnbAwuTFmIbAQwFpLKBSKYZe9gsGgK9txkx8zgT9zKVPf+DET+DOXMkX3GcNj9wHjj7o8Dqg6/k7W2qXA0uhFJzU1NYZdfsKt7bjJj5nAn7mUqW/8mAn8mUuZYhty2QCca4wpMsakAjcDa07zmCQ3/hhjNrm1rUTO5NdcyhS/mfyaa4hkOq1+F7q1tgf4FvA7YGfvVfbd/m5PRERiE9M8dGvty8DLLmUREZEYxOuZoktPf5dB58dM4M9cytQ3fswE/sylTECS45wwMUVEROJQvB6hi4jIceJj+dwoY8zPgBuAWmvtFK/zABhjxgMrgXwgAiy11j7ucabhwJ+AYfS+xs9bax/2MtNh0SUjNgIfW2tv8DoPgDFmD9AChIEea+0MbxOBMWYU8CQwhd7zO+6w1v7ZwzznA88dddUE4J+stT/1KNIRxpjvAHfR+zy9Ddxure3wONO9wN30zk5ZNljPU7wdoa8Arvc6xHF6gPuttRcAlwH3+GBNm05gtrV2KjANuN4Yc5nHmQ67l95ZUX5zrbV2mh/KPOpx4FVr7SRgKh4/Z9baXdHnZxpwCdAOrPYyE4AxZizw98CM6EFegN4p1F5mmkJvmc+k97W7wRhz7mDsO64K3Vr7J6DR6xxHs9but9Zujv67hd5fPE+XQLDWOtba1ujFlOgfzz8sMcaMA75A75GnnIIxJgu4ClgOYK3tstY2eZvqGHOACmvth14HiQoCacaYIJDOSU5wHGQXAH+x1rZHp3e/AcwbjB3H1ZCL3xljzgEuBtZ5HOXw0MYmoBh4wlrreSbgp8A/ACO8DnIcB1hrjHGA0ujZzV6aANQBTxljptL7Ot5rrW3zNtYRNwPPeh0CwFr7sTHm34C9wCFgrbV2rcex3gF+aIwZHc30eXqHGQdcXB2h+5kxJhN4AbjPWnvQ6zzW2nD07fE4YGb0baBnjDGHP/vY5GWOU5hlrZ1O71LQ9xhjrvI4TxCYDvyntfZioA14wNtIvaJnhc8FfuV1FgBjTDa9q7wWAYVAhjHmq15mstbuBP4V+D3wKrCN3qHZAadCd4ExJoXeMl9lrX3R6zxHi75Vfx3vP3uYBcyNfgD5S2C2MeYZbyP1stZWRf+upXdceKa3idgH7DvqXdXz9Ba8H3wO2GytrfE6SNR1QKW1ts5a2w28CJR4nAlr7XJr7XRr7VX0DhPvHoz9qtBjZIxJonesc6e19ide5wEwxoyJzpLAGJNG7w/9e15mstY+aK0dZ609h9637H+01np6JAVgjMkwxow4/G/gs/S+ZfaMtbYa+Cg6swR6x6x3eBjpaPPxyXBL1F7gMmNMevR3cQ4++NDdGJMb/fss4EsM0nMWV2PoxphngWuAkDFmH/CwtXa5t6mYBXwNeNsYszV63fejyyJ4pQB4OjqOnkzvOju/9TCPn+UBq40x0Pv78Atr7aveRgLg28Cq6BDHB8DtHufBGJMO/A9gkddZDrPWrjPGPA9spndYYwv+OGv0hegYejdwj7X2wGDsVGeKiogkCA25iIgkCBW6iEiCUKGLiCQIFbqISIJQoYuIJAgVuohIglChi4gkCBW6iEh90trNAAAAB0lEQVSC+P8diGYMEj45dwAAAABJRU5ErkJggg==\n",
      "text/plain": [
       "<Figure size 432x288 with 1 Axes>"
      ]
     },
     "metadata": {},
     "output_type": "display_data"
    }
   ],
   "source": [
    "#this block is to show how the centorid is moving/shifting as the program progresses\n",
    "\n",
    "for centroid in clf.centroids:\n",
    "    plt.scatter(clf.centroids[centroid][0], clf.centroids[centroid][1], marker='o', color='k',s=50,linewidth=1)\n",
    "\n",
    "for classification in clf.classifications:\n",
    "    color=colors[classification]\n",
    "    for featureset in clf.classifications[classification]:\n",
    "        plt.scatter(featureset[0],featureset[1],marker='x',color=color,s=50,linewidth=1)\n",
    "clf.plot_centroid()"
   ]
  },
  {
   "cell_type": "code",
   "execution_count": 8,
   "metadata": {},
   "outputs": [
    {
     "data": {
      "text/plain": [
       "1"
      ]
     },
     "execution_count": 8,
     "metadata": {},
     "output_type": "execute_result"
    }
   ],
   "source": [
    "clf.predict([7,8])"
   ]
  }
 ],
 "metadata": {
  "kernelspec": {
   "display_name": "Python 3",
   "language": "python",
   "name": "python3"
  },
  "language_info": {
   "codemirror_mode": {
    "name": "ipython",
    "version": 3
   },
   "file_extension": ".py",
   "mimetype": "text/x-python",
   "name": "python",
   "nbconvert_exporter": "python",
   "pygments_lexer": "ipython3",
   "version": "3.6.5"
  }
 },
 "nbformat": 4,
 "nbformat_minor": 2
}
>>>>>>> 7f807316aa2366b4fa08e23f19d08388ab45ca5b

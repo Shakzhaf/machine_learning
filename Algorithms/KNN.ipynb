{
 "cells": [
  {
   "cell_type": "markdown",
   "execution_count": null,
   "metadata": {},
   "outputs": [],
   "source": [
    "##KNN"
   ]
  },
  {
   "cell_type": "markdown",
   "metadata": {},
   "source": [
    "K nearest neighbors is a simple algorithm that stores all available cases and classifies new cases based on a similarity measure (e.g., distance functions). KNN has been used in statistical estimation and pattern recognition already in the beginning of 1970's as a non-parametric technique.\n",
    "\n",
    "Algorithm\n",
    "\n",
    "1.. Load the data\n",
    "\n",
    "2.. Initialise the value of k\n",
    "\n",
    "3.. For getting the predicted class, iterate from 1 to total number of training data points\n",
    "\n",
    "    1.. Calculate the distance between test data and each row of training data. Here we will use Euclidean distance as our           distance metric since it’s the most popular method. The other metrics that can be used are Chebyshev, cosine, etc.\n",
    "\n",
    "    2.. Sort the calculated distances in ascending order based on distance values\n",
    "\n",
    "    3.. Get top k rows from the sorted array\n",
    "\n",
    "    4.. Get the most frequent class of these rows\n",
    "\n",
    "    5.. Return the predicted class\n",
    "    \n",
    "Choosing the number of nearest neighbors i.e. determining the value of k plays a significant role in determining the efficacy of the model. Thus, selection of k will determine how well the data can be utilized to generalize the results of the kNN algorithm. A large k value has benefits which include reducing the variance due to the noisy data; the side effect being developing a bias due to which the learner tends to ignore the smaller patterns which may have useful insights."
   ]
  },
  {
   "cell_type": "code",
   "execution_count": 1,
   "metadata": {},
   "outputs": [],
   "source": [
    "import numpy as np\n",
    "import matplotlib.pyplot as plt\n",
    "from matplotlib import style\n",
    "import pandas as pd\n",
    "import random\n",
    "import time as tt\n",
    "style.use('fivethirtyeight')"
   ]
  },
  {
   "cell_type": "code",
   "execution_count": 2,
   "metadata": {},
   "outputs": [],
   "source": [
    "dataset={'k':[[1,2],[2,3],[3,1]],'r':[[6,5],[7,7],[8,6]]}\n",
    "new_features=[5,7]"
   ]
  },
  {
   "cell_type": "code",
   "execution_count": 3,
   "metadata": {},
   "outputs": [
    {
     "data": {
      "text/plain": [
       "<function matplotlib.pyplot.show(*args, **kw)>"
      ]
     },
     "execution_count": 3,
     "metadata": {},
     "output_type": "execute_result"
    },
    {
     "data": {
      "image/png": "[encoded data removed]",
      "text/plain": [
       "<Figure size 432x288 with 1 Axes>"
      ]
     },
     "metadata": {},
     "output_type": "display_data"
    }
   ],
   "source": [
    "plt.xlabel('X-axis')\n",
    "plt.ylabel('Y-axis')\n",
    "\n",
    "for group in dataset:\n",
    "    for point in dataset[group]:\n",
    "        plt.scatter(point[0],point[1],s=100,color=group)\n",
    "plt.scatter(new_features[0],new_features[1],s=100)\n",
    "plt.show"
   ]
  },
  {
   "cell_type": "code",
   "execution_count": 17,
   "metadata": {},
   "outputs": [],
   "source": [
    "df=pd.read_csv('breastcancer.csv')\n",
    "df.replace('?',-99999,inplace=True)\n",
    "df.drop(['id'],1,inplace=True)\n",
    "full_data=df.astype(float).values.tolist()"
   ]
  },
  {
   "cell_type": "code",
   "execution_count": 18,
   "metadata": {},
   "outputs": [],
   "source": [
    "#random.shuffle(full_data)\n",
    "test_size=0.2\n",
    "train_set={2:[],4:[]}\n",
    "test_set={2:[],4:[]}\n",
    "\n",
    "train_data=full_data[:-int(test_size*len(full_data))]\n",
    "test_data=full_data[-int(test_size*len(full_data)):]"
   ]
  },
  {
   "cell_type": "code",
   "execution_count": 19,
   "metadata": {},
   "outputs": [],
   "source": [
    "for row in train_data:\n",
    "    train_set[row[-1]].append(row[:-1])\n",
    "for row in test_data:\n",
    "    test_set[row[-1]].append(row[:-1])"
   ]
  },
  {
   "cell_type": "code",
   "execution_count": null,
   "metadata": {},
   "outputs": [],
   "source": []
  },
  {
   "cell_type": "code",
   "execution_count": 20,
   "metadata": {},
   "outputs": [],
   "source": [
    "#function to count number of unique elements\n",
    "def class_counts(data):\n",
    "    counts={}\n",
    "    for row in data:\n",
    "        label=row\n",
    "        if label not in counts:\n",
    "            counts[label]=0\n",
    "        counts[label]+=1\n",
    "    return counts"
   ]
  },
  {
   "cell_type": "code",
   "execution_count": 21,
   "metadata": {},
   "outputs": [],
   "source": [
    "def k_nearest_neighbours(data,predict,k):\n",
    "    dist=[]\n",
    "    rev={}\n",
    "    for group in data:\n",
    "        for features in data[group]:\n",
    "            distance=np.linalg.norm(np.array(features)-np.array(predict))\n",
    "            dist.append([distance,group])\n",
    "    votes=[i[1] for i in sorted(dist)[:k]]\n",
    "    uniqueVotes=class_counts(votes)\n",
    "    for vote in uniqueVotes:\n",
    "        rev[uniqueVotes[vote]]=vote\n",
    "    #data[rev[max(rev)]].append(predict)\n",
    "    return rev[max(rev)]"
   ]
  },
  {
   "cell_type": "code",
   "execution_count": 22,
   "metadata": {
    "scrolled": true
   },
   "outputs": [
    {
     "name": "stdout",
     "output_type": "stream",
     "text": [
      "k\n",
      "{'k': [[1, 2], [2, 3], [3, 1]], 'r': [[6, 5], [7, 7], [8, 6]]}\n"
     ]
    }
   ],
   "source": [
    "print (k_nearest_neighbours(dataset,new_features,9))\n",
    "print (dataset)"
   ]
  },
  {
   "cell_type": "code",
   "execution_count": 23,
   "metadata": {},
   "outputs": [],
   "source": [
    "#print k_nearest_neighbours(dataset,[1,1],4)\n",
    "#print dataset"
   ]
  },
  {
   "cell_type": "code",
   "execution_count": 24,
   "metadata": {},
   "outputs": [],
   "source": [
    "#function to find the accuracy of the model at given value of k\n",
    "\n",
    "def accuracy(k):\n",
    "    correct=0\n",
    "    total=0\n",
    "    for group in test_set:\n",
    "        for data in test_set[group]:\n",
    "            vote=k_nearest_neighbours(dataset,new_features,k)\n",
    "            #print vote , group\n",
    "            if group==vote:\n",
    "                correct+=1\n",
    "                #print correct\n",
    "            total+=1\n",
    "    #print ('Accuracy:',correct/float(total))\n",
    "    return correct/float(total)"
   ]
  },
  {
   "cell_type": "code",
   "execution_count": 25,
   "metadata": {},
   "outputs": [
    {
     "name": "stdout",
     "output_type": "stream",
     "text": [
      "0.0\n",
      "time 0.01901078224182129\n"
     ]
    }
   ],
   "source": [
    "start=tt.time()\n",
    "print (accuracy(6))\n",
    "print ('time',tt.time()-start)"
   ]
  },
  {
   "cell_type": "code",
   "execution_count": 26,
   "metadata": {},
   "outputs": [],
   "source": [
    "list=[]"
   ]
  },
  {
   "cell_type": "code",
   "execution_count": 27,
   "metadata": {},
   "outputs": [
    {
     "name": "stdout",
     "output_type": "stream",
     "text": [
      "time:  1  :  0.020001649856567383\n",
      "time:  3  :  0.026516437530517578\n",
      "time:  5  :  0.012032032012939453\n",
      "time:  7  :  0.01199483871459961\n",
      "time:  9  :  0.02000284194946289\n",
      "time:  11  :  0.01200103759765625\n",
      "time:  13  :  0.011997699737548828\n",
      "time:  15  :  0.016013622283935547\n",
      "time:  17  :  0.01105642318725586\n",
      "time:  19  :  0.012027502059936523\n",
      "time:  21  :  0.01205897331237793\n",
      "time:  23  :  0.015654802322387695\n",
      "time:  25  :  0.0\n",
      "time:  27  :  0.015601158142089844\n",
      "time:  29  :  0.015624284744262695\n",
      "time:  31  :  0.029168367385864258\n",
      "time:  33  :  0.012028932571411133\n",
      "time:  35  :  0.01600050926208496\n",
      "time:  37  :  0.01448202133178711\n",
      "time:  39  :  0.0\n",
      "time:  41  :  0.015629291534423828\n",
      "time:  43  :  0.015626192092895508\n",
      "time:  45  :  0.022149085998535156\n",
      "time:  47  :  0.01591777801513672\n",
      "time:  49  :  0.01202702522277832\n",
      "time:  51  :  0.0040280818939208984\n",
      "time:  53  :  0.015629291534423828\n",
      "time:  55  :  0.015626192092895508\n",
      "time:  57  :  0.01562643051147461\n",
      "time:  59  :  0.021146535873413086\n",
      "time:  61  :  0.016001462936401367\n",
      "time:  63  :  0.012100934982299805\n",
      "time:  65  :  0.015628814697265625\n",
      "time:  67  :  0.0\n",
      "time:  69  :  0.01562666893005371\n",
      "time:  71  :  0.01562666893005371\n",
      "time:  73  :  0.023151159286499023\n",
      "time:  75  :  0.0020062923431396484\n",
      "time:  77  :  0.015629053115844727\n",
      "time:  79  :  0.02009749412536621\n",
      "time:  81  :  0.012000083923339844\n",
      "time:  83  :  0.011997222900390625\n",
      "time:  85  :  0.012174844741821289\n",
      "time:  87  :  0.0\n",
      "time:  89  :  0.02816152572631836\n",
      "time:  91  :  0.012033224105834961\n",
      "time:  93  :  0.01197361946105957\n",
      "time:  95  :  0.015998363494873047\n",
      "time:  97  :  0.008046865463256836\n",
      "time:  99  :  0.015629291534423828\n",
      "done\n"
     ]
    }
   ],
   "source": [
    "for k in range(1,100):\n",
    "    if k%2!=0:\n",
    "        start=tt.time()\n",
    "        list.append([k,accuracy(k)])\n",
    "        print ('time: ',k,' : ',tt.time()-start)\n",
    "print ('done')"
   ]
  },
  {
   "cell_type": "code",
   "execution_count": null,
   "metadata": {},
   "outputs": [],
   "source": []
  },
  {
   "cell_type": "code",
   "execution_count": null,
   "metadata": {},
   "outputs": [],
   "source": []
  }
 ],
 "metadata": {
  "kernelspec": {
   "display_name": "Python 3",
   "language": "python",
   "name": "python3"
  },
  "language_info": {
   "codemirror_mode": {
    "name": "ipython",
    "version": 3
   },
   "file_extension": ".py",
   "mimetype": "text/x-python",
   "name": "python",
   "nbconvert_exporter": "python",
   "pygments_lexer": "ipython3",
   "version": "3.6.5"
  }
 },
 "nbformat": 4,
 "nbformat_minor": 2
}

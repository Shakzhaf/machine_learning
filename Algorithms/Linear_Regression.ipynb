{
 "cells": [
  {
   "cell_type": "markdown",
   "metadata": {},
   "source": [
    "##Linear Regression"
   ]
  },
  {
   "cell_type": "markdown",
   "metadata": {},
   "source": [
    "In simple linear regression a single independent variable is used to predict the value of a dependent variable. In multiple linear regression two or more independent variables are used to predict the value of a dependent variable. The difference between the two is the number of independent variables.\n",
    "\n",
    "The most common method for fitting a regression line is the method of least-squares. This method calculates the best-fitting line for the observed data by minimizing the sum of the squares of the vertical deviations from each data point to the line (if a point lies on the fitted line exactly, then its vertical deviation is 0). Because the deviations are first squared, then summed, there are no cancellations between positive and negative values."
   ]
  },
  {
   "cell_type": "code",
   "execution_count": 1,
   "metadata": {},
   "outputs": [],
   "source": [
    "from statistics import mean\n",
    "import numpy as np\n",
    "import pandas as pd\n",
    "import random\n",
    "import math\n",
    "color='#003F72'"
   ]
  },
  {
   "cell_type": "code",
   "execution_count": 2,
   "metadata": {},
   "outputs": [],
   "source": [
    "def abss(x):\n",
    "    if x>=0: return x\n",
    "    else: return -1*x"
   ]
  },
  {
   "cell_type": "code",
   "execution_count": 3,
   "metadata": {},
   "outputs": [],
   "source": [
    "df=pd.read_csv('Linear_regression.csv')\n",
    "\n",
    "#replacing all missing data with NaN value\n",
    "df.replace('?',np.nan,inplace=True)\n",
    "\n",
    "#delete all the rows that have NaN in them\n",
    "dk=df.dropna()\n",
    "\n",
    "#deleting the column with id, 1 in the argument indicates 'column', so this will delete the 'column' containing 'id'\n",
    "#df.drop(['id'],1,inplace=True)\n",
    "\n",
    "\n",
    "full_data=dk.values.tolist()\n",
    "headers = df.dtypes.index\n",
    "header=headers.tolist()"
   ]
  },
  {
   "cell_type": "code",
   "execution_count": 4,
   "metadata": {},
   "outputs": [],
   "source": [
    "df=pd.read_csv('bear_Oh_bear.csv')\n",
    "df.drop(['Bear Index'],1,inplace=True)\n",
    "headers = df.dtypes.index\n",
    "header=headers.tolist()\n",
    "\n",
    "y=np.array(df['Fur Growth'][::5])\n",
    "x=np.array(df['Temperature Change'][::5])"
   ]
  },
  {
   "cell_type": "code",
   "execution_count": 5,
   "metadata": {},
   "outputs": [
    {
     "name": "stdout",
     "output_type": "stream",
     "text": [
      "54.5  :  64.0\n"
     ]
    }
   ],
   "source": [
    "height=np.array(dk['height'], dtype=np.float64)\n",
    "width=np.array(dk['width'], dtype=np.float64)\n",
    "xs=height\n",
    "ys=width\n",
    "print (xs[24],' : ',ys[24])"
   ]
  },
  {
   "cell_type": "code",
   "execution_count": 6,
   "metadata": {},
   "outputs": [],
   "source": [
    "xs=x\n",
    "ys=y"
   ]
  },
  {
   "cell_type": "code",
   "execution_count": 7,
   "metadata": {},
   "outputs": [],
   "source": [
    "def best_fit_slope_and_intercept(xs,ys):\n",
    "    slope=((mean(xs)*mean(ys))-mean(xs*ys))/((mean(xs)**2)-mean(xs**2))\n",
    "    intercept=mean(ys)-slope*mean(xs)\n",
    "    return slope,intercept"
   ]
  },
  {
   "cell_type": "code",
   "execution_count": 8,
   "metadata": {},
   "outputs": [
    {
     "name": "stdout",
     "output_type": "stream",
     "text": [
      "2.248192905338244 -6.49183710807454\n"
     ]
    }
   ],
   "source": [
    "m,b=best_fit_slope_and_intercept(xs,ys)\n",
    "print (m,b)"
   ]
  },
  {
   "cell_type": "code",
   "execution_count": 9,
   "metadata": {},
   "outputs": [],
   "source": [
    "#calculating the predicted values using the newly found slope and intercept\n",
    "\n",
    "regression_line=[]\n",
    "for x in xs:\n",
    "    regression_line.append((m*x)+b)\n",
    "#print (regression_line)"
   ]
  },
  {
   "cell_type": "code",
   "execution_count": 10,
   "metadata": {},
   "outputs": [],
   "source": [
    "import matplotlib.pyplot as plt\n",
    "from matplotlib import style\n",
    "style.use('ggplot')\n"
   ]
  },
  {
   "cell_type": "code",
   "execution_count": 11,
   "metadata": {
    "scrolled": true
   },
   "outputs": [
    {
     "data": {
      "text/plain": [
       "<function matplotlib.pyplot.show(*args, **kw)>"
      ]
     },
     "execution_count": 11,
     "metadata": {},
     "output_type": "execute_result"
    },
    {
     "data": {
      "image/png": "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\n",
      "text/plain": [
       "<Figure size 432x288 with 1 Axes>"
      ]
     },
     "metadata": {},
     "output_type": "display_data"
    }
   ],
   "source": [
    "#plt.figure(figsize=(15,10))\n",
    "plt.scatter(xs,ys,color='#004F72')\n",
    "plt.plot(xs,regression_line)\n",
    "plt.show"
   ]
  },
  {
   "cell_type": "code",
   "execution_count": 12,
   "metadata": {},
   "outputs": [],
   "source": [
    "predict_x=54.5"
   ]
  },
  {
   "cell_type": "code",
   "execution_count": 13,
   "metadata": {},
   "outputs": [],
   "source": [
    "predict_y=(m*predict_x)+b"
   ]
  },
  {
   "cell_type": "code",
   "execution_count": 14,
   "metadata": {},
   "outputs": [
    {
     "data": {
      "text/plain": [
       "116.03467623285975"
      ]
     },
     "execution_count": 14,
     "metadata": {},
     "output_type": "execute_result"
    }
   ],
   "source": [
    "predict_y"
   ]
  },
  {
   "cell_type": "code",
   "execution_count": 15,
   "metadata": {},
   "outputs": [
    {
     "data": {
      "text/plain": [
       "<function matplotlib.pyplot.show(*args, **kw)>"
      ]
     },
     "execution_count": 15,
     "metadata": {},
     "output_type": "execute_result"
    },
    {
     "data": {
      "image/png": "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\n",
      "text/plain": [
       "<Figure size 432x288 with 1 Axes>"
      ]
     },
     "metadata": {},
     "output_type": "display_data"
    }
   ],
   "source": [
    "predict_x=2.5\n",
    "predict_y=(m*predict_x)+b\n",
    "plt.scatter(predict_x,predict_y,color=color)\n",
    "plt.scatter(xs,ys,color=color,label='data')\n",
    "plt.plot(xs,regression_line,label='regression line')\n",
    "plt.legend(loc=4)\n",
    "plt.show"
   ]
  },
  {
   "cell_type": "code",
   "execution_count": 16,
   "metadata": {},
   "outputs": [
    {
     "name": "stdout",
     "output_type": "stream",
     "text": [
      "98.63013698630137\n"
     ]
    }
   ],
   "source": [
    "#Accuracy of the model\n",
    "\n",
    "correct=0\n",
    "for i in range(len(xs)):\n",
    "    predict=(m*xs[i])+b\n",
    "    if abss(ys[i]-predict)<5:\n",
    "        correct+=1\n",
    "accuracy=float(correct)/float(len(xs))*100\n",
    "print (accuracy)"
   ]
  },
  {
   "cell_type": "code",
   "execution_count": null,
   "metadata": {},
   "outputs": [],
   "source": []
  },
  {
   "cell_type": "code",
   "execution_count": null,
   "metadata": {},
   "outputs": [],
   "source": []
  }
 ],
 "metadata": {
  "kernelspec": {
   "display_name": "Python 3",
   "language": "python",
   "name": "python3"
  },
  "language_info": {
   "codemirror_mode": {
    "name": "ipython",
    "version": 3
   },
   "file_extension": ".py",
   "mimetype": "text/x-python",
   "name": "python",
   "nbconvert_exporter": "python",
   "pygments_lexer": "ipython3",
<<<<<<< HEAD
   "version": "3.5.6"
=======
   "version": "3.6.5"
>>>>>>> 7f807316aa2366b4fa08e23f19d08388ab45ca5b
  }
 },
 "nbformat": 4,
 "nbformat_minor": 2
}

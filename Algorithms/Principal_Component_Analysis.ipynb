<<<<<<< HEAD
{
 "cells": [
  {
   "cell_type": "markdown",
   "metadata": {},
   "source": [
    "#Principal Component Analysis"
   ]
  },
  {
   "cell_type": "markdown",
   "metadata": {},
   "source": [
    "In real world data analysis tasks we analyze complex data i.e. multi dimensional data. We plot the data and find various patterns in it or use it to train some machine learning models. One way to think about dimensions is that suppose you have an data point x , if we consider this data point as a physical object then dimensions are merely a basis of view, like where is the data located when it is observed from horizontal axis or vertical axis.\n",
    "\n",
    "As the dimensions of data increases, the difficulty to visualize it and perform computations on it also increases. So, how to reduce the dimensions of a data-\n",
    "..Remove the redundant dimensions\n",
    "\n",
    "..Only keep the most important dimensions\n",
    "\n",
    "###what does PCA do?\n",
    "PCA finds a new set of dimensions (or a set of basis of views) such that all the dimensions are orthogonal (and hence linearly independent) and ranked according to the variance of data along them. It means more important principle\n",
    "axis occurs first. (more important = more variance/more spread out data)\n",
    "\n",
    "###How does PCA work -\n",
    "1.. Calculate the covariance matrix X of data points.\n",
    "\n",
    "2.. Calculate eigen vectors and corresponding eigen values.\n",
    "\n",
    "3.. Sort the eigen vectors according to their eigen values in decreasing order.\n",
    "\n",
    "4.. Choose first k eigen vectors and that will be the new k dimensions.\n",
    "\n",
    "5.. Transform the original n dimensional data points into k dimensions.\n",
    "\n",
    "\n",
    "###This goal of PCA -\n",
    "1.. Find linearly independent dimensions (or basis of views) which can losslessly represent the data points.\n",
    "\n",
    "2.. Those newly found dimensions should allow us to predict/reconstruct the original dimensions.The reconstruction/projection error should be minimized.\n"
   ]
  },
  {
   "cell_type": "code",
   "execution_count": 74,
   "metadata": {},
   "outputs": [],
   "source": [
    "import numpy as np\n",
    "import matplotlib.pyplot as plt\n",
    "from matplotlib import style\n",
    "%matplotlib inline\n",
    "import pandas as pd\n",
    "style.use('ggplot')\n",
    "from PIL import Image"
   ]
  },
  {
   "cell_type": "code",
   "execution_count": null,
   "metadata": {},
   "outputs": [],
   "source": []
  },
  {
   "cell_type": "code",
   "execution_count": 23,
   "metadata": {},
   "outputs": [],
   "source": [
    "df=pd.read_csv('bear_Oh_bear.csv')\n",
    "df.drop(['Bear Index'],1,inplace=True)\n",
    "headers = df.dtypes.index\n",
    "header=headers.tolist()\n",
    "\n",
    "y=np.array(df['Fur Growth'][::5])\n",
    "x=np.array(df['Temperature Change'][::5])"
   ]
  },
  {
   "cell_type": "code",
   "execution_count": 24,
   "metadata": {},
   "outputs": [],
   "source": [
    "#reading the dataset into an numpy array\n",
    "\n",
    "points=np.array([x,y])\n",
    "points=points.T"
   ]
  },
  {
   "cell_type": "code",
   "execution_count": 25,
   "metadata": {},
   "outputs": [],
   "source": [
    "#shifting the dataset to the origin to make calculations easier and reduce complexity\n",
    "\n",
    "mean_x=np.mean(points[:,0])\n",
    "mean_y=np.mean(points[:,1])\n",
    "new_points=np.array([points[:,0]-mean_x,points[:,1]-mean_y])\n",
    "shifted=[]\n",
    "for i in range(len(points)):\n",
    "    shifted.append([new_points[0][i],new_points[1][i]])\n",
    "shifted_points=np.array(shifted)"
   ]
  },
  {
   "cell_type": "code",
   "execution_count": 66,
   "metadata": {},
   "outputs": [
    {
     "data": {
      "text/plain": [
       "<matplotlib.collections.PathCollection at 0x16f48f0>"
      ]
     },
     "execution_count": 66,
     "metadata": {},
     "output_type": "execute_result"
    },
    {
     "data": {
      "image/png": "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\n",
      "text/plain": [
       "<Figure size 432x288 with 1 Axes>"
      ]
     },
     "metadata": {},
     "output_type": "display_data"
    }
   ],
   "source": [
    "plt.scatter(shifted_points[:,0],shifted_points[:,1])"
   ]
  },
  {
   "cell_type": "code",
   "execution_count": 43,
   "metadata": {},
   "outputs": [],
   "source": [
    "#returns the slope of the vector\n",
    "#vector=ai+bj\n",
    "#slope =b/a\n",
    "\n",
    "def slope(vector):\n",
    "    return (vector[1]/float(vector[0]))"
   ]
  },
  {
   "cell_type": "code",
   "execution_count": 44,
   "metadata": {},
   "outputs": [],
   "source": [
    "#initializing a random vector\n",
    "\n",
    "initial_vector=np.array([1,1]).T"
   ]
  },
  {
   "cell_type": "code",
   "execution_count": 45,
   "metadata": {},
   "outputs": [],
   "source": [
    "def best_line(transformation,initial_vector):\n",
    "    difference=1    #random initialization\n",
    "    \n",
    "    #initializing our new vector as being equal to the random vector we generated above\n",
    "    #as the block runs the new vector will become more and more accuratly aligned with the\n",
    "    #principle component axis\n",
    "    \n",
    "    new=initial_vector\n",
    "    \n",
    "    #the vector keeps improving until the imporvement is greater than 0.1 (in terms of slope)\n",
    "    \n",
    "    while difference>0.1:\n",
    "        \n",
    "        #storing the current slope\n",
    "        previous_slope=slope(new)\n",
    "        \n",
    "        #calculating the new vector\n",
    "        new=np.dot(transformation,new)\n",
    "        \n",
    "        #checking the difference\n",
    "        difference=np.abs(slope(new)-previous_slope)\n",
    "        \n",
    "        \n",
    "    return new,slope(new)"
   ]
  },
  {
   "cell_type": "code",
   "execution_count": 46,
   "metadata": {},
   "outputs": [
    {
     "data": {
      "text/plain": [
       "array([[12.57373127, 28.26817344],\n",
       "       [28.26817344, 66.7091592 ]])"
      ]
     },
     "execution_count": 46,
     "metadata": {},
     "output_type": "execute_result"
    }
   ],
   "source": [
    "#calculating the co-variance matrix of x and y\n",
    "#we call this the transformation matrix\n",
    "\n",
    "transformation=np.cov(shifted_points[:,0],shifted_points[:,1])\n",
    "transformation"
   ]
  },
  {
   "cell_type": "code",
   "execution_count": 47,
   "metadata": {},
   "outputs": [],
   "source": [
    "#getting the vector and it's slope\n",
    "vector,slope=best_line(transformation,initial_vector)\n",
    "\n",
    "#finding the unit vector in direction of our vector\n",
    "unit_vector=[vector[0],vector[1]]/np.linalg.norm(vector)\n",
    "\n",
    "#taking the minimum and maximum of the principal component, x in this case.\n",
    "#this is to plot the vector on the graph\n",
    "min_x=min(shifted_points[:,0])-2\n",
    "max_x=max(shifted_points[:,0])+2"
   ]
  },
  {
   "cell_type": "code",
   "execution_count": 48,
   "metadata": {},
   "outputs": [
    {
     "name": "stdout",
     "output_type": "stream",
     "text": [
      "[0.919668504377138, -0.3926956099279925]\n"
     ]
    }
   ],
   "source": [
    "#finding the slople of the vector perpendicular to our vector\n",
    "#this vector is along the other component\n",
    "theta=np.arctan(-1/slope)\n",
    "\n",
    "#finding the unit vector along the perpendicular vector\n",
    "unit_vector2=[np.cos(theta),np.sin(theta)]\n",
    "\n",
    "print(unit_vector2)"
   ]
  },
  {
   "cell_type": "code",
   "execution_count": 57,
   "metadata": {},
   "outputs": [
    {
     "data": {
      "image/png": "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\n",
      "text/plain": [
       "<Figure size 576x576 with 1 Axes>"
      ]
     },
     "metadata": {},
     "output_type": "display_data"
    }
   ],
   "source": [
    "#plotting 2 points on our principal component vector, (max_x,slope*max_x) and (min_x,slope*min_x)\n",
    "#this displays our vector on the figure\n",
    "plt.figure(figsize=(8,8))\n",
    "\n",
    "plt.axis('equal')\n",
    "\n",
    "plt.plot([min_x,max_x],[slope*min_x,slope*max_x])\n",
    "\n",
    "#displaying the vector along the other component\n",
    "plt.plot([0,1],[0,(-1/slope)])\n",
    "\n",
    "#displaying the dataset\n",
    "plt.scatter(shifted_points[:,0],shifted_points[:,1])\n",
    "plt.show()"
   ]
  },
  {
   "cell_type": "code",
   "execution_count": null,
   "metadata": {},
   "outputs": [],
   "source": [
    "#the blue vector doesn't look perpendicular to the red vector because of scaling but they're infact perpendicular\n",
    "#if plt.axis('equal') is uncommented, it could be seen that both the vectors are perpendicular"
   ]
  },
  {
   "cell_type": "code",
   "execution_count": 64,
   "metadata": {},
   "outputs": [],
   "source": [
    "#calculating the squared distances of the points with both the vectors\n",
    "#this would be used later to effect each component has on the data\n",
    "distance=0\n",
    "distance2=0\n",
    "distance+=(np.dot(shifted_points,unit_vector))\n",
    "distance2+=(np.dot(shifted_points,unit_vector2))"
   ]
  },
  {
   "cell_type": "code",
   "execution_count": 59,
   "metadata": {},
   "outputs": [],
   "source": [
    "#considering the square distances\n",
    "\n",
    "PCA_1=sum(distance**2)\n",
    "PCA_2=sum(distance2**2)"
   ]
  },
  {
   "cell_type": "code",
   "execution_count": 67,
   "metadata": {},
   "outputs": [],
   "source": [
    "#calculating the average squared distance along each component\n",
    "\n",
    "eigen_1=PCA_1/(len(shifted_points))\n",
    "eigen_2=PCA_2/(len(shifted_points))"
   ]
  },
  {
   "cell_type": "code",
   "execution_count": 68,
   "metadata": {},
   "outputs": [
    {
     "name": "stdout",
     "output_type": "stream",
     "text": [
      "77.69986805858707 0.49695542509726043\n"
     ]
    }
   ],
   "source": [
    "print(eigen_1,eigen_2)"
   ]
  },
  {
   "cell_type": "code",
   "execution_count": 71,
   "metadata": {},
   "outputs": [],
   "source": [
    "#calculating how much each component affects the data\n",
    "PCA_1_percent=eigen_1/(eigen_1+eigen_2)*100\n",
    "PCA_2_percent=eigen_2/(eigen_1+eigen_2)*100"
   ]
  },
  {
   "cell_type": "code",
   "execution_count": 72,
   "metadata": {},
   "outputs": [
    {
     "name": "stdout",
     "output_type": "stream",
     "text": [
      "99.364481314 0.6355186860000133\n"
     ]
    }
   ],
   "source": [
    "print(PCA_1_percent,PCA_2_percent)"
   ]
  }
 ],
 "metadata": {
  "kernelspec": {
   "display_name": "Python 3",
   "language": "python",
   "name": "python3"
  },
  "language_info": {
   "codemirror_mode": {
    "name": "ipython",
    "version": 3
   },
   "file_extension": ".py",
   "mimetype": "text/x-python",
   "name": "python",
   "nbconvert_exporter": "python",
   "pygments_lexer": "ipython3",
   "version": "3.6.5"
  }
 },
 "nbformat": 4,
 "nbformat_minor": 2
}
=======
{
 "cells": [
  {
   "cell_type": "markdown",
   "metadata": {},
   "source": [
    "#Principal Component Analysis"
   ]
  },
  {
   "cell_type": "markdown",
   "metadata": {},
   "source": [
    "In real world data analysis tasks we analyze complex data i.e. multi dimensional data. We plot the data and find various patterns in it or use it to train some machine learning models. One way to think about dimensions is that suppose you have an data point x , if we consider this data point as a physical object then dimensions are merely a basis of view, like where is the data located when it is observed from horizontal axis or vertical axis.\n",
    "\n",
    "As the dimensions of data increases, the difficulty to visualize it and perform computations on it also increases. So, how to reduce the dimensions of a data-\n",
    "..Remove the redundant dimensions\n",
    "\n",
    "..Only keep the most important dimensions\n",
    "\n",
    "###what does PCA do?\n",
    "PCA finds a new set of dimensions (or a set of basis of views) such that all the dimensions are orthogonal (and hence linearly independent) and ranked according to the variance of data along them. It means more important principle\n",
    "axis occurs first. (more important = more variance/more spread out data)\n",
    "\n",
    "###How does PCA work -\n",
    "1.. Calculate the covariance matrix X of data points.\n",
    "\n",
    "2.. Calculate eigen vectors and corresponding eigen values.\n",
    "\n",
    "3.. Sort the eigen vectors according to their eigen values in decreasing order.\n",
    "\n",
    "4.. Choose first k eigen vectors and that will be the new k dimensions.\n",
    "\n",
    "5.. Transform the original n dimensional data points into k dimensions.\n",
    "\n",
    "\n",
    "###This goal of PCA -\n",
    "1.. Find linearly independent dimensions (or basis of views) which can losslessly represent the data points.\n",
    "\n",
    "2.. Those newly found dimensions should allow us to predict/reconstruct the original dimensions.The reconstruction/projection error should be minimized.\n"
   ]
  },
  {
   "cell_type": "code",
   "execution_count": 74,
   "metadata": {},
   "outputs": [],
   "source": [
    "import numpy as np\n",
    "import matplotlib.pyplot as plt\n",
    "from matplotlib import style\n",
    "%matplotlib inline\n",
    "import pandas as pd\n",
    "style.use('ggplot')\n",
    "from PIL import Image"
   ]
  },
  {
   "cell_type": "code",
   "execution_count": null,
   "metadata": {},
   "outputs": [],
   "source": []
  },
  {
   "cell_type": "code",
   "execution_count": 23,
   "metadata": {},
   "outputs": [],
   "source": [
    "df=pd.read_csv('bear_Oh_bear.csv')\n",
    "df.drop(['Bear Index'],1,inplace=True)\n",
    "headers = df.dtypes.index\n",
    "header=headers.tolist()\n",
    "\n",
    "y=np.array(df['Fur Growth'][::5])\n",
    "x=np.array(df['Temperature Change'][::5])"
   ]
  },
  {
   "cell_type": "code",
   "execution_count": 24,
   "metadata": {},
   "outputs": [],
   "source": [
    "#reading the dataset into an numpy array\n",
    "\n",
    "points=np.array([x,y])\n",
    "points=points.T"
   ]
  },
  {
   "cell_type": "code",
   "execution_count": 25,
   "metadata": {},
   "outputs": [],
   "source": [
    "#shifting the dataset to the origin to make calculations easier and reduce complexity\n",
    "\n",
    "mean_x=np.mean(points[:,0])\n",
    "mean_y=np.mean(points[:,1])\n",
    "new_points=np.array([points[:,0]-mean_x,points[:,1]-mean_y])\n",
    "shifted=[]\n",
    "for i in range(len(points)):\n",
    "    shifted.append([new_points[0][i],new_points[1][i]])\n",
    "shifted_points=np.array(shifted)"
   ]
  },
  {
   "cell_type": "code",
   "execution_count": 66,
   "metadata": {},
   "outputs": [
    {
     "data": {
      "text/plain": [
       "<matplotlib.collections.PathCollection at 0x16f48f0>"
      ]
     },
     "execution_count": 66,
     "metadata": {},
     "output_type": "execute_result"
    },
    {
     "data": {
      "image/png": "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\n",
      "text/plain": [
       "<Figure size 432x288 with 1 Axes>"
      ]
     },
     "metadata": {},
     "output_type": "display_data"
    }
   ],
   "source": [
    "plt.scatter(shifted_points[:,0],shifted_points[:,1])"
   ]
  },
  {
   "cell_type": "code",
   "execution_count": 43,
   "metadata": {},
   "outputs": [],
   "source": [
    "#returns the slope of the vector\n",
    "#vector=ai+bj\n",
    "#slope =b/a\n",
    "\n",
    "def slope(vector):\n",
    "    return (vector[1]/float(vector[0]))"
   ]
  },
  {
   "cell_type": "code",
   "execution_count": 44,
   "metadata": {},
   "outputs": [],
   "source": [
    "#initializing a random vector\n",
    "\n",
    "initial_vector=np.array([1,1]).T"
   ]
  },
  {
   "cell_type": "code",
   "execution_count": 45,
   "metadata": {},
   "outputs": [],
   "source": [
    "def best_line(transformation,initial_vector):\n",
    "    difference=1    #random initialization\n",
    "    \n",
    "    #initializing our new vector as being equal to the random vector we generated above\n",
    "    #as the block runs the new vector will become more and more accuratly aligned with the\n",
    "    #principle component axis\n",
    "    \n",
    "    new=initial_vector\n",
    "    \n",
    "    #the vector keeps improving until the imporvement is greater than 0.1 (in terms of slope)\n",
    "    \n",
    "    while difference>0.1:\n",
    "        \n",
    "        #storing the current slope\n",
    "        previous_slope=slope(new)\n",
    "        \n",
    "        #calculating the new vector\n",
    "        new=np.dot(transformation,new)\n",
    "        \n",
    "        #checking the difference\n",
    "        difference=np.abs(slope(new)-previous_slope)\n",
    "        \n",
    "        \n",
    "    return new,slope(new)"
   ]
  },
  {
   "cell_type": "code",
   "execution_count": 46,
   "metadata": {},
   "outputs": [
    {
     "data": {
      "text/plain": [
       "array([[12.57373127, 28.26817344],\n",
       "       [28.26817344, 66.7091592 ]])"
      ]
     },
     "execution_count": 46,
     "metadata": {},
     "output_type": "execute_result"
    }
   ],
   "source": [
    "#calculating the co-variance matrix of x and y\n",
    "#we call this the transformation matrix\n",
    "\n",
    "transformation=np.cov(shifted_points[:,0],shifted_points[:,1])\n",
    "transformation"
   ]
  },
  {
   "cell_type": "code",
   "execution_count": 47,
   "metadata": {},
   "outputs": [],
   "source": [
    "#getting the vector and it's slope\n",
    "vector,slope=best_line(transformation,initial_vector)\n",
    "\n",
    "#finding the unit vector in direction of our vector\n",
    "unit_vector=[vector[0],vector[1]]/np.linalg.norm(vector)\n",
    "\n",
    "#taking the minimum and maximum of the principal component, x in this case.\n",
    "#this is to plot the vector on the graph\n",
    "min_x=min(shifted_points[:,0])-2\n",
    "max_x=max(shifted_points[:,0])+2"
   ]
  },
  {
   "cell_type": "code",
   "execution_count": 48,
   "metadata": {},
   "outputs": [
    {
     "name": "stdout",
     "output_type": "stream",
     "text": [
      "[0.919668504377138, -0.3926956099279925]\n"
     ]
    }
   ],
   "source": [
    "#finding the slople of the vector perpendicular to our vector\n",
    "#this vector is along the other component\n",
    "theta=np.arctan(-1/slope)\n",
    "\n",
    "#finding the unit vector along the perpendicular vector\n",
    "unit_vector2=[np.cos(theta),np.sin(theta)]\n",
    "\n",
    "print(unit_vector2)"
   ]
  },
  {
   "cell_type": "code",
   "execution_count": 57,
   "metadata": {},
   "outputs": [
    {
     "data": {
      "image/png": "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\n",
      "text/plain": [
       "<Figure size 576x576 with 1 Axes>"
      ]
     },
     "metadata": {},
     "output_type": "display_data"
    }
   ],
   "source": [
    "#plotting 2 points on our principal component vector, (max_x,slope*max_x) and (min_x,slope*min_x)\n",
    "#this displays our vector on the figure\n",
    "plt.figure(figsize=(8,8))\n",
    "\n",
    "plt.axis('equal')\n",
    "\n",
    "plt.plot([min_x,max_x],[slope*min_x,slope*max_x])\n",
    "\n",
    "#displaying the vector along the other component\n",
    "plt.plot([0,1],[0,(-1/slope)])\n",
    "\n",
    "#displaying the dataset\n",
    "plt.scatter(shifted_points[:,0],shifted_points[:,1])\n",
    "plt.show()"
   ]
  },
  {
   "cell_type": "code",
   "execution_count": null,
   "metadata": {},
   "outputs": [],
   "source": [
    "#the blue vector doesn't look perpendicular to the red vector because of scaling but they're infact perpendicular\n",
    "#if plt.axis('equal') is uncommented, it could be seen that both the vectors are perpendicular"
   ]
  },
  {
   "cell_type": "code",
   "execution_count": 64,
   "metadata": {},
   "outputs": [],
   "source": [
    "#calculating the squared distances of the points with both the vectors\n",
    "#this would be used later to effect each component has on the data\n",
    "distance=0\n",
    "distance2=0\n",
    "distance+=(np.dot(shifted_points,unit_vector))\n",
    "distance2+=(np.dot(shifted_points,unit_vector2))"
   ]
  },
  {
   "cell_type": "code",
   "execution_count": 59,
   "metadata": {},
   "outputs": [],
   "source": [
    "#considering the square distances\n",
    "\n",
    "PCA_1=sum(distance**2)\n",
    "PCA_2=sum(distance2**2)"
   ]
  },
  {
   "cell_type": "code",
   "execution_count": 67,
   "metadata": {},
   "outputs": [],
   "source": [
    "#calculating the average squared distance along each component\n",
    "\n",
    "eigen_1=PCA_1/(len(shifted_points))\n",
    "eigen_2=PCA_2/(len(shifted_points))"
   ]
  },
  {
   "cell_type": "code",
   "execution_count": 68,
   "metadata": {},
   "outputs": [
    {
     "name": "stdout",
     "output_type": "stream",
     "text": [
      "77.69986805858707 0.49695542509726043\n"
     ]
    }
   ],
   "source": [
    "print(eigen_1,eigen_2)"
   ]
  },
  {
   "cell_type": "code",
   "execution_count": 71,
   "metadata": {},
   "outputs": [],
   "source": [
    "#calculating how much each component affects the data\n",
    "PCA_1_percent=eigen_1/(eigen_1+eigen_2)*100\n",
    "PCA_2_percent=eigen_2/(eigen_1+eigen_2)*100"
   ]
  },
  {
   "cell_type": "code",
   "execution_count": 72,
   "metadata": {},
   "outputs": [
    {
     "name": "stdout",
     "output_type": "stream",
     "text": [
      "99.364481314 0.6355186860000133\n"
     ]
    }
   ],
   "source": [
    "print(PCA_1_percent,PCA_2_percent)"
   ]
  }
 ],
 "metadata": {
  "kernelspec": {
   "display_name": "Python 3",
   "language": "python",
   "name": "python3"
  },
  "language_info": {
   "codemirror_mode": {
    "name": "ipython",
    "version": 3
   },
   "file_extension": ".py",
   "mimetype": "text/x-python",
   "name": "python",
   "nbconvert_exporter": "python",
   "pygments_lexer": "ipython3",
   "version": "3.6.5"
  }
 },
 "nbformat": 4,
 "nbformat_minor": 2
}
>>>>>>> 7f807316aa2366b4fa08e23f19d08388ab45ca5b

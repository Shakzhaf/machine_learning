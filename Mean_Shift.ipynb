{
 "cells": [
  {
   "cell_type": "markdown",
   "metadata": {},
   "source": [
    "##Mean Shift"
   ]
  },
  {
   "cell_type": "markdown",
   "metadata": {},
   "source": [
    "Meanshift is a clustering algorithm that assigns the datapoints to the clusters iteratively by shifting points towards the mode. The mode can be understood as the highest density of datapoints (in the region, in the context of the Meanshift). As such, it is also known as the mode-seeking algorithm. Meanshift algorithm has applications in the field of image processing and computer vision.\n",
    "\n",
    "Given a set of datapoints, the algorithm iteratively assign each datapoint towards the closest cluster centroid. The direction to the closest cluster centroid is determined by where most of the points nearby are at. So each iteration each data point will move closer to where the most points are at, which is or will lead to the cluster center. When the algorithm stops, each point is assigned to a cluster.\n",
    "\n",
    "Unlike the popular K-Means algorithm, meanshift does not require specifying the number of clusters in advance. The number of clusters is determined by the algorithm with respect to the data."
   ]
  },
  {
   "cell_type": "code",
   "execution_count": 1,
   "metadata": {},
   "outputs": [],
   "source": [
    "import matplotlib.pyplot as plt\n",
    "from matplotlib import style\n",
    "style.use('ggplot')\n",
    "import numpy as np\n",
    "import pandas as pd\n",
    "import random"
   ]
  },
  {
   "cell_type": "code",
   "execution_count": 9,
   "metadata": {},
   "outputs": [],
   "source": [
    "x=np.array([[1,2],\n",
    "          [1.5,1.8],\n",
    "          [5,8],\n",
    "          [1,0.6],\n",
    "          [9,11],\n",
    "          [8,2],\n",
    "          [10,2],\n",
    "          [9,3]])\n",
    "color=10*['g','r','c','b','k']"
   ]
  },
  {
   "cell_type": "code",
   "execution_count": 14,
   "metadata": {},
   "outputs": [
    {
     "data": {
      "text/plain": [
       "array([[ 1. ,  2. ],\n",
       "       [ 1.5,  1.8],\n",
       "       [ 5. ,  8. ],\n",
       "       [ 1. ,  0.6],\n",
       "       [ 9. , 11. ],\n",
       "       [ 8. ,  2. ],\n",
       "       [10. ,  2. ],\n",
       "       [ 9. ,  3. ]])"
      ]
     },
     "execution_count": 14,
     "metadata": {},
     "output_type": "execute_result"
    }
   ],
   "source": [
    "x"
   ]
  },
  {
   "cell_type": "code",
   "execution_count": 10,
   "metadata": {},
   "outputs": [],
   "source": [
    "class Mean_shift:\n",
    "    def __init__(self,radius=10):\n",
    "        self.radius=radius\n",
    "        \n",
    "    def fit(self,data):\n",
    "        #initializing a dictionary of centroids as empty\n",
    "        centroids={}\n",
    "        \n",
    "        #initially we considering all points as centroids and take them in our centroids dictionary because, why not?\n",
    "        #so now we have n centroids (where n is the number of points in data)\n",
    "        #each group will have a key its value will be its centroid\n",
    "        for i in range(len(data)):\n",
    "            centroids[i]=data[i]\n",
    "        \n",
    "        #this loop will run until the values of centroids stops changing.\n",
    "        #at each iteration the values of centroids will change, we'll compare these new values to the values from\n",
    "        #the previous iteration and if they are same, the loop will break.\n",
    "        #if previous_centroid==current_centroids then stop\n",
    "        while True:\n",
    "            \n",
    "            #intializing a list to store our new centroids, that we'll get from this loop\n",
    "            new_centroids=[]\n",
    "            \n",
    "            #now we will find the distance of each point with each centroid\n",
    "            for group in centroids:\n",
    "                \n",
    "                #initializing a list to store the points that lie within the circle of given radius from a particular centroid\n",
    "                #we will consider each centroid one-by-one from the dictionary centroids\n",
    "                in_radius=[]\n",
    "                \n",
    "                #read this as, centroid=centroid of group n, eg: centroid = centroid of group 1\n",
    "                centroid=centroids[group]\n",
    "                \n",
    "                #consider each point in the data one-by-one\n",
    "                for point in data:\n",
    "                    \n",
    "                    #if the point lies inside the circle(distance is less than given radius) then append the point\n",
    "                    #in the list in_radius\n",
    "                    if np.linalg.norm(point-centroid)<=self.radius:\n",
    "                        in_radius.append(point)\n",
    "                \n",
    "                #calculate new centroids by taking average of the points stored in in_radius list and then store them\n",
    "                new_centroid=tuple(np.average(in_radius,axis=0))\n",
    "                new_centroids.append(new_centroid)\n",
    "            \n",
    "            #now convert the new_centroid list to a set and sort them and store them\n",
    "            #the sorting is done so that we can do accurate comparison further in the porgram\n",
    "            uniques=sorted(list(set(new_centroids)))\n",
    "            \n",
    "            #previous centroids is saved as well\n",
    "            prev_centroids=dict(centroids)\n",
    "            \n",
    "            #emptying our dictionary and then saving new key-value pairs in it\n",
    "            centroids={}\n",
    "            \n",
    "            #putting each unique value in the dictionary, the key value correspond to the group\n",
    "            for i in range(len(uniques)):\n",
    "                centroids[i]=np.array(uniques[i])\n",
    "             \n",
    "            #set optimized to true\n",
    "            optimized=True\n",
    "            \n",
    "            #read line 15\n",
    "            for i in centroids:\n",
    "                if(np.array_equal(centroids[i],prev_centroids[i]))!=True:\n",
    "                    optimized=False\n",
    "                    break\n",
    "                    \n",
    "            if optimized:\n",
    "                break\n",
    "                \n",
    "        self.centroids=centroids\n",
    "        return self.centroids\n",
    "    \n",
    "    def predict(self,data,point):\n",
    "        distance=[]\n",
    "        centroids=self.fit(data)\n",
    "        plt.scatter(data[:,0],data[:,1],s=150)\n",
    "        for c in centroids:\n",
    "            plt.scatter(centroids[c][0],centroids[c][1], color='k',marker='*',s=150)\n",
    "        plt.scatter(point[0],point[1],color='b',s=100,marker='o')\n",
    "        plt.show\n",
    "        for centroid in centroids:\n",
    "            distance.append(np.linalg.norm(np.array(point)-centroid))\n",
    "        return distance.index(min(distance))"
   ]
  },
  {
   "cell_type": "raw",
   "metadata": {},
   "source": [
    "'''\n",
    "for r in range(1,1000):\n",
    "    print r\n",
    "    clf=Mean_shift(radius=r)\n",
    "    centroids=clf.fit(x)\n",
    "    if len(centroids)==2:\n",
    "        print r,'done'\n",
    "        break\n",
    "#plt.scatter(x[:,0],x[:,1],s=150)\n",
    "\n",
    "#for c in centroids:\n",
    "#    plt.scatter(centroids[c][0],centroids[c][1], color='k',marker='*',s=150)\n",
    "#plt.show\n",
    "'''"
   ]
  },
  {
   "cell_type": "code",
   "execution_count": 22,
   "metadata": {},
   "outputs": [
    {
     "data": {
      "text/plain": [
       "<function matplotlib.pyplot.show(*args, **kw)>"
      ]
     },
     "execution_count": 22,
     "metadata": {},
     "output_type": "execute_result"
    },
    {
     "data": {
      "image/png": "[encoded data removed]",
      "text/plain": [
       "<Figure size 432x288 with 1 Axes>"
      ]
     },
     "metadata": {},
     "output_type": "display_data"
    }
   ],
   "source": [
    "clc=Mean_shift(radius=5)\n",
    "centroids=clc.fit(x)\n",
    "for c in centroids:\n",
    "    plt.scatter(centroids[c][0],centroids[c][1], color='k',marker='*',s=150)\n",
    "plt.title('centroids')\n",
    "plt.show"
   ]
  },
  {
   "cell_type": "code",
   "execution_count": 20,
   "metadata": {},
   "outputs": [
    {
     "name": "stdout",
     "output_type": "stream",
     "text": [
      "belongs to cluster:\n"
     ]
    },
    {
     "data": {
      "text/plain": [
       "2"
      ]
     },
     "execution_count": 20,
     "metadata": {},
     "output_type": "execute_result"
    },
    {
     "data": {
      "image/png": "[encoded data removed]",
      "text/plain": [
       "<Figure size 432x288 with 1 Axes>"
      ]
     },
     "metadata": {},
     "output_type": "display_data"
    }
   ],
   "source": [
    "print('belongs to cluster:')\n",
    "clc.predict(x,x[5])"
   ]
  },
  {
   "cell_type": "code",
   "execution_count": 21,
   "metadata": {},
   "outputs": [
    {
     "name": "stdout",
     "output_type": "stream",
     "text": [
      "belongs to cluster:\n"
     ]
    },
    {
     "data": {
      "text/plain": [
       "1"
      ]
     },
     "execution_count": 21,
     "metadata": {},
     "output_type": "execute_result"
    },
    {
     "data": {
      "image/png": "[encoded data removed]",
      "text/plain": [
       "<Figure size 432x288 with 1 Axes>"
      ]
     },
     "metadata": {},
     "output_type": "display_data"
    }
   ],
   "source": [
    "print('belongs to cluster:')\n",
    "\n",
    "clc.predict(x,x[0])"
   ]
  },
  {
   "cell_type": "code",
   "execution_count": null,
   "metadata": {},
   "outputs": [],
   "source": []
  },
  {
   "cell_type": "code",
   "execution_count": null,
   "metadata": {},
   "outputs": [],
   "source": []
  }
 ],
 "metadata": {
  "kernelspec": {
   "display_name": "Python 3",
   "language": "python",
   "name": "python3"
  },
  "language_info": {
   "codemirror_mode": {
    "name": "ipython",
    "version": 3
   },
   "file_extension": ".py",
   "mimetype": "text/x-python",
   "name": "python",
   "nbconvert_exporter": "python",
   "pygments_lexer": "ipython3",
   "version": "3.6.5"
  }
 },
 "nbformat": 4,
 "nbformat_minor": 2
}
